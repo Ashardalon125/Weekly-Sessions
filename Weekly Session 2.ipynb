{
 "cells": [
  {
   "cell_type": "markdown",
   "metadata": {},
   "source": [
    "# Physics 325, Spring 2018, Weekly Session 2: Graphing <a id='home'></a> "
   ]
  },
  {
   "cell_type": "markdown",
   "metadata": {},
   "source": [
    "## Styling the notebook\n",
    "\n",
    "I tweaked the file style.css a little.  I turned the answer boxes a light blue color (basically so they are easier to see).  If black on light blue isn't a good color for you, you're welcome to skip this set.  The procedure to see them is as last week.\n",
    "* Download the style sheet _style.css_ to the same folder as this notebook (it could be elsewere - ask about that if you like). \n",
    "* Study the next cell in the notebook [linked here](#last_cell) - you need to enter the path name for the file on your local machine.\n",
    "* In a blank python cell type the command \"%pwd\" which is an in-line command which stands for \"print working directory\" that comes from the Unix-command line.  You should see a file path.\n",
    "    * On my Mac it reads: \n",
    "     '/Users/mcde2235/Box Sync/Coursework/PHY325/Spring2018/Weekly-Sessions'\n",
    "    * On a lab Windows machine it reads: \n",
    "     'C:\\\\Users\\\\workshop\\\\Documents\\\\GitHub\\\\Test_Folder\\\\Weekly-Sessions'\n",
    "     \n",
    "* Modify the source code in the python cell to have that filepath (keep the filename).  The example below has been modified for my Mac\n",
    "    \n",
    "* you should see light blue Markdown cells throughout the notebook meant for you to fill in your answers\n",
    "    \n",
    "* <font color=hotpink> Miss pink?  </font>  Well, this is the perfect opportunity to learn a little about the HTML style sheet.  Open the file and adjust the color - the color codes are currently Hex style - just google \"HTML color codes\" and dig around to pick a favorite.  "
   ]
  },
  {
   "cell_type": "code",
   "execution_count": 3,
   "metadata": {},
   "outputs": [
    {
     "name": "stdout",
     "output_type": "stream",
     "text": [
      " Volume in drive C is OS\n",
      " Volume Serial Number is FE3E-5E0A\n",
      "\n",
      " Directory of C:\\Users\\workshop\\Documents\\GitHub\\Johan\\Weekly-Sessions-master\\Weekly-Sessions-master\n",
      "\n"
     ]
    },
    {
     "name": "stderr",
     "output_type": "stream",
     "text": [
      "File Not Found\n"
     ]
    }
   ],
   "source": [
    "ls()"
   ]
  },
  {
   "cell_type": "code",
   "execution_count": 10,
   "metadata": {},
   "outputs": [
    {
     "data": {
      "text/html": [
       "<style>\n",
       "div.warn {\n",
       "    background-color: black;\n",
       "    border-color: #dFb5b4;\n",
       "    border-left: 5px solid #dfb5b4;\n",
       "    padding: 0.5em\n",
       "    color: white;\n",
       "    }\n",
       " </style>\n",
       "\n",
       " <style>\n",
       " div.answer {\n",
       "     background-color: lightblue;\n",
       "     border-color: #dFb5b4;\n",
       "     border-left: 5px solid #dfb5b4;\n",
       "     padding: 0.5em\n",
       "     }\n",
       "  </style>\n"
      ],
      "text/plain": [
       "<IPython.core.display.HTML object>"
      ]
     },
     "execution_count": 10,
     "metadata": {},
     "output_type": "execute_result"
    }
   ],
   "source": [
    "#For colored cells, currently black cells, white text is added in Markdown\n",
    "#https://stackoverflow.com/questions/18024769/adding-custom-styled-paragraphs-in-markdown-cells\n",
    "from IPython.core.display import HTML\n",
    "def css_styling():\n",
    "    styles = open(\"C:\\\\Users\\\\workshop\\\\Documents\\\\GitHub\\\\Johan\\\\Weekly-Sessions-master\\\\Weekly-Sessions-master\\\\style.css\", \"r\").read()\n",
    "    return HTML(styles)\n",
    "css_styling()"
   ]
  },
  {
   "cell_type": "markdown",
   "metadata": {},
   "source": [
    "<div class=answer>\n",
    "*This should be a blue cell with black font if you set the filepath correctly*</font>\n",
    "<div/>"
   ]
  },
  {
   "cell_type": "code",
   "execution_count": 8,
   "metadata": {},
   "outputs": [
    {
     "data": {
      "text/plain": [
       "'C:\\\\Users\\\\workshop\\\\Documents\\\\GitHub\\\\Johan\\\\Weekly-Sessions-master\\\\Weekly-Sessions-master'"
      ]
     },
     "execution_count": 8,
     "metadata": {},
     "output_type": "execute_result"
    }
   ],
   "source": [
    "%pwd  #run this cell to \"print working directory\" or pwd"
   ]
  },
  {
   "cell_type": "markdown",
   "metadata": {},
   "source": [
    "<div class=answer>\n",
    "# Notebook Instructions: \n",
    "\n",
    "1.  Switch off between *driver* and *navigator* roles\n",
    "between each exercise.  Thus, if you are typing Python code on the computer for Exercise 1, your partner should be doing the typing on Exercise 2, and so on.  \n",
    "\n",
    "2. You can and should use a whiteboard to do the physics and variable traces.  \n",
    "\n",
    "4.  Complete the following exercises in-line.\n",
    "\n",
    "5.  Don't be shy about copy/paste to recycle bits of code within the document.  Just make sure you understand what pieces you need and how to modify them.\n",
    "</font>\n",
    "<div/>"
   ]
  },
  {
   "cell_type": "markdown",
   "metadata": {
    "collapsed": true
   },
   "source": [
    "# The goals for the week are to practice: \n",
    "  * using a Jupyter Notebook, \n",
    "  * forking a document with GitHub \n",
    "  * the following Python fundamentals:\n",
    "\n",
    "     * Intro to pylab - which is a Matplotlib module - plots, scatter plots, density plots, and their methods\n",
    "     \n",
    "     * Practice the basic elements of programming which appear in virtually all\n",
    "       \"procedural\" programming languages: flow-control constructs\n",
    "        if, while, and for, user-defined functions, and\n",
    "        lists (more traditional languages may only have arrays, not lists, but\n",
    "        the basic ideas are similar.\n",
    "            \n",
    "     * File I/O - using Numpy's loadtxt (as in Newman) and more general methods\n",
    "         \n",
    "     * Lab Topics: Curve Fitting + Photoelectric Effect, Radioactive Decay, Projectile Motion  \n",
    "        \n",
    "     * Ch 3 End of Chapter Exercises: \n",
    "         * Deterministic Chaos\n",
    "         * Mandlebrot Set\n",
    "         * Photoelectric Effect + Least Squares Fitting\n",
    "     "
   ]
  },
  {
   "cell_type": "markdown",
   "metadata": {},
   "source": [
    "# GitHub Instructions \n",
    "\n",
    "1.  Fork the Weekly-Sessions repo to your GitHub account\n",
    "\n",
    "2.  Clone the Weekly-Sessions Repo to the local machine\n",
    "\n",
    "3.  Make a branch - call it something like \"Completed-work\" and leave the Master branch untouched.\n",
    "\n",
    "4.  Save your changes regularly and push them back to the online GitHub repo\n",
    "\n",
    "5.  On Wednesday, make sure the other partner does this procedure with their account.\n",
    "\n",
    "6.  At the end of the week, it will be left to each partner to individually complete any unfinished session work, and submit the final copy via GitHub."
   ]
  },
  {
   "cell_type": "markdown",
   "metadata": {},
   "source": [
    "### Data Science at its best\n",
    "\n",
    "Go to the following link: [https://xkcd.com/1950/](https://xkcd.com/1950/)\n",
    "\n",
    "*And yes, I think having as a child is a Chicken Pox is totally normal thing.*"
   ]
  },
  {
   "cell_type": "markdown",
   "metadata": {},
   "source": [
    "# Monday Feb 5 , 2018 <a id='Monday'></a>"
   ]
  },
  {
   "cell_type": "markdown",
   "metadata": {},
   "source": [
    "# Exercise 0: A useful tool for debugging and running various cases"
   ]
  },
  {
   "cell_type": "markdown",
   "metadata": {},
   "source": [
    "To start with, a mundane but very common use for a logical (or _Boolean_) variable is as a\n",
    "switch -- you can \"switch on\" or \"switch off\" certain parts of the program just by setting\n",
    "one logical variable. For instance:\n",
    "\n",
    "```python\n",
    "verbose = False\n",
    "if (verbose):\n",
    "    print (\"Hello!\")\n",
    "``` \n",
    "\n",
    "## Using the code above as a sample, write a function that returns True if a random number (between 0 and 1) is greater than 0.5 and returns False otherwise.\n",
    "\n",
    "Recall last week we imported the module named ```random```, and used the function ```random.random()```.\n",
    "Every time you call this function, it generates a random real number in the interval $[0,1)$."
   ]
  },
  {
   "cell_type": "code",
   "execution_count": 17,
   "metadata": {},
   "outputs": [
    {
     "name": "stdout",
     "output_type": "stream",
     "text": [
      "0.08373884992141378\n",
      "False\n"
     ]
    }
   ],
   "source": [
    "#try your code here.\n",
    "import random\n",
    "def detector():\n",
    "    test=random.random()\n",
    "    #print(test) Used to ensure test is in range\n",
    "    benchmark=0.5\n",
    "    if(test>benchmark):\n",
    "        print(\"True\")\n",
    "    else:\n",
    "        print(\"False\")\n",
    "\n",
    "detector()"
   ]
  },
  {
   "cell_type": "markdown",
   "metadata": {},
   "source": [
    "What if instead you wanted to run particular calculations, but you didn't want to run them all at once?    This ability to \"switch on\" particular pieces of code is a great development/testing tool.  As you run through examples and exercises, feel free to use this to reuse pieces of code wthout creating new code cells. "
   ]
  },
  {
   "cell_type": "markdown",
   "metadata": {},
   "source": [
    "# Exercise 1: Graphing in Jupyter Notebooks"
   ]
  },
  {
   "cell_type": "markdown",
   "metadata": {},
   "source": [
    "Making graphs directly in a Jupyter Notebook has a few tricks we will learn as we go.  However, the pylab module works great \"out of the box\" in Jupyter, so it is a perfect place to start.  The code for the first example in Newman's Ch 3 has been entered below.  Go ahead and run it, and then __modify it so it is like Newman's second example.__  You are welcome to select more interesting values and play around a bit.  \n",
    "\n",
    "*You'll notice I've modified the import methods so the code differs slightly from Newman's.  \n",
    "I described this in detail in __Weekly Session 1__.\n",
    "To briefly remind you of my logic, it is likely I will use many functions from the pylab module, so I may as well import them all.  Also, it makes it very clear where the function is coming from.  As you continue to code using python modules, you will discover there is overlap between functions - for instance, if you want to use pi, you may import it from math, numpy, or scipy.\n",
    "\n",
    "You'll notice that I've given the module pylab a nickname \"plt.\"  __Why?  Good question.__  It is a common shorthand I learned working with the python.org documentation.  You'll see that regularly in the Python, Numpy, and Matplotlib documentation"
   ]
  },
  {
   "cell_type": "code",
   "execution_count": 2,
   "metadata": {},
   "outputs": [
    {
     "data": {
      "image/png": "[encoded data removed]",
      "text/plain": [
       "<matplotlib.figure.Figure at 0x4ea9208>"
      ]
     },
     "metadata": {},
     "output_type": "display_data"
    }
   ],
   "source": [
    "#run this code - from Newman\n",
    "%matplotlib inline\n",
    "import matplotlib.pylab as plt \n",
    "y = [ 1.0, 2.4, 1.7, 0.3, 0.6, 1.8 ]\n",
    "plt.plot(y)\n",
    "plt.show()"
   ]
  },
  {
   "cell_type": "markdown",
   "metadata": {},
   "source": [
    "Now let's make Newman's sine wave.  I have provided the base code.  \n",
    "    a.  __Modify the code below and reproduce the panels in Newman's Figure 3.3.__  \n",
    "    b.  __Add comments to your modifications to show what you're changing.__\n",
    "\n",
    "*Notice that I already imported pylab, and I call it below without importing again.  Also notice that I'm nicknaming numpy as I did pylab.*"
   ]
  },
  {
   "cell_type": "code",
   "execution_count": 3,
   "metadata": {},
   "outputs": [
    {
     "data": {
      "image/png": "[encoded data removed]",
      "text/plain": [
       "<matplotlib.figure.Figure at 0x4c6d908>"
      ]
     },
     "metadata": {},
     "output_type": "display_data"
    }
   ],
   "source": [
    "import numpy as np \n",
    "x = np.linspace(0,10,100)\n",
    "y = np.sin(x) #added second y2 function\n",
    "y2= np.cos(x)\n",
    "plt.plot(x,y)\n",
    "plt.plot(x,y2,\"--\" ) # added second graph for the y2\n",
    "plt.xlabel(\"x axis\")# added axis label\n",
    "plt.ylabel(\"y=sinx or y=cosx\")# added y axis labels\n",
    "plt.ylim(-1.1,1.1)\n",
    "plt.show()"
   ]
  },
  {
   "cell_type": "markdown",
   "metadata": {},
   "source": [
    "## Intro to object oriented plots.  \n",
    "Unfortunately the code above is considered deprecated.  You can still use it, but in future versions of Matplotlib, you may not be able to. Run the code below and see the deprecation message.  "
   ]
  },
  {
   "cell_type": "code",
   "execution_count": 33,
   "metadata": {
    "collapsed": true
   },
   "outputs": [],
   "source": [
    "x = [.1,.2,.3,.4,.5]\n",
    "y = [.2,.4,.6,.8,1.0]\n",
    "        \n",
    "plt.axes()\n",
    "plt.plot(x, y, 'o')\n",
    "\n",
    "plt.xlim(0, 1)\n",
    "plt.ylim([0, 1])\n",
    "plt.axes().set_aspect('equal')  #this call creates an deprecation message, check it out!\n",
    "plt.show()        "
   ]
  },
  {
   "cell_type": "markdown",
   "metadata": {},
   "source": [
    "If you encounter this message, it isn't the end of the world if your plot does what you want it to.  \n",
    "\n",
    "However, this is a good opportunity to inform you there is a more powerful way to create plots with Matplotlib, with many more options.  Here is a quick intro, and you can find many similar samples on matplotlib.org.  Here is a good example [link](https://matplotlib.org/devdocs/gallery/ticks_and_spines/tick_labels_from_values.html) (which I will reference again later in this document). "
   ]
  },
  {
   "cell_type": "markdown",
   "metadata": {},
   "source": [
    "<div class=answer>\n",
    "### Before I show you the fix, what did the line ```plt.axes().set_aspect('equal') ``` do to the plot above?  Do you think that might be useful?\n",
    "</div>\n",
    "Presumably, it set the axes equal in scale, and seemed to be scaled to the smaller of the two. This would be useful for square plots."
   ]
  },
  {
   "cell_type": "markdown",
   "metadata": {},
   "source": [
    "Here is the object oriented version of a pylab plot.  The major difference is that I give the plot names I can refer to (and call) later to add modifications."
   ]
  },
  {
   "cell_type": "code",
   "execution_count": 34,
   "metadata": {
    "collapsed": true
   },
   "outputs": [],
   "source": [
    "#Intro to object oriented plots\n",
    "\n",
    "#create a figure object (which has an associate set of methods - we won't really use them today)\n",
    "fig = plt.figure()        \n",
    "\n",
    "#create an axes() object that fills the figure (that is what 111 means - this will make sense when we do subplots).  \n",
    "#set the aspect ratio as an optional paramter\n",
    "ax = fig.add_subplot(111, aspect='equal') \n",
    "\n",
    "ax.plot(x, y, 'o')\n",
    "\n",
    "#call methods of the axes() object - note it is slightly different than the plt.xlim() call\n",
    "ax.set_xlim(0, 1)     #similar enough to the other example to be TRULY ANNOYING\n",
    "ax.set_ylim([0, 1])   #likewise\n",
    "\n",
    "plt.show() \n",
    "\n",
    "#no error message!"
   ]
  },
  {
   "cell_type": "markdown",
   "metadata": {},
   "source": [
    "### This object-oriented method is more memory efficient (and clear).   Keep this in mind for your future plot making when they get more complicated."
   ]
  },
  {
   "cell_type": "markdown",
   "metadata": {},
   "source": [
    "# Exercise 2: Introduction to NumPy"
   ]
  },
  {
   "cell_type": "markdown",
   "metadata": {},
   "source": [
    "We haven't yet discussed NumPy, which is the fundamental package for scientific computing with Python.  It is numerically efficient and has many modules for scientific computing.  We will use it throughout the semester.  Let's play around with it a bit.  The following exercises were inspired by the documentation for the linspace function. https://docs.scipy.org/doc/numpy/reference/generated/numpy.linspace.html\n",
    "\n",
    "*There is an incredible amount of helpful information out there, try to be aware of it as a resource, but don't let it overwhelm you.*"
   ]
  },
  {
   "cell_type": "markdown",
   "metadata": {},
   "source": [
    "# What does the numpy function zeros() do?  \n",
    "\n",
    "Run the code and find out.  Play around a bit to see what else you can discover.  Note it is a numpy array, not a list."
   ]
  },
  {
   "cell_type": "code",
   "execution_count": 35,
   "metadata": {
    "scrolled": true
   },
   "outputs": [
    {
     "name": "stdout",
     "output_type": "stream",
     "text": [
      "[ 0.  0.  0.  0.  0.  0.  0.  0.]\n"
     ]
    }
   ],
   "source": [
    "N = 8\n",
    "y = np.zeros(N)\n",
    "print(y)"
   ]
  },
  {
   "cell_type": "code",
   "execution_count": 36,
   "metadata": {},
   "outputs": [
    {
     "ename": "SyntaxError",
     "evalue": "invalid syntax (<ipython-input-36-fec393d6b99c>, line 1)",
     "output_type": "error",
     "traceback": [
      "\u001b[1;36m  File \u001b[1;32m\"<ipython-input-36-fec393d6b99c>\"\u001b[1;36m, line \u001b[1;32m1\u001b[0m\n\u001b[1;33m    <div class=answer>\u001b[0m\n\u001b[1;37m    ^\u001b[0m\n\u001b[1;31mSyntaxError\u001b[0m\u001b[1;31m:\u001b[0m invalid syntax\n"
     ]
    }
   ],
   "source": [
    "<div class=answer>\n",
    "<div/>\n",
    "Everything was zeroes."
   ]
  },
  {
   "cell_type": "markdown",
   "metadata": {},
   "source": [
    "In my own codes, I use the np.zeros() function frequently when I want a numpy array of a particular length, but I don't yet know what values it will contain.  I fill in those values later in a loop.  "
   ]
  },
  {
   "cell_type": "markdown",
   "metadata": {},
   "source": [
    "# What does the numpy function linspace() do? \n",
    "Run the code and find out.  Play around a bit to see what else you can discover.  Be sure to check out the cells below that can visualize your x1 and x2 values.  Note it is a numpy array, not a list."
   ]
  },
  {
   "cell_type": "code",
   "execution_count": 37,
   "metadata": {},
   "outputs": [
    {
     "name": "stdout",
     "output_type": "stream",
     "text": [
      "[  0.           1.42857143   2.85714286   4.28571429   5.71428571\n",
      "   7.14285714   8.57142857  10.        ]\n",
      "[ 0.    1.25  2.5   3.75  5.    6.25  7.5   8.75]\n"
     ]
    }
   ],
   "source": [
    "x1 = np.linspace(0, 10, N, endpoint=True)\n",
    "x2 = np.linspace(0, 10, N, endpoint=False)\n",
    "print(x1)\n",
    "print(x2)"
   ]
  },
  {
   "cell_type": "markdown",
   "metadata": {},
   "source": [
    "<div class=answer>\n",
    "<div/>\n",
    "It makes the spacing consistent between the different values, regardless of normal linespace."
   ]
  },
  {
   "cell_type": "markdown",
   "metadata": {},
   "source": [
    "# Visualize your results (thank scipy.org for the idea)"
   ]
  },
  {
   "cell_type": "code",
   "execution_count": 38,
   "metadata": {
    "collapsed": true
   },
   "outputs": [],
   "source": [
    "plt.plot(x1, y, 'o')\n",
    "plt.plot(x2, y + 0.5, 'o')\n",
    "plt.ylim([-0.5, 1])\n",
    "plt.show()"
   ]
  },
  {
   "cell_type": "markdown",
   "metadata": {},
   "source": [
    "### What does the ```+0.5``` in the line ```plt.plot(x2, y + 0.5, 'o')``` do?  "
   ]
  },
  {
   "cell_type": "markdown",
   "metadata": {},
   "source": [
    "<div class=answer>\n",
    "<div/>\n",
    "It shifts the line upwards by 0.5."
   ]
  },
  {
   "cell_type": "markdown",
   "metadata": {},
   "source": [
    "# Exercise 3: Plotting random numbers"
   ]
  },
  {
   "cell_type": "markdown",
   "metadata": {},
   "source": [
    "## Write a code that plots 100 random numbers in a two dimensional plane.  Make sure the points can go in every quadrant (i.e. have positive or negative x and y values).\n",
    "\n",
    "Note: you may want to set the aspect ratio equal.  This is how I stumbled on the deprecation message."
   ]
  },
  {
   "cell_type": "code",
   "execution_count": 51,
   "metadata": {},
   "outputs": [
    {
     "data": {
      "image/png": "[encoded data removed]",
      "text/plain": [
       "<matplotlib.figure.Figure at 0x7d2eb70>"
      ]
     },
     "metadata": {},
     "output_type": "display_data"
    }
   ],
   "source": [
    "#Write your code here\n",
    "xcoordinate=[]\n",
    "ycoordinate=[]\n",
    "\n",
    "for i in range(100):\n",
    "    x=random.randrange(-100,100)\n",
    "    xcoordinate.append(x)\n",
    "    \n",
    "    y=random.randrange(-100,100)\n",
    "    ycoordinate.append(y)\n",
    "plt.plot(xcoordinate,ycoordinate,\"o\")\n",
    "plt.show()\n",
    "\n",
    "    "
   ]
  },
  {
   "cell_type": "code",
   "execution_count": 45,
   "metadata": {},
   "outputs": [
    {
     "name": "stdout",
     "output_type": "stream",
     "text": [
      "range(0, 100)\n",
      "range(0, 101)\n"
     ]
    }
   ],
   "source": [
    "print(range(100))\n",
    "print(range(101))"
   ]
  },
  {
   "cell_type": "markdown",
   "metadata": {},
   "source": [
    "## Physics question: do your points appear to be randomly distributed to you?  Why?\n",
    "*This may turn into a long tangent, but it is a fun one.  We haven't yet discussed the pseudo random nature of the ```random.random()``` function, but that is NOT what I'm asking about.  Newman doesn't discuss that until Ch 10.  Let's assume your random number generator is doing a very good job emulating true randomness.  Have a look at your output, if you were to draw a random distribution, would you draw it similarly to the one you drew with the computer?  Or what would you do differently?  Explain*"
   ]
  },
  {
   "cell_type": "markdown",
   "metadata": {},
   "source": [
    "<div class=answer>\n",
    "<div/>\n",
    "yes, the computer generated one does appear to look random. even there are clumps and there are holes that is expected random behavior."
   ]
  },
  {
   "cell_type": "markdown",
   "metadata": {},
   "source": [
    "# Exercise 4: Plotting a semi-annulus"
   ]
  },
  {
   "cell_type": "markdown",
   "metadata": {},
   "source": [
    "Lets make a plot of the following figure of a semi-annulus ![semi-annulus](http://sites.math.rutgers.edu/~greenfie/currentcourses/math291/gifstuff/semiannulus.gif)\n",
    "As the good problem solvers we are, break it up into little pieces."
   ]
  },
  {
   "cell_type": "markdown",
   "metadata": {},
   "source": [
    "# Define four linspaces that describe the x-values of the figure."
   ]
  },
  {
   "cell_type": "code",
   "execution_count": 4,
   "metadata": {},
   "outputs": [],
   "source": [
    "x1=np.linspace(-2,-1,100)\n",
    "x2=np.linspace(-1,1,200)\n",
    "x3=np.linspace(1,2,100)\n",
    "x4=np.linspace(-2,2,200)\n",
    "#complete the code here"
   ]
  },
  {
   "cell_type": "markdown",
   "metadata": {},
   "source": [
    "# Define the four corresponding y values.\n",
    "The y1 values are trivial (i.e. they are zero).  The y2 values are trickier.  We need some math:\n",
    "\n",
    "$x^2+y^2=r^2$, where $r=1$, solve for y, \n",
    "\n",
    "$y=\\pm \\sqrt{1-x^2}$\n",
    "\n",
    "take the positive root"
   ]
  },
  {
   "cell_type": "code",
   "execution_count": 5,
   "metadata": {
    "collapsed": true
   },
   "outputs": [],
   "source": [
    "y1=np.zeros(100)\n",
    "y2=np.sqrt(1-x2**2)\n",
    "y3=np.zeros(100)\n",
    "y4=np.sqrt(4-x4**2)\n",
    "#enter your code here"
   ]
  },
  {
   "cell_type": "markdown",
   "metadata": {},
   "source": [
    "# Now plot your semi-annulus"
   ]
  },
  {
   "cell_type": "code",
   "execution_count": 14,
   "metadata": {},
   "outputs": [
    {
     "data": {
      "image/png": "[encoded data removed]",
      "text/plain": [
       "<matplotlib.figure.Figure at 0x775fb70>"
      ]
     },
     "metadata": {},
     "output_type": "display_data"
    }
   ],
   "source": [
    "#Enter your code here\n",
    "\n",
    "plt.plot(x1,y1)\n",
    "plt.plot(x2,y2)\n",
    "plt.plot(x3,y3)\n",
    "plt.plot(x4,y4)\n",
    "plt.xlim(-2.1,2.1)\n",
    "plt.ylim(-1,2.1)\n",
    "plt.show()"
   ]
  },
  {
   "cell_type": "markdown",
   "metadata": {},
   "source": [
    "# Exercise 5: Plotting with Functions"
   ]
  },
  {
   "cell_type": "markdown",
   "metadata": {},
   "source": [
    "In a few exercises, we are going to use this semi-annulus shape from the previous exercise. Prepare to reuse this code by modifying it so it is within a function declaration that you can call later.  Notice this is a great example of a time you might define a function that returns nothing.  While you're at it, instead of hard-coding the radii of the semi-annulus, use generalized radii $r_1$ and $r_2$."
   ]
  },
  {
   "cell_type": "code",
   "execution_count": 16,
   "metadata": {},
   "outputs": [
    {
     "data": {
      "image/png": "[encoded data removed]",
      "text/plain": [
       "<matplotlib.figure.Figure at 0x767b908>"
      ]
     },
     "metadata": {},
     "output_type": "display_data"
    }
   ],
   "source": [
    "#your answer here\n",
    "def annulus(r1, r2):\n",
    "    x1=np.linspace(-r2,-r1,100)\n",
    "    x2=np.linspace(-r1,r1,200)\n",
    "    x3=np.linspace(r1,r2,100)\n",
    "    x4=np.linspace(-r2,r2,200)\n",
    "    \n",
    "    y1=np.zeros(100)\n",
    "    y2=np.sqrt(r1**2-x2**2)\n",
    "    y3=np.zeros(100)\n",
    "    y4=np.sqrt(r2**2-x4**2)\n",
    "    \n",
    "    plt.plot(x1,y1)\n",
    "    plt.plot(x2,y2)\n",
    "    plt.plot(x3,y3)\n",
    "    plt.plot(x4,y4)\n",
    "    plt.xlim(-r2-0.1, r2+0.1)\n",
    "    plt.ylim(-1, r2+0.1)\n",
    "    plt.show()\n",
    "    \n",
    "annulus(3,4)\n",
    "    "
   ]
  },
  {
   "cell_type": "markdown",
   "metadata": {},
   "source": [
    "# Exercise 6: Functions, points, and lists"
   ]
  },
  {
   "cell_type": "markdown",
   "metadata": {},
   "source": [
    "Another reason to use logical variables is to organize the calculation\n",
    "of a complicated logical expression, by first calculating intermediate\n",
    "results and then combining them.  This use ties in nicely with our next\n",
    "exercise, which is to practice user defined functions, lists,\n",
    "and loops.\n",
    "\n",
    "Define a function ```in_region([x,y])``` which\n",
    "returns ```True``` if the point $[x,y]$ lies inside of the semi-annulus, or ```False``` otherwise.  First, evaluate separately whether\n",
    "the point lies (1) outside the unit circle, (2) inside the circle of\n",
    "radius 2, and (3) in the upper half plane, as separate logical\n",
    "variables, then combine these results.\n",
    "\n",
    "Note that the logical definition of a semi-annulus' area and the plotted function are achieved differently.\n"
   ]
  },
  {
   "cell_type": "code",
   "execution_count": 42,
   "metadata": {},
   "outputs": [
    {
     "name": "stdout",
     "output_type": "stream",
     "text": [
      "Test 1\n",
      "False\n",
      "------\n",
      "Test 2\n",
      "False\n",
      "------\n",
      "Test 3\n",
      "True\n",
      "------\n",
      "Test 4\n",
      "True\n",
      "------\n",
      "Test 5\n",
      "False\n",
      "------\n"
     ]
    }
   ],
   "source": [
    "#enter your function here\n",
    "def in_region(P,r1,r2):\n",
    "    x=P[0]\n",
    "    y=P[1]\n",
    "    truth=False\n",
    "    if(r1>r2):\n",
    "        r1,r2=r2,r1\n",
    "    #print(x)\n",
    "    #print(y)\n",
    "    if (r1**2 <= x**2 + y**2):\n",
    "        if (r2**2 >= x**2 + y**2):\n",
    "            if (y >= 0):\n",
    "                truth=True\n",
    "    return truth\n",
    "\n",
    "P=[[0,0],[100,100],[1.0,1.0],[-1.0,1.0],[1.0,-1.0]]\n",
    "for i in range(5):\n",
    "    print(\"Test\",i+1)\n",
    "    print(in_region(P[i],1,2))\n",
    "    print(\"------\")\n"
   ]
  },
  {
   "cell_type": "markdown",
   "metadata": {},
   "source": [
    "## Testing your function\n",
    "Choose a list of test points to include in the program body which does some simple tests of the function. \n",
    "Come up with a list of 4-5 points which exercise the different expressions calculated inside the function. \n",
    "For instance, a point which is in the upper half plane but inside the unit circle.\n",
    "\n",
    "Then, generate from this of points a new list, of logical values -- each entry should be either ```True```, indicating that the corresponding point is in the region, or ```False``` otherwise."
   ]
  },
  {
   "cell_type": "markdown",
   "metadata": {},
   "source": [
    "<div class=answer>\n",
    "### What list of points do you plan to use? What list of logical values do you expect to get back?\n",
    "<div/>\n",
    "(0,0)\n",
    "(100,100)\n",
    "(1.0,1.0)\n",
    "(-1.0,1.0)\n",
    "(1.0,-1.0)"
   ]
  },
  {
   "cell_type": "markdown",
   "metadata": {},
   "source": [
    "<div class=answer>\n",
    "### Now, take a moment to write down what the loop in your program will do to check your test list. What type of loop will you use, and why? What values will it loop over? What will the body of the loop do?\n",
    "<div/>\n",
    "It will be a for loop that loops over x and y. It will input the values in order to test them."
   ]
  },
  {
   "cell_type": "markdown",
   "metadata": {},
   "source": [
    "Finish writing the program. The program should print out both the list of points and the list of logical values."
   ]
  },
  {
   "cell_type": "markdown",
   "metadata": {},
   "source": [
    "<div class=answer>\n",
    "This example actually raises a question you will often face. How should we organize our data? We could have defined our function either as a function of two real arguments, representing the two coordinates, i.e., ```in_region(x,y)```. Instead, we could chose to define it as a function of one list argument, representing the point as a whole, i.e., ```in_region([x,y])```. __Do you see any advantages to one approach or the other? For instance, was one way or the other more convenient in the loop above? Try to come up with at least one possible argument each way.__\n",
    "<div/>\n",
    "The second one is more convenient because you can pass in coordinate pairs."
   ]
  },
  {
   "cell_type": "markdown",
   "metadata": {},
   "source": [
    "# Exercise 7: Random Points in a Region"
   ]
  },
  {
   "cell_type": "markdown",
   "metadata": {},
   "source": [
    "Let us build on the last few examples. Sometimes it is necessary to randomly pick points in\n",
    "a region.  For instance a neat computational trick used to perform an integral is basically a dartboard approach -- i.e. --  If you sampling enough points within a particular region, you can calculate its area.\n",
    "\n",
    "### Write a program which generates a random set of points, within the semi annulus. \n",
    "\n",
    "The number of points it generates should be set by a variable ```num_points``` (use ```num_points=25``` for your test run).  \n",
    "\n",
    "*Notice that it is not quite enough for you to use a ```for``` loop which runs $25$ times, to generate\n",
    "$25$ random points, then take the subset of these which lie in the region. You don't know how\n",
    "many of those $25$ points will actually lie in the shaded region, and it almost certainly will\n",
    "not be all $25$ of them! So you need to think a little more about what you will do in the loop,\n",
    "and when you are \"done\" with looping. Brainstorm with your partner.* "
   ]
  },
  {
   "cell_type": "markdown",
   "metadata": {},
   "source": [
    "<div class=answer>\n",
    "### Which type of loop will you use, and why? What will the body of the loop do? What will its termination condition be?\n",
    "<div/>\n",
    "We would use the if function and the body of the loop will test if the random points is true with the anunulus function then add to a list."
   ]
  },
  {
   "cell_type": "markdown",
   "metadata": {},
   "source": [
    "## Write a program to generate a list of random points in the semi-annulus.  Plot your results and check your work."
   ]
  },
  {
   "cell_type": "code",
   "execution_count": null,
   "metadata": {
    "collapsed": true
   },
   "outputs": [],
   "source": [
    "Pointin=[]\n",
    "num_points=25\n",
    "\n",
    "def in_region(P,r1,r2):\n",
    "    x=P[0]\n",
    "    y=P[1]\n",
    "    truth=False\n",
    "    if(r1>r2):\n",
    "        r1,r2=r2,r1\n",
    "    #print(x)\n",
    "    #print(y)\n",
    "    if (r1**2 <= x**2 + y**2):\n",
    "        if (r2**2 >= x**2 + y**2):\n",
    "            if (y >= 0):\n",
    "                truth=True\n",
    "    return truth\n"
   ]
  },
  {
   "cell_type": "markdown",
   "metadata": {},
   "source": [
    "<div class=answer>\n",
    "### What are some new things you learned while writing this code?  \n",
    "<div/>\n",
    "be careful of how you import things and  check your test cases. "
   ]
  },
  {
   "cell_type": "markdown",
   "metadata": {},
   "source": [
    "# Exercise 8: Slicing Lists and Arrays"
   ]
  },
  {
   "cell_type": "markdown",
   "metadata": {},
   "source": [
    "Lets take a break from plotting and practice the slice function.  Newman uses it in his examples, and we'll be using it for plots soon.  "
   ]
  },
  {
   "cell_type": "markdown",
   "metadata": {},
   "source": [
    "### String Slicing: \n",
    "Given the string assignment ```fruit=\"banana\"```, what do you expect would be the value of ```fruit[1:3] + fruit[3:5] + fruit[-2:]```?"
   ]
  },
  {
   "cell_type": "markdown",
   "metadata": {},
   "source": [
    "<div class=answer>\n",
    "<div/>\n",
    "Answer here"
   ]
  },
  {
   "cell_type": "markdown",
   "metadata": {},
   "source": [
    "### Array Slicing: \n",
    "Arrays are one of the primary data types in this course. It is specifically built for numeric data and makes many mathematical operations very fast.  What do you predict the following lines will print?"
   ]
  },
  {
   "cell_type": "markdown",
   "metadata": {},
   "source": [
    "<div class=answer>\n",
    "<div/>\n",
    "\n",
    "Answer here"
   ]
  },
  {
   "cell_type": "code",
   "execution_count": null,
   "metadata": {
    "collapsed": true
   },
   "outputs": [],
   "source": [
    "import numpy as np\n",
    "small_array = np.array([10,4,3,-4,15,61,7.4,4.8,39])\n",
    "\n",
    "print(small_array)\n",
    "print(small_array[:])\n",
    "print(small_array[3])\n",
    "print(small_array[-1])\n",
    "\n",
    "#continue the theme and play around with the variations on the code below."
   ]
  },
  {
   "cell_type": "markdown",
   "metadata": {},
   "source": [
    "### Array Slicing II: \n",
    "Here is a multidimensional array.  Again, before you run each code cell, predict what you think will be printed.  No need to type every prediction, just use a whiteboard or talk through it with your neighbor."
   ]
  },
  {
   "cell_type": "code",
   "execution_count": null,
   "metadata": {
    "collapsed": true
   },
   "outputs": [],
   "source": [
    "#declare multidimensional array:\n",
    "bigarray = np.array([[1,2,3,4,5,6,7,8,9],[2,4,6,8,10,12,14,16,18],[3,6,9,12,15,18,21,24,27]])\n",
    "bigarray"
   ]
  },
  {
   "cell_type": "code",
   "execution_count": null,
   "metadata": {
    "collapsed": true
   },
   "outputs": [],
   "source": [
    "# select all rows in the column 4:\n",
    "bigarray[:,4]"
   ]
  },
  {
   "cell_type": "code",
   "execution_count": null,
   "metadata": {
    "collapsed": true
   },
   "outputs": [],
   "source": [
    "# select row 2:\n",
    "bigarray[2,:]"
   ]
  },
  {
   "cell_type": "code",
   "execution_count": null,
   "metadata": {
    "collapsed": true
   },
   "outputs": [],
   "source": [
    "# select columns 4 through 6:\n",
    "bigarray[:,4:6]"
   ]
  },
  {
   "cell_type": "markdown",
   "metadata": {},
   "source": [
    "Why only two columns, aren't 4 through 6 three values: 4,5,6? It turns out \"slicing\" is like cutting with a knife, so the slice cuts _between_ the actual data in the array. The figure below helps illustrate this:\n",
    "<img src=\"http://www.bogotobogo.com/python/images/python_strings/string_diagram.png\">\n",
    "The figure also shows how negative slices work: they count backwards from the end of the array."
   ]
  },
  {
   "cell_type": "code",
   "execution_count": null,
   "metadata": {
    "collapsed": true
   },
   "outputs": [],
   "source": [
    "bigarray[:,-1]"
   ]
  },
  {
   "cell_type": "code",
   "execution_count": null,
   "metadata": {
    "collapsed": true
   },
   "outputs": [],
   "source": [
    "bigarray[:,-3:-1]"
   ]
  },
  {
   "cell_type": "markdown",
   "metadata": {
    "collapsed": true
   },
   "source": [
    "Notice that a slice that uses a range of negative values, still goes from right to left (largest negative first)."
   ]
  },
  {
   "cell_type": "code",
   "execution_count": null,
   "metadata": {
    "collapsed": true
   },
   "outputs": [],
   "source": [
    "bigarray[:,-1:-3]"
   ]
  },
  {
   "cell_type": "markdown",
   "metadata": {},
   "source": [
    "Otherwise it returns an empty array.\n",
    "\n",
    "The last tidbit of slicing is skip-slicing or strided-slicing. You can add a _third_ element after a second colon to specify the stride of the slice (i.e. how many slices to skip):"
   ]
  },
  {
   "cell_type": "code",
   "execution_count": null,
   "metadata": {
    "collapsed": true
   },
   "outputs": [],
   "source": [
    "bigarray[:,0:4:2]"
   ]
  },
  {
   "cell_type": "markdown",
   "metadata": {},
   "source": [
    "The first two numbers can be left out if you just want to get every other (or every nth) item:"
   ]
  },
  {
   "cell_type": "code",
   "execution_count": null,
   "metadata": {
    "collapsed": true
   },
   "outputs": [],
   "source": [
    "bigarray[:,::2]"
   ]
  },
  {
   "cell_type": "code",
   "execution_count": null,
   "metadata": {
    "collapsed": true
   },
   "outputs": [],
   "source": [
    "bigarray[:,::3]"
   ]
  },
  {
   "cell_type": "markdown",
   "metadata": {},
   "source": [
    "These are all really useful when you need them, but it doesn't turn out to be needed often."
   ]
  },
  {
   "cell_type": "markdown",
   "metadata": {},
   "source": [
    "# Exercise 9: Loading Data + Sunspots (Newman 3.1)"
   ]
  },
  {
   "cell_type": "markdown",
   "metadata": {},
   "source": [
    "Newman introduces a relatively easy way to read data files into a single numpy array back in Ch 2 (Example 2.6), but we haven't done anything with it yet.  You should have in your repository a file from Newman's webpage, ```sunspot.txt```, that contains data on sunspots since 1749.  "
   ]
  },
  {
   "cell_type": "markdown",
   "metadata": {},
   "source": [
    "## First of all, what is a sunspot?\n",
    "*No I don't expect you to know this off the top of your head!  Lets talk about it before you google it.  What is the sun made of, and what might they be?*\n",
    "\n",
    "<div class=answer>\n",
    "<div/>\n",
    "Answer here"
   ]
  },
  {
   "cell_type": "markdown",
   "metadata": {},
   "source": [
    "### Load and plot that data contained in ```sunspot.txt``` add axes and labels as with any physics plot. \n",
    "\n",
    "Note that you'll want to tweak the x-labels a bit.  Here is how I did that.\n",
    "\n",
    "```python\n",
    "\n",
    "#source for following line (CT Zhu)\n",
    "#get the x-axis labels and put them in a list\n",
    "#https://stackoverflow.com/questions/11244514/modify-tick-label-text\n",
    "labels = ax.get_xticks().tolist()  \n",
    "\n",
    "label_years = np.array(labels)+1749 #a little numpy arithmetic\n",
    "#if verbose == True:\n",
    "#    print(label_years[0])\n",
    "\n",
    "ax.set_xticklabels(label_years)  \n",
    "```\n",
    "\n",
    "*Unfortunately the line above doesn't plot the labels as integers anymore - should be tweaked, but you get the idea.  I know how to fix this, but it involves introducing the ticker() module*. \n",
    "        "
   ]
  },
  {
   "cell_type": "markdown",
   "metadata": {},
   "source": [
    "### This is the start of Exercise 3.1 in Newman.  Go ahead and do the rest of it - add cells as needed to answer questions and describe your code."
   ]
  },
  {
   "cell_type": "code",
   "execution_count": null,
   "metadata": {
    "collapsed": true
   },
   "outputs": [],
   "source": [
    "#your code here"
   ]
  },
  {
   "cell_type": "markdown",
   "metadata": {},
   "source": [
    "# Exercise 10: Projectile Motion + Scatter Plots"
   ]
  },
  {
   "cell_type": "markdown",
   "metadata": {},
   "source": [
    "Using Newman Section 3.2 as a guide, make a scatter plot of random points.  Please do modify your earlier codes to make this more efficient."
   ]
  },
  {
   "cell_type": "code",
   "execution_count": null,
   "metadata": {
    "collapsed": true
   },
   "outputs": [],
   "source": [
    "#Type your code here:"
   ]
  },
  {
   "cell_type": "markdown",
   "metadata": {},
   "source": [
    "Its high time you met the matplotlib gallery - which is one of my favorite places on the interwebs. Click on the [link](https://matplotlib.org/gallery/lines_bars_and_markers/scatter_with_legend.html#sphx-glr-gallery-lines-bars-and-markers-scatter-with-legend-py) and use it as a guide to modify your scatter plot.  Once you're done with that, play with the markers as well - you can change their shape! [link](https://matplotlib.org/gallery/lines_bars_and_markers/scatter_symbol.html#sphx-glr-gallery-lines-bars-and-markers-scatter-symbol-py)\n",
    "\n",
    "Having fun?  Lets add some physics."
   ]
  },
  {
   "cell_type": "markdown",
   "metadata": {},
   "source": [
    "### Write a function that calculates the position and velocity of an object moving in 1D at constant acceleration at a given time.  You will need to give it initial conditions as well.  \n",
    "\n",
    "I've decided to give you the solution, so I can introduce a new concept.  Notice the example has two required arguments -$t$ for time, and $a$ for constant acceleration.  Additionally it has two optional, predefined arguments $v_i$ - the initial velocity, which is predefined to be zero, and $x_i$ the initial position, which is also predefined to be zero.  You can call the function a few ways (of course after you define it):\n",
    "```\n",
    "x1,v1 = position(t1,a1)          #this will use v_i=0, x_i=0\n",
    "x2,v2 = position(t2,a2,v_i=5.0)  #this will use v_i=5.0, x_i=0\n",
    "```\n",
    "\n",
    "## Add some comments to the code below to clarify what it is doing.  Is it called?"
   ]
  },
  {
   "cell_type": "code",
   "execution_count": null,
   "metadata": {
    "collapsed": true
   },
   "outputs": [],
   "source": [
    "# Solution\n",
    "# function to calculate the position and velocity for contant acceleration motion\n",
    "# inputs: time, acceleration, initial vel, initial pos\n",
    "# outputs: position, velocity\n",
    "def position(t, a, v_i=0, x_i=0):\n",
    "    x=x_i+v_i*t+0.5*a*t**2\n",
    "    v=v_i+a*t\n",
    "    return x,v"
   ]
  },
  {
   "cell_type": "markdown",
   "metadata": {
    "collapsed": true
   },
   "source": [
    "## Now write a calling function for position() and try using the optional variables.  \n",
    "I have provided an example to get you started."
   ]
  },
  {
   "cell_type": "code",
   "execution_count": null,
   "metadata": {
    "collapsed": true
   },
   "outputs": [],
   "source": [
    "# try your code here\n",
    "a1=9.81 #m/s^2\n",
    "t1=0.1  #s\n",
    "v1=5.0  #m/s\n",
    "x1=-5.0 #m\n",
    "\n",
    "print(position(t1,a1,v_i=v1,x_i=x1))"
   ]
  },
  {
   "cell_type": "markdown",
   "metadata": {},
   "source": [
    "Function arguments can be any kind of object, including other functions. "
   ]
  },
  {
   "cell_type": "markdown",
   "metadata": {},
   "source": [
    "### Now that you have that function up and running, write a code that calculates a series of velocities and positions, based on an array of time values.  Plot position vs. time and velocity vs. time.  \n",
    "\n",
    "If you're really slick, you can stack your plots using this [example](https://matplotlib.org/gallery/subplots_axes_and_figures/subplot.html#sphx-glr-gallery-subplots-axes-and-figures-subplot-py)"
   ]
  },
  {
   "cell_type": "markdown",
   "metadata": {},
   "source": [
    "# Wednesday, Thursday\n",
    "Scatter Plots + Curve Fitting - We'll do Exercises 3.6 and 3.8 \n",
    "\n",
    "# Friday - 2D contour plots\n",
    "To finish up the week, we'll work through Newman Example 3.1, Exercises 3.3, 3.7. "
   ]
  },
  {
   "cell_type": "code",
   "execution_count": null,
   "metadata": {
    "collapsed": true
   },
   "outputs": [],
   "source": []
  }
 ],
 "metadata": {
  "celltoolbar": "Raw Cell Format",
  "kernelspec": {
   "display_name": "Python 3",
   "language": "python",
   "name": "python3"
  },
  "language_info": {
   "codemirror_mode": {
    "name": "ipython",
    "version": 3
   },
   "file_extension": ".py",
   "mimetype": "text/x-python",
   "name": "python",
   "nbconvert_exporter": "python",
   "pygments_lexer": "ipython3",
   "version": "3.4.5"
  }
 },
 "nbformat": 4,
 "nbformat_minor": 1
}
