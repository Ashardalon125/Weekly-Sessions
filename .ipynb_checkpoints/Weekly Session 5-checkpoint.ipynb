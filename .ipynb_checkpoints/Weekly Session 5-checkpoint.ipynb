{
 "cells": [
  {
   "cell_type": "markdown",
   "metadata": {},
   "source": [
    "## Goal\n",
    "To develop further capability with numerical methods for integration.\n",
    "\n",
    "We will also have a brief introduction to the idea of numerical\n",
    "approximation of derivatives, as preparation for thinking about\n",
    "ordinary and partial differential equations.\n",
    "\n",
    "## Readings\n",
    "Let us list all the sections we are covering in Newman Chapter 5 **Integrals and derivatives**, including those we read last week:\n",
    "\n",
    "    5.1 Fundamental methods for evaluating integrals\n",
    "\n",
    "    5.2 Errors on integrals\n",
    "\n",
    "    5.3 Choosing the number of steps\n",
    "\n",
    "    5.4 Romberg integration*\n",
    "\n",
    "    5.5 Higher-order integration methods\n",
    "\n",
    "    5.7 Choosing an integration method\n",
    "\n",
    "    5.8 Integrals over infinite ranges*\n",
    "\n",
    "    5.10 Derivatives* -- Just read subsections 5.10.1-5.10.3 for the basics.\n",
    "\n",
    "\\* New reading this week.\n"
   ]
  },
  {
   "cell_type": "code",
   "execution_count": 5,
   "metadata": {},
   "outputs": [
    {
     "data": {
      "text/html": [
       "<style>\n",
       "div.warn {\n",
       "    background-color: black;\n",
       "    border-color: #dFb5b4;\n",
       "    border-left: 5px solid #dfb5b4;\n",
       "    padding: 0.5em\n",
       "    color: white;\n",
       "    }\n",
       " </style>\n",
       "\n",
       " <style>\n",
       " div.answer {\n",
       "     background-color: lightblue;\n",
       "     border-color: #dFb5b4;\n",
       "     border-left: 5px solid #dfb5b4;\n",
       "     padding: 0.5em\n",
       "     }\n",
       "  </style>\n"
      ],
      "text/plain": [
       "<IPython.core.display.HTML object>"
      ]
     },
     "execution_count": 5,
     "metadata": {},
     "output_type": "execute_result"
    }
   ],
   "source": [
    "#For colored cells, currently blue cells, black text \n",
    "#https://stackoverflow.com/questions/18024769/adding-custom-styled-paragraphs-in-markdown-cells\n",
    "from IPython.core.display import HTML\n",
    "def css_styling():\n",
    "    styles = open(\"style.css\", \"r\").read()\n",
    "    return HTML(styles)\n",
    "css_styling()"
   ]
  },
  {
   "cell_type": "markdown",
   "metadata": {},
   "source": [
    "<div class=answer>\n",
    "*This should be a blue cell with black font if you set the filepath correctly*</font>\n",
    "<div/>"
   ]
  },
  {
   "cell_type": "markdown",
   "metadata": {},
   "source": [
    "## Overview\n",
    "\n",
    "There are two aspects to this week's investigations:\n",
    "\n",
    "1.  The first is more technically oriented - we will reorient our thinking towards calculating results to a  given *tolerance*, rather than with a fixed number of steps.  We will then explore the idea of extrapolating to a more accurate answer - Romberg integration is an example of the more general approach of Richardson extrapolation, which is also applied in other contexts (in particular, solution of differential equations).\n",
    "\n",
    "2. The second aspect is oriented towards developing savvy in the use of numerical integration.  We will develop a feel for some of the less well-behaved types of integrals which one encounters in practice, and see ways of handling integrals over infinite ranges."
   ]
  },
  {
   "cell_type": "markdown",
   "metadata": {},
   "source": [
    "This week you may use your own integration technique, or ```integrate.py``` to do this.  See some directions below the answer box for importing ```integrate.py```.  To use it, look at your work from last week, or call ```help(integrate)```.  To import the module, either you need a local copy of ```integrate.py``` in which case you can run:  "
   ]
  },
  {
   "cell_type": "code",
   "execution_count": 8,
   "metadata": {
    "collapsed": true
   },
   "outputs": [],
   "source": [
    "import integrate\n",
    "import math\n",
    "\n",
    "# benchmark function - as last week\n",
    "def f_decay(x):\n",
    "    return math.exp(-x)\n",
    "int_decay = 1 - 1/math.e\n",
    "\n",
    "# sample quick checks\n",
    "#print(integrate.integrate(f_decay,(0,1),100)[0])           #trapezoid, 100 steps\n",
    "#print(integrate.integrate(f_decay,(0,1),1000)[0])          #trapezoid, 100 steps\n",
    "#print(integrate.integrate(f_decay,(0,1),100,order=2)[0])   #simpsons, 1000 steps"
   ]
  },
  {
   "cell_type": "markdown",
   "metadata": {},
   "source": [
    "Or alternatively you can use the ```sys``` module (short for system) to update the filepaths that python will look for modules in.  The code for that is:  "
   ]
  },
  {
   "cell_type": "code",
   "execution_count": 7,
   "metadata": {},
   "outputs": [
    {
     "ename": "ImportError",
     "evalue": "No module named 'integrate_2'",
     "output_type": "error",
     "traceback": [
      "\u001b[1;31m---------------------------------------------------------------------------\u001b[0m",
      "\u001b[1;31mImportError\u001b[0m                               Traceback (most recent call last)",
      "\u001b[1;32m<ipython-input-7-ac4ff7b4ff80>\u001b[0m in \u001b[0;36m<module>\u001b[1;34m()\u001b[0m\n\u001b[0;32m      1\u001b[0m \u001b[1;32mimport\u001b[0m \u001b[0msys\u001b[0m\u001b[1;33m\u001b[0m\u001b[0m\n\u001b[0;32m      2\u001b[0m \u001b[0msys\u001b[0m\u001b[1;33m.\u001b[0m\u001b[0mpath\u001b[0m\u001b[1;33m.\u001b[0m\u001b[0mappend\u001b[0m\u001b[1;33m(\u001b[0m\u001b[1;34m\"/Users/mcde2235/Box Sync/Coursework/PHY325/Spring2018/Labs/Lab4\"\u001b[0m\u001b[1;33m)\u001b[0m\u001b[1;33m\u001b[0m\u001b[0m\n\u001b[1;32m----> 3\u001b[1;33m \u001b[1;32mimport\u001b[0m \u001b[0mintegrate_2\u001b[0m\u001b[1;33m\u001b[0m\u001b[0m\n\u001b[0m",
      "\u001b[1;31mImportError\u001b[0m: No module named 'integrate_2'"
     ]
    }
   ],
   "source": [
    "import sys\n",
    "sys.path.append(\"/Users/mcde2235/Box Sync/Coursework/PHY325/Spring2018/Labs/Lab4\")\n",
    "import integrate_2  \n"
   ]
  },
  {
   "cell_type": "markdown",
   "metadata": {},
   "source": [
    "**FYI: if you modify your module, you will need to restart the kernel to use the modified codes.  There are some alternative methods, but nothing elegant\n",
    "[source](https://support.enthought.com/hc/en-us/articles/204469240-Jupyter-IPython-After-editing-a-module-changes-are-not-effective-without-kernel-restart).**"
   ]
  },
  {
   "cell_type": "markdown",
   "metadata": {},
   "source": [
    "## Exercise 1: \n",
    "\n",
    "In Section 5.2.1, Newman describes the practical method for estimating the error in a trapezoidal rule or Simpson's rule calculation.  Try these error estimates out for the trapezoidal rule on our benchmark integral, with $20$ steps\n",
    "and $200$ steps.  __How close are the estimates to the actual errors?__  What about the sign (this will matter when we get to Romberg integration)? Repeat for Simpson's rule."
   ]
  },
  {
   "cell_type": "code",
   "execution_count": 9,
   "metadata": {},
   "outputs": [
    {
     "name": "stdout",
     "output_type": "stream",
     "text": [
      "Analytic Result\n",
      "0.6321205588285577\n",
      " \n",
      "Trapezoidal  Numeric Result w/ N= 20\n",
      "Total= 0.632252245124816\n",
      "Difference between Numeric and Analytic= 0.00013168629625837092\n",
      "Calculated Error= 0.000131691783089\n",
      "Ratio of Residual/Error 0.999958335814\n",
      " \n",
      "Simpsons  Numeric Result w/ N= 20\n",
      "Total= 0.6321205807706576\n",
      "Difference between Numeric and Analytic= 2.1942099914795676e-08\n",
      "Calculated Error= 4.38972610298e-08\n",
      "Ratio of Residual/Error 0.499851229896\n",
      " \n",
      "Trapezoidal  Numeric Result w/ N= 200\n",
      "Total= 0.6321218757458401\n",
      "Difference between Numeric and Analytic= 1.316917282445651e-06\n",
      "Calculated Error= 1.31691783089e-06\n",
      "Ratio of Residual/Error 0.999999583537\n",
      " \n",
      "Simpsons  Numeric Result w/ N= 200\n",
      "Total= 0.6321205588307524\n",
      "Difference between Numeric and Analytic= 2.1946888750790094e-12\n",
      "Calculated Error= 4.38972610298e-12\n",
      "Ratio of Residual/Error 0.499960321805\n",
      " \n"
     ]
    }
   ],
   "source": [
    "#Define the Error Functions\n",
    "def calculatedError (f,interval,steps,order):\n",
    "    \"\"\"Generates the calculated error according to Newman's equations\n",
    "    \n",
    "    f: The function to be used\n",
    "    interval: The bounds of the integration\n",
    "    steps: How many steps the program should use\n",
    "    order: Determines what kind of function is being used to calculate the error\n",
    "    \n",
    "    error: The returned value of the error based on the order given\n",
    "    \"\"\"\n",
    "    \n",
    "    (a,b)=interval\n",
    "    h=(b-a)/steps\n",
    "    if (order==1):\n",
    "        error=np.abs(h*h*(-f(a)+f(b))/12)\n",
    "    elif (order==2):\n",
    "        error=np.abs(h*h*h*h*(-f(a)+f(b))/90)\n",
    "    else:\n",
    "        raise ValueError(\"Invalid order given\")\n",
    "    return error\n",
    "    \n",
    "\n",
    "#First, we find the actual value of the integral\n",
    "import numpy as np\n",
    "print(\"Analytic Result\")\n",
    "analyticTotal=1-f_decay(1)\n",
    "print(analyticTotal)\n",
    "print(\" \")\n",
    "\n",
    "#Define constants\n",
    "interval=(0,1)\n",
    "n=[20,200]\n",
    "titles=[\"Trapezoidal\",\"Simpsons\"]\n",
    "order=[1,2]\n",
    "\n",
    "#Now, using the imported integrate function, we can calculate the errors\n",
    "for i in range(len(n)):\n",
    "    for j in range(2):\n",
    "        total=integrate.integrate(f_decay,interval,n[i],order[j])[0]\n",
    "        calc=calculatedError(f_decay,interval,n[i],order[j])\n",
    "        \n",
    "        print(titles[j],\" Numeric Result w/ N=\",n[i])\n",
    "        print(\"Total=\",total)\n",
    "        print(\"Difference between Numeric and Analytic=\",total-analyticTotal)\n",
    "        print(\"Calculated Error=\",calc)\n",
    "        print(\"Ratio of Residual/Error\",(total-analyticTotal)/calc)\n",
    "        print(\" \")\n"
   ]
  },
  {
   "cell_type": "markdown",
   "metadata": {},
   "source": [
    "<div class=answer>\n",
    "<div/>\n",
    "**These errors are pretty close to the actual errors, particularly in the trapezoidal case. In the case of the Simpsons errors, the residual is approximately half the calculated error.**"
   ]
  },
  {
   "cell_type": "markdown",
   "metadata": {},
   "source": [
    "## Exercise 2\n",
    "### Trapezoidal rule with tolerance goal (Newman's Adaptive Method)\n",
    "\n",
    "In practice, integration with a fixed  number of *steps* is not useful for automated use.  If your code must calculate millions of integrals (or even just hundreds of integrals), and you need a certain accuracy, it is simply impractical for you to intervene and hand-pick the number of steps for each integral.  You could just choose a \"really big'' number of steps for all integrals, even when they are not needed, but this will make your code impractically slow (perhaps factors of hundreds slower than it needs to be).\n",
    "\n",
    "Following the approach outlined in Newman Section 5.3, let us write a function which uses the trapezoidal rule to calculate with $1$, $2$, $4$, $8$, $\\ldots$ steps (*i.e.*, $~2^i$ steps), until the error estimate falls below a specified tolerance.  \n",
    "\n",
    "As Newman points out, we do not need to calculate all the points from scratch in each successive iteration.  Your\n",
    "function should follow's Newman's approach, *i.e.*, \"reusing'' the value of the previous integral to avoid evaluating the integrand $f$ at the same point more than once.\n",
    "\n",
    "In fact, let us see how how much of an improvement this gives. Suppose we ultimately need, say, $2^{5}$ steps.  How many times would we have to evaluate $f$ if we evaluated the integral from scratch with each iteration ($1$, $2$, $4$, $8$, $\\ldots$ steps)?  How many times would we have to evaluate $f$ if we reused the prior integrals, instead?"
   ]
  },
  {
   "cell_type": "code",
   "execution_count": 10,
   "metadata": {},
   "outputs": [
    {
     "name": "stdout",
     "output_type": "stream",
     "text": [
      "The integral is 0.632120558877616\n",
      "The number of runs is 15\n"
     ]
    }
   ],
   "source": [
    "def integral_adaptive (f,interval,tolerance,verbose=False):\n",
    "    \"\"\"Runs a trapezoidal rule approximation that iterates until it creates a result within an accepted level of tolerance\n",
    "    \n",
    "    f:         The function being used\n",
    "    interval:  The region the function is over\n",
    "    tolerance: The target level of error\n",
    "    \n",
    "    n:         The number of steps it took to fall below the tolerance.\"\"\"\n",
    "    \n",
    "    error=2*tolerance #Sets initial error greater than tolerance to ensure program runs\n",
    "    n=1               #Sets the start to one\n",
    "    (a,b)=interval    #Sets interval\n",
    "    inaught=(b-a)*0.5*(f(a)+f(b))\n",
    "    while(error>tolerance):\n",
    "        #Initializes old values\n",
    "        if(n==1):\n",
    "            iold=inaught\n",
    "            h=(b-a)/2\n",
    "        elif (n>=20):\n",
    "            break\n",
    "        else:\n",
    "            iold=inew\n",
    "            h/=2\n",
    "        \n",
    "        #Calculate new components\n",
    "        inew=0\n",
    "        for i in range(1,2**n,2):\n",
    "            inew+=f(a+i*h)\n",
    "            \n",
    "        inew=inew*h\n",
    "        inew+=iold/2\n",
    "        \n",
    "        \n",
    "        #Calculate error\n",
    "        error=np.abs((inew-iold)/3)\n",
    "        n+=1\n",
    "        \n",
    "        if (verbose==True):\n",
    "            print(\"Run #\",n-1)\n",
    "            print(\"Power is: 2 ^\",n-1)\n",
    "            print(\"Old Integral is:\",iold)\n",
    "            print(\"New Integral is:\",inew)\n",
    "            print(\"The error is:\",error)\n",
    "            print(\" \")\n",
    "    if (verbose==False):\n",
    "        print(\"The integral is\",inew)\n",
    "    return n\n",
    "    \n",
    "interval=(0,1)\n",
    "tolerance=(10**-10)\n",
    "print(\"The number of runs is\",integral_adaptive(f_decay,interval,tolerance,verbose=False)-1)"
   ]
  },
  {
   "cell_type": "markdown",
   "metadata": {},
   "source": [
    "Also, it will help if your function can produce verbose output, showing the integral and error estimate at each stage, and the residual relative to a known true value (you can peek at ```romberg.py``` for ideas on how to do this).\n",
    "\n",
    "You can name your function ```integrate_adaptive```, and either embed it in this notebook in a code cell (as usual) or add it to the ```integrate.py``` which I gave you last week.   "
   ]
  },
  {
   "cell_type": "markdown",
   "metadata": {},
   "source": [
    "Test your new function out on the same benchmark integral\n",
    "$$\n",
    "\\int_0^1 e^{-x}\\,dx\n",
    "$$\n",
    "as last week, and see how many iterations $i$ (and thus steps $2^i$) are\n",
    "required to achieve a tolerance of $10^{-10}$."
   ]
  },
  {
   "cell_type": "markdown",
   "metadata": {
    "collapsed": true
   },
   "source": [
    "<div class=answer>\n",
    "<div/>\n",
    "**It takes 15 iterations to achieve the correct tolerance**"
   ]
  },
  {
   "cell_type": "markdown",
   "metadata": {},
   "source": [
    "## Exercise 3\n",
    "### Romberg integration\n",
    "\n",
    "In the interest of time, I have gone ahead and provided you with code for Romberg integration in ```romberg.py```.  It is basically just a straightforward extension of what you just coded for the trapezoidal rule.  (That is, as with most code, it is straightforward in *retrospect*, once it is written...)\n",
    "\n",
    "First, try the function ```romberg.romberg``` on our benchmark integral.  Enable the verbose output (```verbose=True```), and provide the function with the true value (```reference=...```) so it can print the residual.  Let us try for a tolerance of $10^{-10}$ again."
   ]
  },
  {
   "cell_type": "code",
   "execution_count": 11,
   "metadata": {},
   "outputs": [
    {
     "name": "stdout",
     "output_type": "stream",
     "text": [
      "integrating on range (0, 1)\n",
      "\n",
      "R(0,0) +6.839397205857212e-01\n",
      "\n",
      "R(1,0) +6.452351901491773e-01 epsilon(1,0) -1.2902e-02\n",
      "R(1,1) +6.323336800036626e-01\n",
      "\n",
      "R(2,0) +6.354094290276936e-01 epsilon(2,0) -3.2753e-03\n",
      "R(2,1) +6.321341753205323e-01 epsilon(2,1) -1.3300e-05\n",
      "R(2,2) +6.321208750083236e-01\n",
      "\n",
      "R(3,0) +6.329434182104802e-01 epsilon(3,0) -8.2200e-04\n",
      "R(3,1) +6.321214146047424e-01 epsilon(3,1) -8.5071e-07\n",
      "R(3,2) +6.321205638903564e-01 epsilon(3,2) -4.9384e-09\n",
      "R(3,3) +6.321205589519759e-01\n",
      "\n",
      "R(4,0) +6.323263138444998e-01 epsilon(4,0) -2.0570e-04\n",
      "R(4,1) +6.321206123891729e-01 epsilon(4,1) -5.3481e-08\n",
      "R(4,2) +6.321205589081349e-01 epsilon(4,2) -7.9083e-11\n",
      "R(4,3) +6.321205588290520e-01 epsilon(4,3) -4.8205e-13\n",
      "R(4,4) +6.321205588285700e-01\n",
      "\n"
     ]
    },
    {
     "data": {
      "text/plain": [
       "0.63212055882857"
      ]
     },
     "execution_count": 11,
     "metadata": {},
     "output_type": "execute_result"
    }
   ],
   "source": [
    "#your code here\n",
    "import romberg\n",
    "\n",
    "function=f_decay\n",
    "interval=(0,1)\n",
    "tolerance=10**-10\n",
    "\n",
    "romberg.romberg(function,interval,tolerance,verbose=True)"
   ]
  },
  {
   "cell_type": "markdown",
   "metadata": {},
   "source": [
    "How does the number of steps (and thus the number of points at which the integrand must be evaluated) compare to the number you needed before, with the trapezoidal rule?"
   ]
  },
  {
   "cell_type": "markdown",
   "metadata": {},
   "source": [
    "<div class=answer>\n",
    "<div/>\n",
    "**It took five steps, which is significantly less than the adaptive format I created. Notably, each \"step\" contained different orders of solutions. In the \"solved\" step, it actually got below the tolerance before it finished executing.**"
   ]
  },
  {
   "cell_type": "markdown",
   "metadata": {},
   "source": [
    "Here is an interesting observation, which I think might make Romberg extrapolation fit in better with what we have already seen.  We now seem to have two ways of going to higher order - the good old-fashioned way of using higher-order polynomials to go through the points (Newton-Cotes) or this new clever Romberg extrapolation way.\n",
    "You might have noticed that:\n",
    "1. the trapezoidal rule had an error of order $O(h^2)$, \n",
    "\n",
    "2. Simpson's rule  had an error of order $O(h^4)$, and now \n",
    "\n",
    "3. the first Romberg extrapolated value $R_{i,1}$ also has an error of order $O(h^4)$\n",
    "\n",
    "    **Caution:** I am following the $0$-based convention that $R_{i,0}$ is the trapezoidal rule value, $R_{i,1}$ is the first extrapolation, *etc.*  Note that Newman uses $1$-based numbering, starting with $R_{i,1}$ for the trapezoidal rule, *etc.*, instead.\n",
    "\n",
    "Might the first Romberg extrapolated value actually *be* Simpson'a rule???  Or does it just have an error which happens to be of the same order?  \n",
    "\n",
    "More concretely...  Go ahead and do Simpson's rule calculations with $2^i$ steps, and compare with the first extrapolated values in the Romberg method.  Are they the same or different?  "
   ]
  },
  {
   "cell_type": "code",
   "execution_count": 12,
   "metadata": {},
   "outputs": [
    {
     "ename": "TypeError",
     "evalue": "unsupported operand type(s) for %: 'int' and 'list'",
     "output_type": "error",
     "traceback": [
      "\u001b[1;31m---------------------------------------------------------------------------\u001b[0m",
      "\u001b[1;31mTypeError\u001b[0m                                 Traceback (most recent call last)",
      "\u001b[1;32m<ipython-input-12-e628cf2aca87>\u001b[0m in \u001b[0;36m<module>\u001b[1;34m()\u001b[0m\n\u001b[0;32m      1\u001b[0m \u001b[1;31m#your code here\u001b[0m\u001b[1;33m\u001b[0m\u001b[1;33m\u001b[0m\u001b[0m\n\u001b[0;32m      2\u001b[0m \u001b[1;32mfor\u001b[0m \u001b[0mi\u001b[0m \u001b[1;32min\u001b[0m \u001b[0mrange\u001b[0m\u001b[1;33m(\u001b[0m\u001b[1;36m1\u001b[0m\u001b[1;33m,\u001b[0m\u001b[1;36m15\u001b[0m\u001b[1;33m)\u001b[0m\u001b[1;33m:\u001b[0m\u001b[1;33m\u001b[0m\u001b[0m\n\u001b[1;32m----> 3\u001b[1;33m     \u001b[0mprint\u001b[0m\u001b[1;33m(\u001b[0m\u001b[0mintegrate\u001b[0m\u001b[1;33m.\u001b[0m\u001b[0mintegrate\u001b[0m\u001b[1;33m(\u001b[0m\u001b[0mfunction\u001b[0m\u001b[1;33m,\u001b[0m\u001b[0minterval\u001b[0m\u001b[1;33m,\u001b[0m\u001b[1;36m2\u001b[0m\u001b[1;33m**\u001b[0m\u001b[0mi\u001b[0m\u001b[1;33m,\u001b[0m\u001b[0morder\u001b[0m\u001b[1;33m)\u001b[0m\u001b[1;33m[\u001b[0m\u001b[1;36m0\u001b[0m\u001b[1;33m]\u001b[0m\u001b[1;33m)\u001b[0m\u001b[1;33m\u001b[0m\u001b[0m\n\u001b[0m\u001b[0;32m      4\u001b[0m \u001b[1;33m\u001b[0m\u001b[0m\n\u001b[0;32m      5\u001b[0m \u001b[0mprint\u001b[0m\u001b[1;33m(\u001b[0m\u001b[1;33m)\u001b[0m\u001b[1;33m\u001b[0m\u001b[0m\n",
      "\u001b[1;32mC:\\Users\\workshop\\Documents\\Johan\\Weekly-Sessions\\integrate.py\u001b[0m in \u001b[0;36mintegrate\u001b[1;34m(f, interval, steps, order, float_type)\u001b[0m\n\u001b[0;32m     43\u001b[0m     \u001b[1;31m# validate number of steps\u001b[0m\u001b[1;33m\u001b[0m\u001b[1;33m\u001b[0m\u001b[0m\n\u001b[0;32m     44\u001b[0m     \u001b[1;31m# must be positive and must be multiple of order\u001b[0m\u001b[1;33m\u001b[0m\u001b[1;33m\u001b[0m\u001b[0m\n\u001b[1;32m---> 45\u001b[1;33m     \u001b[1;32mif\u001b[0m \u001b[1;33m(\u001b[0m\u001b[1;32mnot\u001b[0m\u001b[1;33m(\u001b[0m\u001b[1;33m(\u001b[0m\u001b[0msteps\u001b[0m\u001b[1;33m>\u001b[0m\u001b[1;36m0\u001b[0m\u001b[1;33m)\u001b[0m \u001b[1;32mand\u001b[0m \u001b[1;33m(\u001b[0m\u001b[1;33m(\u001b[0m\u001b[0msteps\u001b[0m\u001b[1;33m%\u001b[0m\u001b[0morder\u001b[0m\u001b[1;33m)\u001b[0m\u001b[1;33m==\u001b[0m\u001b[1;36m0\u001b[0m\u001b[1;33m)\u001b[0m\u001b[1;33m)\u001b[0m\u001b[1;33m)\u001b[0m\u001b[1;33m:\u001b[0m\u001b[1;33m\u001b[0m\u001b[0m\n\u001b[0m\u001b[0;32m     46\u001b[0m         \u001b[1;32mraise\u001b[0m \u001b[0mValueError\u001b[0m\u001b[1;33m(\u001b[0m\u001b[1;34m\"invalid number of steps for given order\"\u001b[0m\u001b[1;33m)\u001b[0m\u001b[1;33m\u001b[0m\u001b[0m\n\u001b[0;32m     47\u001b[0m \u001b[1;33m\u001b[0m\u001b[0m\n",
      "\u001b[1;31mTypeError\u001b[0m: unsupported operand type(s) for %: 'int' and 'list'"
     ]
    }
   ],
   "source": [
    "#your code here\n",
    "for i in range(1,15):\n",
    "    print(integrate.integrate(function,interval,2**i,order)[0])\n",
    "    \n",
    "print()\n",
    "romberg.romberg(function,interval,tolerance,verbose=True)"
   ]
  },
  {
   "cell_type": "markdown",
   "metadata": {},
   "source": [
    "<div class=answer>\n",
    "<div/>\n",
    "**They do appear to be the same (the Simpson's approximation and the first order Romberg that is).**"
   ]
  },
  {
   "cell_type": "markdown",
   "metadata": {},
   "source": [
    "Explain your result in terms of the\n",
    "formulas for Simpson's rule, the trapezoidal rule, and Romberg\n",
    "extrapolation."
   ]
  },
  {
   "cell_type": "markdown",
   "metadata": {},
   "source": [
    "<div class=answer>\n",
    "<div/>\n",
    "Answer here"
   ]
  },
  {
   "cell_type": "markdown",
   "metadata": {},
   "source": [
    "## Exercise 4\n",
    "### Life gets messy\n",
    "\n",
    "** Note:** You may find your output in this section to be too much information.  You do not need to print out the entirety of the verbose output for all these\n",
    "calculations.  \n",
    "\n",
    "Now that we are equipped with all these ultrapowerful integration\n",
    "algorithms, we should be ready to face any problem which is thrown at\n",
    "us, right???  So calculating the area of a circle should be a piece of\n",
    "cake, right?\n",
    "\n",
    "*Ha! Since when has ```pi``` been cake?*\n",
    "\n",
    "Plot the graph of the function $f(x)=\\sqrt{1-x^2}$ on $[-1,1]$."
   ]
  },
  {
   "cell_type": "code",
   "execution_count": 13,
   "metadata": {},
   "outputs": [
    {
     "data": {
      "image/png": "[encoded data removed]",
      "text/plain": [
       "<matplotlib.figure.Figure at 0x7858550>"
      ]
     },
     "metadata": {},
     "output_type": "display_data"
    }
   ],
   "source": [
    "#your code here - you can recycle old plotting codes from previous Weekly Sessions\n",
    "import matplotlib.pylab as plt\n",
    "import numpy as np\n",
    "%matplotlib inline\n",
    "\n",
    "\n",
    "numPoints=100\n",
    "x = np.linspace(-1,1,numPoints)\n",
    "y=[]\n",
    "for i in range(numPoints):\n",
    "    y.append((1-x[i]**2)**0.5)\n",
    "    \n",
    "plt.plot(x,y)\n",
    "plt.axis([-1.1,1.1,-0.3,1.1])\n",
    "plt.show()"
   ]
  },
  {
   "cell_type": "markdown",
   "metadata": {},
   "source": [
    "What is the analytically known value of the integral\n",
    "$$\n",
    "\\int_{-1}^{1}\\sqrt{1-x^2}\\,dx?\n",
    "$$\n",
    "**Note:** You may quote results from elementary school without further proof."
   ]
  },
  {
   "cell_type": "code",
   "execution_count": 14,
   "metadata": {},
   "outputs": [
    {
     "name": "stdout",
     "output_type": "stream",
     "text": [
      "1.5707963267948966\n"
     ]
    }
   ],
   "source": [
    "import math\n",
    "\n",
    "r=1\n",
    "print(math.pi*(r**2)/2)"
   ]
  },
  {
   "cell_type": "markdown",
   "metadata": {},
   "source": [
    "To reach a tolerence of $10^{-10}$ with the trapezoidal rule, how many\n",
    "iterations (and thus steps) are required?  Do you find that the\n",
    "residual of your \n",
    "calculated result, relative to the known true value, is consistent with the\n",
    "tolerance you asked for?  How about with Romberg extrapolation?"
   ]
  },
  {
   "cell_type": "code",
   "execution_count": 15,
   "metadata": {},
   "outputs": [
    {
     "name": "stdout",
     "output_type": "stream",
     "text": [
      "integrating on range (-1, 1)\n",
      "\n",
      "R(0,0) +0.000000000000000e+00\n",
      "\n",
      "R(1,0) +1.000000000000000e+00 epsilon(1,0) +3.3333e-01\n",
      "R(1,1) +1.333333333333333e+00\n",
      "\n",
      "R(2,0) +1.366025403784439e+00 epsilon(2,0) +1.2201e-01\n",
      "R(2,1) +1.488033871712585e+00 epsilon(2,1) +1.0313e-02\n",
      "R(2,2) +1.498347240937868e+00\n",
      "\n",
      "R(3,0) +1.497854534051220e+00 epsilon(3,0) +4.3943e-02\n",
      "R(3,1) +1.541797577473481e+00 epsilon(3,1) +3.5842e-03\n",
      "R(3,2) +1.545381824524207e+00 epsilon(3,2) +7.4658e-04\n",
      "R(3,3) +1.546128405216054e+00\n",
      "\n",
      "R(4,0) +1.544909572178587e+00 epsilon(4,0) +1.5685e-02\n",
      "R(4,1) +1.560594584887709e+00 epsilon(4,1) +1.2531e-03\n",
      "R(4,2) +1.561847718715324e+00 epsilon(4,2) +2.6136e-04\n",
      "R(4,3) +1.562109082115183e+00 epsilon(4,3) +6.2669e-05\n",
      "R(4,4) +1.562171751436356e+00\n",
      "\n",
      "R(5,0) +1.561626518913870e+00 epsilon(5,0) +5.5723e-03\n",
      "R(5,1) +1.567198834492298e+00 epsilon(5,1) +4.4028e-04\n",
      "R(5,2) +1.567639117799270e+00 epsilon(5,2) +9.1927e-05\n",
      "R(5,3) +1.567731044768857e+00 epsilon(5,3) +2.2047e-05\n",
      "R(5,4) +1.567753091681224e+00 epsilon(5,4) +5.4559e-06\n",
      "R(5,5) +1.567758547536791e+00\n",
      "\n",
      "R(6,0) +1.567551211438565e+00 epsilon(6,0) +1.9749e-03\n",
      "R(6,1) +1.569526108946797e+00 epsilon(6,1) +1.5515e-04\n",
      "R(6,2) +1.569681260577097e+00 epsilon(6,2) +3.2415e-05\n",
      "R(6,3) +1.569713675541825e+00 epsilon(6,3) +7.7750e-06\n",
      "R(6,4) +1.569721450564464e+00 epsilon(6,4) +1.9241e-06\n",
      "R(6,5) +1.569723374668944e+00 epsilon(6,5) +4.7981e-07\n",
      "R(6,6) +1.569723854480209e+00\n",
      "\n",
      "R(7,0) +1.569648456389842e+00 epsilon(7,0) +6.9908e-04\n",
      "R(7,1) +1.570347538040268e+00 epsilon(7,1) +5.4762e-05\n",
      "R(7,2) +1.570402299979833e+00 epsilon(7,2) +1.1445e-05\n",
      "R(7,3) +1.570413745049717e+00 epsilon(7,3) +2.7454e-06\n",
      "R(7,4) +1.570416490420336e+00 epsilon(7,4) +6.7941e-07\n",
      "R(7,5) +1.570417169833685e+00 epsilon(7,5) +1.6942e-07\n",
      "R(7,6) +1.570417339258634e+00 epsilon(7,6) +4.2330e-08\n",
      "R(7,7) +1.570417381588169e+00\n",
      "\n",
      "R(8,0) +1.570390396198307e+00 epsilon(8,0) +2.4731e-04\n",
      "R(8,1) +1.570637709467795e+00 epsilon(8,1) +1.9345e-05\n",
      "R(8,2) +1.570657054229630e+00 epsilon(8,2) +4.0437e-06\n",
      "R(8,3) +1.570661097947881e+00 epsilon(8,3) +9.7001e-07\n",
      "R(8,4) +1.570662067959246e+00 epsilon(8,4) +2.4006e-07\n",
      "R(8,5) +1.570662308015491e+00 epsilon(8,5) +5.9863e-08\n",
      "R(8,6) +1.570662367878295e+00 epsilon(8,6) +1.4956e-08\n",
      "R(8,7) +1.570662382834568e+00 epsilon(8,7) +3.7385e-09\n",
      "R(8,8) +1.570662386573047e+00\n",
      "\n",
      "R(9,0) +1.570652791478616e+00 epsilon(9,0) +8.7465e-05\n",
      "R(9,1) +1.570740256572052e+00 epsilon(9,1) +6.8365e-06\n",
      "R(9,2) +1.570747093045669e+00 epsilon(9,2) +1.4292e-06\n",
      "R(9,3) +1.570748522233225e+00 epsilon(9,3) +3.4284e-07\n",
      "R(9,4) +1.570748865073560e+00 epsilon(9,4) +8.4846e-08\n",
      "R(9,5) +1.570748949919224e+00 epsilon(9,5) +2.1158e-08\n",
      "R(9,6) +1.570748971077198e+00 epsilon(9,6) +5.2862e-09\n",
      "R(9,7) +1.570748976363360e+00 epsilon(9,7) +1.3213e-09\n",
      "R(9,8) +1.570748977684693e+00 epsilon(9,8) +3.3032e-10\n",
      "R(9,9) +1.570748978015013e+00\n",
      "\n",
      "R(10,0) +1.570745576359828e+00 epsilon(10,0) +3.0928e-05\n",
      "R(10,1) +1.570776504653565e+00 epsilon(10,1) +2.4165e-06\n",
      "R(10,2) +1.570778921192332e+00 epsilon(10,2) +5.0521e-07\n",
      "R(10,3) +1.570779426401010e+00 epsilon(10,3) +1.2119e-07\n",
      "R(10,4) +1.570779547593824e+00 epsilon(10,4) +2.9993e-08\n",
      "R(10,5) +1.570779577586513e+00 epsilon(10,5) +7.4793e-09\n",
      "R(10,6) +1.570779585065797e+00 epsilon(10,6) +1.8686e-09\n",
      "R(10,7) +1.570779586934441e+00 epsilon(10,7) +4.6709e-10\n",
      "R(10,8) +1.570779587401528e+00 epsilon(10,8) +1.1677e-10\n",
      "R(10,9) +1.570779587518295e+00 epsilon(10,9) +2.9192e-11\n",
      "R(10,10) +1.570779587547487e+00\n",
      "\n",
      "Run # 1\n",
      "Power is: 2 ^ 1\n",
      "Old Integral is: 0.0\n",
      "New Integral is: 1.0\n",
      "The error is: 0.333333333333\n",
      " \n",
      "Run # 2\n",
      "Power is: 2 ^ 2\n",
      "Old Integral is: 1.0\n",
      "New Integral is: 1.3660254037844386\n",
      "The error is: 0.122008467928\n",
      " \n",
      "Run # 3\n",
      "Power is: 2 ^ 3\n",
      "Old Integral is: 1.3660254037844386\n",
      "New Integral is: 1.4978545340512204\n",
      "The error is: 0.0439430434223\n",
      " \n",
      "Run # 4\n",
      "Power is: 2 ^ 4\n",
      "Old Integral is: 1.4978545340512204\n",
      "New Integral is: 1.5449095721785868\n",
      "The error is: 0.0156850127091\n",
      " \n",
      "Run # 5\n",
      "Power is: 2 ^ 5\n",
      "Old Integral is: 1.5449095721785868\n",
      "New Integral is: 1.5616265189138705\n",
      "The error is: 0.00557231557843\n",
      " \n",
      "Run # 6\n",
      "Power is: 2 ^ 6\n",
      "Old Integral is: 1.5616265189138705\n",
      "New Integral is: 1.5675512114385657\n",
      "The error is: 0.00197489750823\n",
      " \n",
      "Run # 7\n",
      "Power is: 2 ^ 7\n",
      "Old Integral is: 1.5675512114385657\n",
      "New Integral is: 1.5696484563898423\n",
      "The error is: 0.000699081650426\n",
      " \n",
      "Run # 8\n",
      "Power is: 2 ^ 8\n",
      "Old Integral is: 1.5696484563898423\n",
      "New Integral is: 1.5703903961983072\n",
      "The error is: 0.000247313269488\n",
      " \n",
      "Run # 9\n",
      "Power is: 2 ^ 9\n",
      "Old Integral is: 1.5703903961983072\n",
      "New Integral is: 1.570652791478615\n",
      "The error is: 8.74650934359e-05\n",
      " \n",
      "Run # 10\n",
      "Power is: 2 ^ 10\n",
      "Old Integral is: 1.570652791478615\n",
      "New Integral is: 1.570745576359827\n",
      "The error is: 3.09282937373e-05\n",
      " \n",
      "Run # 11\n",
      "Power is: 2 ^ 11\n",
      "Old Integral is: 1.570745576359827\n",
      "New Integral is: 1.5707783832695092\n",
      "The error is: 1.09356365607e-05\n",
      " \n",
      "Run # 12\n",
      "Power is: 2 ^ 12\n",
      "Old Integral is: 1.5707783832695092\n",
      "New Integral is: 1.5707899827057257\n",
      "The error is: 3.86647873881e-06\n",
      " \n",
      "Run # 13\n",
      "Power is: 2 ^ 13\n",
      "Old Integral is: 1.5707899827057257\n",
      "New Integral is: 1.5707940838038796\n",
      "The error is: 1.36703271799e-06\n",
      " \n",
      "Run # 14\n",
      "Power is: 2 ^ 14\n",
      "Old Integral is: 1.5707940838038796\n",
      "New Integral is: 1.5707955337748511\n",
      "The error is: 4.83323657171e-07\n",
      " \n",
      "Run # 15\n",
      "Power is: 2 ^ 15\n",
      "Old Integral is: 1.5707955337748511\n",
      "New Integral is: 1.5707960464194488\n",
      "The error is: 1.70881532554e-07\n",
      " \n",
      "Run # 16\n",
      "Power is: 2 ^ 16\n",
      "Old Integral is: 1.5707960464194488\n",
      "New Integral is: 1.5707962276671166\n",
      "The error is: 6.04158892544e-08\n",
      " \n",
      "Run # 17\n",
      "Power is: 2 ^ 17\n",
      "Old Integral is: 1.5707962276671166\n",
      "New Integral is: 1.5707962917479161\n",
      "The error is: 2.13602665185e-08\n",
      " \n",
      "Run # 18\n",
      "Power is: 2 ^ 18\n",
      "Old Integral is: 1.5707962917479161\n",
      "New Integral is: 1.5707963144039128\n",
      "The error is: 7.5519988781e-09\n",
      " \n",
      "Run # 19\n",
      "Power is: 2 ^ 19\n",
      "Old Integral is: 1.5707963144039128\n",
      "New Integral is: 1.5707963224140242\n",
      "The error is: 2.67003715434e-09\n",
      " \n"
     ]
    },
    {
     "data": {
      "text/plain": [
       "20"
      ]
     },
     "execution_count": 15,
     "metadata": {},
     "output_type": "execute_result"
    }
   ],
   "source": [
    "#your code here\n",
    "import romberg\n",
    "\n",
    "def squareRootArc (x):\n",
    "    return (1-x**2)**0.5\n",
    "\n",
    "\n",
    "tolerance=10**-10\n",
    "interval=(-1,1)\n",
    "\n",
    "romberg.romberg(squareRootArc,interval,tolerance,verbose=True)\n",
    "integral_adaptive(squareRootArc,interval,tolerance,verbose=True)"
   ]
  },
  {
   "cell_type": "markdown",
   "metadata": {},
   "source": [
    "<div class=answer>\n",
    "<div/>\n",
    "**Romberg did the iteration in half the steps (ten versus twenty) that the adaptive integral did**"
   ]
  },
  {
   "cell_type": "markdown",
   "metadata": {},
   "source": [
    "Looking back at the\n",
    "Euler-Maclaurin formula, why might we expect this integral to be\n",
    "problematic?\n",
    "\n",
    "**Comment:**  Our whole analysis is based on the idea that the error in the trapezoidal rule is $O(h^2)$.  But occasionally the coefficient on $h^2$ can be important...\n"
   ]
  },
  {
   "cell_type": "markdown",
   "metadata": {},
   "source": [
    "<div class=answer>\n",
    "<div/>\n",
    "**In this instance, the way that the interval is defined means that the endpoints result in divide by zero errors**"
   ]
  },
  {
   "cell_type": "markdown",
   "metadata": {},
   "source": [
    "There is a further lesson to be learned here.   Sometimes just throwing numerical methods at a problem is not enough.  A little forethought can allow us to\n",
    "transform the problem into one which is more amenable to numerical solution.  Try\n",
    "making the trigonometric substitution $x=\\cos u$.\n",
    "\n",
    "You should have just found that the integral an equivalent to\n",
    "$\\int_0^\\pi \\sin^2 u\\,du$.  Do we still expect trouble?  (Explain.)  "
   ]
  },
  {
   "cell_type": "markdown",
   "metadata": {},
   "source": [
    "<div class=answer>\n",
    "<div/>\n",
    "The first order results in a chain rule derivation where the endpoints result in zero; however, this is not a divide by zero error, which gets us a little further."
   ]
  },
  {
   "cell_type": "markdown",
   "metadata": {},
   "source": [
    "How does this transformed integral fare with the Romberg method?"
   ]
  },
  {
   "cell_type": "code",
   "execution_count": 16,
   "metadata": {},
   "outputs": [
    {
     "name": "stdout",
     "output_type": "stream",
     "text": [
      "integrating on range (-1, 1)\n",
      "\n",
      "R(0,0) +1.416146836547142e+00\n",
      "\n",
      "R(1,0) +7.080734182735712e-01 epsilon(1,0) -2.3602e-01\n",
      "R(1,1) +4.720489455157141e-01\n",
      "\n",
      "R(2,0) +5.838855562027158e-01 epsilon(2,0) -4.1396e-02\n",
      "R(2,1) +5.424896021790973e-01 epsilon(2,1) +4.6960e-03\n",
      "R(2,2) +5.471856459566561e-01\n",
      "\n",
      "R(3,0) +5.548628372118389e-01 epsilon(3,0) -9.6742e-03\n",
      "R(3,1) +5.451885975482132e-01 epsilon(3,1) +1.7993e-04\n",
      "R(3,2) +5.453685305728210e-01 epsilon(3,2) -2.8843e-05\n",
      "R(3,3) +5.453396874714902e-01\n",
      "\n",
      "R(4,0) +5.477217189396392e-01 epsilon(4,0) -2.3804e-03\n",
      "R(4,1) +5.453413461822392e-01 epsilon(4,1) +1.0183e-05\n",
      "R(4,2) +5.453515294245076e-01 epsilon(4,2) -2.6986e-07\n",
      "R(4,3) +5.453512595650105e-01 epsilon(4,3) +4.5381e-08\n",
      "R(4,4) +5.453513049457694e-01\n",
      "\n",
      "R(5,0) +5.459434313209865e-01 epsilon(5,0) -5.9276e-04\n",
      "R(5,1) +5.453506687814357e-01 epsilon(5,1) +6.2151e-07\n",
      "R(5,2) +5.453512902880487e-01 epsilon(5,2) -3.7958e-09\n",
      "R(5,3) +5.453512864922319e-01 epsilon(5,3) +1.0560e-10\n",
      "R(5,4) +5.453512865978287e-01 epsilon(5,4) -1.7935e-11\n",
      "R(5,5) +5.453512865798933e-01\n",
      "\n"
     ]
    },
    {
     "data": {
      "text/plain": [
       "0.54535128657989329"
      ]
     },
     "execution_count": 16,
     "metadata": {},
     "output_type": "execute_result"
    }
   ],
   "source": [
    "#your code here\n",
    "def equalIntegral (x):\n",
    "    return (np.sin(x))**2\n",
    "\n",
    "romberg.romberg(equalIntegral,interval,tolerance,verbose=True)"
   ]
  },
  {
   "cell_type": "markdown",
   "metadata": {},
   "source": [
    "<div class=answer>\n",
    "<div/>\n",
    "It solved it much faster, but also did not quite get to the correct answer."
   ]
  },
  {
   "cell_type": "markdown",
   "metadata": {},
   "source": [
    "## Exercise 5\n",
    "### Life continues to be messy: Oscillatory integrands\n",
    "\n",
    "One perpetual bane of physicists' existence is highly oscillator\n",
    "integrands.  \n",
    "\n",
    "Let us look at the integral\n",
    "$$\n",
    "\\int_0^{2\\pi} e^x \\sin 100x \\,dx.\n",
    "$$\n",
    "First, plot the integrand.  Comment on why it might be problematic.\n",
    "Can you speculate on how many slices might be needed for successful evaluation?"
   ]
  },
  {
   "cell_type": "code",
   "execution_count": 17,
   "metadata": {},
   "outputs": [
    {
     "data": {
      "image/png": "[encoded data removed]",
      "text/plain": [
       "<matplotlib.figure.Figure at 0x79a3710>"
      ]
     },
     "metadata": {},
     "output_type": "display_data"
    }
   ],
   "source": [
    "#your code here\n",
    "def integrand(x):\n",
    "    return np.exp(x)*np.sin(100*x)\n",
    "\n",
    "numPoints=100\n",
    "x = np.linspace(0,2*math.pi,numPoints)\n",
    "y=[]\n",
    "for i in range(numPoints):\n",
    "    y.append(integrand(x[i]))\n",
    "    \n",
    "plt.plot(x,y)\n",
    "plt.show()"
   ]
  },
  {
   "cell_type": "markdown",
   "metadata": {},
   "source": [
    "<div class=answer>\n",
    "<div/>\n",
    "There are section of the graph where the terms preceeding an individual value exceed it in magnitude, while on other parts, the following terms are greater. Additionally, the slope varies wildly, along with the second derivative, as evidenced by the different curvatures."
   ]
  },
  {
   "cell_type": "markdown",
   "metadata": {},
   "source": [
    "Then, see how Romberg fares on this integral.  Comment."
   ]
  },
  {
   "cell_type": "code",
   "execution_count": 18,
   "metadata": {},
   "outputs": [
    {
     "name": "stdout",
     "output_type": "stream",
     "text": [
      "integrating on range (-1, 1)\n",
      "\n",
      "R(0,0) -1.190163011704795e+00\n",
      "\n",
      "R(1,0) -5.950815058523973e-01 epsilon(1,0) +1.9836e-01\n",
      "R(1,1) -3.967210039015981e-01\n",
      "\n",
      "R(2,0) -4.342630574709246e-01 epsilon(2,0) +5.3606e-02\n",
      "R(2,1) -3.806569080104337e-01 epsilon(2,1) +1.0709e-03\n",
      "R(2,2) -3.795859682843561e-01\n",
      "\n",
      "R(3,0) -3.932880334156766e-01 epsilon(3,0) +1.3658e-02\n",
      "R(3,1) -3.796296920639273e-01 epsilon(3,1) +6.8481e-05\n",
      "R(3,2) -3.795612110008268e-01 epsilon(3,2) +3.9297e-07\n",
      "R(3,3) -3.795608180280724e-01\n",
      "\n",
      "R(4,0) -3.829959955377480e-01 epsilon(4,0) +3.4307e-03\n",
      "R(4,1) -3.795653162451051e-01 epsilon(4,1) +4.2917e-06\n",
      "R(4,2) -3.795610245238503e-01 epsilon(4,2) +2.9600e-09\n",
      "R(4,3) -3.795610215638983e-01 epsilon(4,3) -7.9818e-10\n",
      "R(4,4) -3.795610223620781e-01\n",
      "\n",
      "R(5,0) -3.804199670507940e-01 epsilon(5,0) +8.5868e-04\n",
      "R(5,1) -3.795612908884760e-01 epsilon(5,1) +2.6836e-07\n",
      "R(5,2) -3.795610225313674e-01 epsilon(5,2) +3.1627e-11\n",
      "R(5,3) -3.795610224997407e-01 epsilon(5,3) -3.6700e-12\n",
      "R(5,4) -3.795610225034107e-01 epsilon(5,4) -1.3816e-13\n",
      "R(5,5) -3.795610225035488e-01\n",
      "\n"
     ]
    },
    {
     "data": {
      "text/plain": [
       "-0.37956102250354884"
      ]
     },
     "execution_count": 18,
     "metadata": {},
     "output_type": "execute_result"
    }
   ],
   "source": [
    "#your code here\n",
    "\n",
    "romberg.romberg(integrand,interval,tolerance,verbose=True)"
   ]
  },
  {
   "cell_type": "markdown",
   "metadata": {},
   "source": [
    "<div class=answer>\n",
    "<div/>\n",
    "I doubt this is the correct answer. A significant portion of the function lies under the x-axis, so the integral should be a much larger value."
   ]
  },
  {
   "cell_type": "markdown",
   "metadata": {},
   "source": [
    "Now try the integral\n",
    "$$\n",
    "\\int_0^{2\\pi} e^x \\sin 128x \\,dx.\n",
    "$$\n",
    "See how Romberg fares on this integral, and comment on why.\n",
    "Please attach your plot of the integrand."
   ]
  },
  {
   "cell_type": "code",
   "execution_count": 19,
   "metadata": {},
   "outputs": [
    {
     "name": "stdout",
     "output_type": "stream",
     "text": [
      "integrating on range (-1, 1)\n",
      "\n",
      "R(0,0) +1.694728756087657e+00\n",
      "\n",
      "R(1,0) +8.473643780438287e-01 epsilon(1,0) -2.8245e-01\n",
      "R(1,1) +5.649095853625524e-01\n",
      "\n",
      "R(2,0) +9.031034384582732e-01 epsilon(2,0) +1.8580e-02\n",
      "R(2,1) +9.216831252630879e-01 epsilon(2,1) +2.3785e-02\n",
      "R(2,2) +9.454680279231236e-01\n",
      "\n",
      "R(3,0) +9.256106351771388e-01 epsilon(3,0) +7.5024e-03\n",
      "R(3,1) +9.331130340834273e-01 epsilon(3,1) +7.6199e-04\n",
      "R(3,2) +9.338750280047832e-01 epsilon(3,2) -1.8402e-04\n",
      "R(3,3) +9.336910121330634e-01\n",
      "\n",
      "R(4,0) -6.041614676967455e-03 epsilon(4,0) -3.1055e-01\n",
      "R(4,1) -3.165923646283362e-01 epsilon(4,1) -8.3314e-02\n",
      "R(4,2) -3.999060578757871e-01 epsilon(4,2) -2.1171e-02\n",
      "R(4,3) -4.210771862230978e-01 epsilon(4,3) -5.3128e-03\n",
      "R(4,4) -4.263900026872396e-01\n",
      "\n",
      "R(5,0) +4.767133630387751e-02 epsilon(5,0) +1.7904e-02\n",
      "R(5,1) +6.557565329749249e-02 epsilon(5,1) +2.5478e-02\n",
      "R(5,2) +9.105352115921439e-02 epsilon(5,2) +7.7930e-03\n",
      "R(5,3) +9.884653035024615e-02 epsilon(5,3) +2.0389e-03\n",
      "R(5,4) +1.008854468858279e-01 epsilon(5,4) +5.1542e-04\n",
      "R(5,5) +1.014008676576491e-01\n",
      "\n",
      "R(6,0) -1.098542963774274e-02 epsilon(6,0) -1.9552e-02\n",
      "R(6,1) -3.053768495161616e-02 epsilon(6,1) -6.4076e-03\n",
      "R(6,2) -3.694524083489006e-02 epsilon(6,2) -2.0317e-03\n",
      "R(6,3) -3.897696721574886e-02 epsilon(6,3) -5.4048e-04\n",
      "R(6,4) -3.951745151992923e-02 epsilon(6,4) -1.3725e-04\n",
      "R(6,5) -3.965469775492998e-02 epsilon(6,5) -3.4446e-05\n",
      "R(6,6) -3.968914355844953e-02\n",
      "\n",
      "R(7,0) +8.360645232864653e-03 epsilon(7,0) +6.4487e-03\n",
      "R(7,1) +1.480933685640045e-02 epsilon(7,1) +3.0231e-03\n",
      "R(7,2) +1.783247164360156e-02 epsilon(7,2) +8.6949e-04\n",
      "R(7,3) +1.870195914326015e-02 epsilon(7,3) +2.2619e-04\n",
      "R(7,4) +1.892815101133470e-02 epsilon(7,4) +5.7132e-05\n",
      "R(7,5) +1.898528258761159e-02 epsilon(7,5) +1.4320e-05\n",
      "R(7,6) +1.899960248513114e-02 epsilon(7,6) +3.5823e-06\n",
      "R(7,7) +1.900318478056199e-02\n",
      "\n",
      "R(8,0) +1.179187740788214e-02 epsilon(8,0) +1.1437e-03\n",
      "R(8,1) +1.293562146622131e-02 epsilon(8,1) -1.2491e-04\n",
      "R(8,2) +1.281070710687603e-02 epsilon(8,2) -7.9711e-05\n",
      "R(8,3) +1.273099655867404e-02 epsilon(8,3) -2.3416e-05\n",
      "R(8,4) +1.270758101912664e-02 epsilon(8,4) -6.0807e-06\n",
      "R(8,5) +1.270150030554677e-02 epsilon(8,5) -1.5345e-06\n",
      "R(8,6) +1.269996580437899e-02 epsilon(8,6) -3.8452e-07\n",
      "R(8,7) +1.269958128160045e-02 epsilon(8,7) -9.6187e-08\n",
      "R(8,8) +1.269948509477663e-02\n",
      "\n",
      "R(9,0) +1.259503081781367e-02 epsilon(9,0) +2.6772e-04\n",
      "R(9,1) +1.286274862112418e-02 epsilon(9,1) -4.8582e-06\n",
      "R(9,2) +1.285789043145103e-02 epsilon(9,2) +7.4894e-07\n",
      "R(9,3) +1.285863937311095e-02 epsilon(9,3) +5.0056e-07\n",
      "R(9,4) +1.285913993316757e-02 epsilon(9,4) +1.4815e-07\n",
      "R(9,5) +1.285928808459869e-02 epsilon(9,5) +3.8532e-08\n",
      "R(9,6) +1.285932661641287e-02 epsilon(9,6) +9.7272e-09\n",
      "R(9,7) +1.285933634361863e-02 epsilon(9,7) +2.4377e-09\n",
      "R(9,8) +1.285933878132462e-02 epsilon(9,8) +6.0980e-10\n",
      "R(9,9) +1.285933939112037e-02\n",
      "\n",
      "R(10,0) +1.279271866035265e-02 epsilon(10,0) +6.5896e-05\n",
      "R(10,1) +1.285861460786564e-02 epsilon(10,1) -2.7560e-07\n",
      "R(10,2) +1.285833900698174e-02 epsilon(10,2) +7.1202e-09\n",
      "R(10,3) +1.285834612722826e-02 epsilon(10,3) -1.1500e-09\n",
      "R(10,4) +1.285834497724440e-02 epsilon(10,4) -7.7708e-10\n",
      "R(10,5) +1.285834420016139e-02 epsilon(10,5) -2.3050e-10\n",
      "R(10,6) +1.285834396966458e-02 epsilon(10,6) -5.9980e-11\n",
      "R(10,7) +1.285834390968492e-02 epsilon(10,7) -1.5144e-11\n",
      "R(10,8) +1.285834389454135e-02 epsilon(10,8) -3.7952e-12\n",
      "R(10,9) +1.285834389074614e-02 epsilon(10,9) -9.4938e-13\n",
      "R(10,10) +1.285834388979675e-02\n",
      "\n"
     ]
    },
    {
     "data": {
      "image/png": "[encoded data removed]",
      "text/plain": [
       "<matplotlib.figure.Figure at 0x7b9ea58>"
      ]
     },
     "metadata": {},
     "output_type": "display_data"
    }
   ],
   "source": [
    "#your code here\n",
    "\n",
    "def integrandDos(x):\n",
    "    return np.exp(x)*np.sin(128*x)\n",
    "\n",
    "romberg.romberg(integrandDos,interval,tolerance,verbose=True)\n",
    "y=[]\n",
    "for i in range(numPoints):\n",
    "    y.append(integrandDos(x[i]))\n",
    "    \n",
    "plt.plot(x,y)\n",
    "plt.show()"
   ]
  },
  {
   "cell_type": "markdown",
   "metadata": {},
   "source": [
    "<div class=answer>\n",
    "<div/>\n",
    "**This one hovers around the zero in terms of the mean of the function, and thus the integral largely sums close to zero**"
   ]
  },
  {
   "cell_type": "markdown",
   "metadata": {},
   "source": [
    "## Exercise 6\n",
    "### Integrals over infinite ranges\n",
    "\n",
    "Let us start by reproducing Newmans's Example 5.3 (on page 180).  But please ignore Newman's code for Gaussian integration.  Instead, we will continue to use our own Romberg integration function.\n",
    "\n",
    "Integrands which involve the Gaussian $e^{-x^2}$ show up throughout\n",
    "physics.  The basic Gaussian integral has a simple known value, so we\n",
    "will use it as our test case (as we used last week ):\n",
    "$$\n",
    "\\int_{-\\infty}^\\infty e^{-x^2}\\,dx=\\sqrt{\\pi}.\n",
    "$$\n",
    "\n",
    "The integrand is symmetric, so we are free to consider just one half\n",
    "($\\int_{0}^\\infty e^{-x^2}\\,dx$), as Newman uses for his example, then\n",
    "double the result.  Let us transform this integral according\n",
    "to (5.67), to make sure we see how Newman got his expression.\n",
    "\n",
    "**Sorry about the\n",
    "overloading of Gauss's name. A \"Gaussian integral\" is an integral of\n",
    "the Gaussian function.  \"Gaussian integration\" is integration by Gaussian\n",
    "quadrature.  The two are not particularly related.**"
   ]
  },
  {
   "cell_type": "markdown",
   "metadata": {},
   "source": [
    "<div class=answer>\n",
    "<div/>\n",
    "Answer here"
   ]
  },
  {
   "cell_type": "markdown",
   "metadata": {},
   "source": [
    "Now try to evaluate the transformed integral using the Romberg\n",
    "method.  What problem do you encounter, and how can you fix it?\n",
    "It will help to make a plot of the integrand.\n",
    "\n",
    "**Hint:** From looking at the plot,  what is the integrand's limit as $z\\rightarrow 1$?\n"
   ]
  },
  {
   "cell_type": "code",
   "execution_count": null,
   "metadata": {
    "collapsed": true
   },
   "outputs": [],
   "source": [
    "#your code here"
   ]
  },
  {
   "cell_type": "markdown",
   "metadata": {},
   "source": [
    "<div class=answer>\n",
    "<div/>\n",
    "Answer here"
   ]
  },
  {
   "cell_type": "markdown",
   "metadata": {},
   "source": [
    "Finally, how does the Romberg method fare on the integral? Explain."
   ]
  },
  {
   "cell_type": "code",
   "execution_count": null,
   "metadata": {
    "collapsed": true
   },
   "outputs": [],
   "source": [
    "#your code here"
   ]
  },
  {
   "cell_type": "markdown",
   "metadata": {},
   "source": [
    "<div class=answer>\n",
    "<div/>\n",
    "Answer here"
   ]
  },
  {
   "cell_type": "markdown",
   "metadata": {},
   "source": [
    "Plot your transformed integrand."
   ]
  },
  {
   "cell_type": "code",
   "execution_count": null,
   "metadata": {
    "collapsed": true
   },
   "outputs": [],
   "source": [
    "#your code here"
   ]
  },
  {
   "cell_type": "markdown",
   "metadata": {},
   "source": [
    "## Numerical differentiation\n",
    "\n",
    "** Newman Exercise 5.15 **\n",
    "\n",
    "Create a user-defined function ```f(x)``` that returns the value $1 + \\frac{1}{2} \\tanh(2x)$, then use a central difference to calculate the derivative of the function in the range $-2\\le x\\le2$.  Calculate an analytic formula for the derivative and make a graph with your numerical result and the analytic answer on the same plot.  It may help to plot the exact answer as lines and the numerical one as dots.  \n",
    "\n",
    "**Hint:** In Python the ```tanh``` function is found in the ```math``` package, and it's called simply ```tanh```.\n",
    "\n",
    "Please attach your code and plots.\n"
   ]
  },
  {
   "cell_type": "code",
   "execution_count": null,
   "metadata": {
    "collapsed": true
   },
   "outputs": [],
   "source": [
    "#your code here"
   ]
  },
  {
   "cell_type": "code",
   "execution_count": null,
   "metadata": {
    "collapsed": true
   },
   "outputs": [],
   "source": []
  }
 ],
 "metadata": {
  "kernelspec": {
   "display_name": "Python 3",
   "language": "python",
   "name": "python3"
  },
  "language_info": {
   "codemirror_mode": {
    "name": "ipython",
    "version": 3
   },
   "file_extension": ".py",
   "mimetype": "text/x-python",
   "name": "python",
   "nbconvert_exporter": "python",
   "pygments_lexer": "ipython3",
   "version": "3.4.5"
  }
 },
 "nbformat": 4,
 "nbformat_minor": 2
}
