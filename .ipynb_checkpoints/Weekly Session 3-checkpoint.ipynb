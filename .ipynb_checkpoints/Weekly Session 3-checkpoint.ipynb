{
 "cells": [
  {
   "cell_type": "markdown",
   "metadata": {},
   "source": [
    "# Weekly Session 3\n",
    "## Accuracy and Speed\n",
    "\n",
    "### Learning Goals \n",
    "As we have begun to discuss with variable assignments, $\\text{computational math} ~ \\neq ~ \\text{textbook math}$,\n",
    "and thus *it matters how you do it.*\n",
    "\n",
    "We will start to understand these maxims a little better.  That is,\n",
    "calculations at finite precision yield imperfect results, and the\n",
    "final error depends on the algorithm used, in ways which we can\n",
    "begin to understand and control.\n",
    "\n",
    "In addition to practing what we've learned, we'll do a little more file I/O.\n",
    "\n",
    "### First run the box below to get colored cells.  Remember, you will have to change the path of the file style.css\n",
    "\n",
    "Recall that running the command %pwd in a python cell will give you the path to working directory."
   ]
  },
  {
   "cell_type": "code",
   "execution_count": 2,
   "metadata": {},
   "outputs": [
    {
     "name": "stdout",
     "output_type": "stream",
     "text": [
      " Volume in drive C is OS\n",
      " Volume Serial Number is FE3E-5E0A\n",
      "\n",
      " Directory of C:\\Users\\workshop\\Documents\\Johan\\Weekly-Sessions\n",
      "\n",
      "02/12/2018  09:43 AM    <DIR>          .\n",
      "02/12/2018  09:43 AM    <DIR>          ..\n",
      "02/12/2018  09:43 AM    <DIR>          .ipynb_checkpoints\n",
      "02/12/2018  09:41 AM             1,633 README.md\n",
      "02/07/2018  09:08 AM           156,367 stars.txt\n",
      "02/07/2018  09:08 AM           876,193 stm.txt\n",
      "02/07/2018  09:08 AM               343 style.css\n",
      "02/07/2018  09:08 AM            33,387 sunspots.txt\n",
      "02/07/2018  09:08 AM            38,013 Weekly Session 1.ipynb\n",
      "02/12/2018  09:41 AM           122,456 Weekly Session 2.ipynb\n",
      "02/12/2018  09:43 AM            26,164 Weekly Session 3.ipynb\n",
      "               8 File(s)      1,254,556 bytes\n",
      "               3 Dir(s)  204,804,349,952 bytes free\n"
     ]
    }
   ],
   "source": [
    "ls"
   ]
  },
  {
   "cell_type": "code",
   "execution_count": 3,
   "metadata": {},
   "outputs": [
    {
     "data": {
      "text/html": [
       "<style>\n",
       "div.warn {\n",
       "    background-color: black;\n",
       "    border-color: #dFb5b4;\n",
       "    border-left: 5px solid #dfb5b4;\n",
       "    padding: 0.5em\n",
       "    color: white;\n",
       "    }\n",
       " </style>\n",
       "\n",
       " <style>\n",
       " div.answer {\n",
       "     background-color: lightblue;\n",
       "     border-color: #dFb5b4;\n",
       "     border-left: 5px solid #dfb5b4;\n",
       "     padding: 0.5em\n",
       "     }\n",
       "  </style>\n"
      ],
      "text/plain": [
       "<IPython.core.display.HTML object>"
      ]
     },
     "execution_count": 3,
     "metadata": {},
     "output_type": "execute_result"
    }
   ],
   "source": [
    "#For colored cells, currently black cells, white text is added in Markdown\n",
    "#https://stackoverflow.com/questions/18024769/adding-custom-styled-paragraphs-in-markdown-cells\n",
    "from IPython.core.display import HTML\n",
    "def css_styling():\n",
    "    styles = open(\"C:/Users/workshop/Documents/Johan/Weekly-Sessions/style.css\", \"r\").read()\n",
    "    return HTML(styles)\n",
    "css_styling()"
   ]
  },
  {
   "cell_type": "markdown",
   "metadata": {},
   "source": [
    "<div class=answer>\n",
    "*This should be a blue cell with black font if you set the filepath correctly*</font>\n",
    "<div/>"
   ]
  },
  {
   "cell_type": "markdown",
   "metadata": {},
   "source": [
    "----------------------------------------------------------------------------------------------------------------\n",
    "## Introduction\n",
    "----------------------------------------------------------------------------------------------------------------\n",
    "\n",
    "A more complete breakdown of errors and uncertainties in calculations is given in __A Survey of Computational Physics__ by Rubin Landau *et al.* which I summarize briefly below\n",
    "\n",
    "1.  __Blunders__ - mistakes in your theoretical equations or code syntax - generally these are not the focus of this chapter.\n",
    "2.  __Random Errors__ - physical bit flips due to electronic noise, cosmic rays, someone pulling a plug, etc.  These are rare, but are more likely in a week long calculation than a 5 second calculation.\n",
    "3.  __Approximation Errors__ - equations simplified so that a computer can solve them - for instance an integral may be calculated by breaking an area into a sum of small rectangular or trapezoidal areas.  We will discuss these kinds of errors in great detail next chapter.\n",
    "4.  __Round-off Errors__ - as described in Newman's Sections 4.1-4.2."
   ]
  },
  {
   "cell_type": "markdown",
   "metadata": {},
   "source": [
    "<div class=answer>\n",
    "### Discuss with your partner: \n",
    "Which types of errors are most important to understand for a career in computational science?  Why?\n",
    "*Also, which are mostly likely to appear as midterm exam questions?  Why?*\n",
    "<div/>\n",
    "\n",
    "Approximation and Round-Off errors, since those are generated by the computer and it requires an understanding of the programming to detect them when they arise."
   ]
  },
  {
   "cell_type": "markdown",
   "metadata": {},
   "source": [
    "## Exercise 0: Print formatting\n",
    "Later in this notebook you will be asked to print values in a table.  There are many ways to use python to format printed strings.  Here is a quick overview of the newer style for python3:\n",
    "\n",
    "Write the string you want to display in quotes, and put a pair of curly braces `{}` wherever you want to have a variable appear. Then add the format method `.format()` with one argument per variable that needs to go in your string. That's it!"
   ]
  },
  {
   "cell_type": "code",
   "execution_count": 2,
   "metadata": {},
   "outputs": [
    {
     "name": "stdout",
     "output_type": "stream",
     "text": [
      "x = (4886000+0j)\n"
     ]
    },
    {
     "data": {
      "text/plain": [
       "'3.14159 is Pi'"
      ]
     },
     "execution_count": 2,
     "metadata": {},
     "output_type": "execute_result"
    }
   ],
   "source": [
    "#run this code and see what prints.  Play around with it a bit, make x a float, a complex number, etc.\n",
    "x=complex(4.886E+6)\n",
    "print(\"x = {}\".format(x))\n",
    "\n",
    "#here is pi\n",
    "\"{} is Pi\".format(3.14159)"
   ]
  },
  {
   "cell_type": "markdown",
   "metadata": {},
   "source": [
    "You can also specify rounding, format as a percentage, pick a different order, or select items from a list or array. For even more examples, <a href=\"https://docs.python.org/3.1/library/string.html\">read the docs</a>."
   ]
  },
  {
   "cell_type": "code",
   "execution_count": 7,
   "metadata": {},
   "outputs": [
    {
     "data": {
      "text/plain": [
       "'3.14159 is Pi rounded to 5 places'"
      ]
     },
     "execution_count": 7,
     "metadata": {},
     "output_type": "execute_result"
    }
   ],
   "source": [
    "\"{:.6} is Pi rounded to 5 places\".format(3.14159265358979323)"
   ]
  },
  {
   "cell_type": "code",
   "execution_count": 8,
   "metadata": {},
   "outputs": [
    {
     "data": {
      "text/plain": [
       "'23.0% a percentage calculated from a fraction'"
      ]
     },
     "execution_count": 8,
     "metadata": {},
     "output_type": "execute_result"
    }
   ],
   "source": [
    "\"{:.1%} a percentage calculated from a fraction\".format(23/100)"
   ]
  },
  {
   "cell_type": "code",
   "execution_count": 9,
   "metadata": {},
   "outputs": [
    {
     "data": {
      "text/plain": [
       "'3 is third, 2 is middle, 1 is first'"
      ]
     },
     "execution_count": 9,
     "metadata": {},
     "output_type": "execute_result"
    }
   ],
   "source": [
    "\"{2} is third, {1} is middle, {0} is first\".format(1,2,3)"
   ]
  },
  {
   "cell_type": "markdown",
   "metadata": {},
   "source": [
    "That last one is good for making a table.  __Make a small table of integers__ - use a loop to generate the numbers to print, and make sure the rows/columns are well spaced."
   ]
  },
  {
   "cell_type": "code",
   "execution_count": 15,
   "metadata": {},
   "outputs": [
    {
     "name": "stdout",
     "output_type": "stream",
     "text": [
      "2, 1, 0\n",
      "3, 2, 1\n",
      "4, 3, 2\n",
      "5, 4, 3\n",
      "6, 5, 4\n"
     ]
    }
   ],
   "source": [
    "#your answer here\n",
    "for i in range(5):\n",
    "    print(\"{2}, {1}, {0}\".format(i,i+1,i+2))"
   ]
  },
  {
   "cell_type": "markdown",
   "metadata": {},
   "source": [
    "### Predict what will print in the following statement (with your partner is fine) and then try it out. "
   ]
  },
  {
   "cell_type": "code",
   "execution_count": 20,
   "metadata": {},
   "outputs": [
    {
     "name": "stdout",
     "output_type": "stream",
     "text": [
      "2.3       2.35 2.3456700\n"
     ]
    }
   ],
   "source": [
    "v = 2.34567\n",
    "print('{:.1f} {:.2f} {:.7f}'.format(v, v, v))"
   ]
  },
  {
   "cell_type": "markdown",
   "metadata": {},
   "source": [
    "Python also does C like print statements - these are my preference since I know the C codes well.  You are welcome to use the following syntax if you like:"
   ]
  },
  {
   "cell_type": "code",
   "execution_count": 17,
   "metadata": {},
   "outputs": [
    {
     "name": "stdout",
     "output_type": "stream",
     "text": [
      "00000 0.00000 0.00000E+00 0.00000e+00\n",
      "00001 1.00000 1.00000E+00 1.00000e+00\n",
      "00002 2.00000 2.00000E+00 2.00000e+00\n",
      "00003 3.00000 3.00000E+00 3.00000e+00\n",
      "00004 4.00000 4.00000E+00 4.00000e+00\n"
     ]
    }
   ],
   "source": [
    "for i in range(5):\n",
    "    print(\"%4.5d %4.5f %4.5E %4.5e\"%(i,i,i,i) )"
   ]
  },
  {
   "cell_type": "markdown",
   "metadata": {},
   "source": [
    "----------------------------------------------------------------------------------------------------------------\n",
    "## Exercise 1\n",
    "----------------------------------------------------------------------------------------------------------------\n",
    "### Newman Exercise 4.2 (page 133) - *with additional questions / extensions*\n",
    "You are familiar with the standard\n",
    "quadratic formula, which gives the roots of the quadratic polynomial\n",
    "$$\n",
    "ax^2+bx+c\n",
    "$$\n",
    "as\n",
    "$$\n",
    "\\begin{aligned}\n",
    "x_1&=\\frac{-b+\\sqrt{b^2-4ac}}{2a}\\\\\n",
    "x_2&=\\frac{-b-\\sqrt{b^2-4ac}}{2a}.\n",
    "\\end{aligned}\n",
    "$$\n",
    "However, by making the substitution $y=1/x$ and solving for $y$ (again\n",
    "by the quadratic formula), obtain alternate expressions\n",
    "for $x_1$ and $x_2$"
   ]
  },
  {
   "cell_type": "markdown",
   "metadata": {},
   "source": [
    "<div class=answer>\n",
    "### Work this out with a partner.  \n",
    "Check that you get Newman's solution (he suggests an alternate approach).\n",
    "<div/>\n",
    "No need to enter anything here."
   ]
  },
  {
   "cell_type": "markdown",
   "metadata": {},
   "source": [
    "In this problem, let us call the original results the \"standard quadratic formula\" and call these new results the \"reciprocal quadratic formula\" for lack of a better name.  Now we are faced with a question: *Which of these expressions should we use?*  In \"textbook mathematics,\" it would not matter.  The standard and reciprocal results are equivalent.  But, in \"computer mathematics\", it matters which we use.  Let us see how.\n",
    "\n",
    "First, write functions ```quadratic_standard``` and ```quadratic_reciprocal```, to evaluate the roots using the standard and reciprocal expressions, respectively.  *Note:* I have given you a head start with a code block below. \n",
    "\n",
    "Then, apply these two alternative functions to the quadratic equation\n",
    "$$\n",
    "(0.001)x^2 + (1000)x + (0.001) = 0.\n",
    "$$\n",
    "You'll have to calculate your expect roots by hand.  \n",
    "\n",
    "*Hint:* I used a series expansion to approximate $\\sqrt{(1+\\epsilon)} \\approx 1 + 1/2 \\epsilon$,  where $\\epsilon$ is very small."
   ]
  },
  {
   "cell_type": "code",
   "execution_count": 55,
   "metadata": {},
   "outputs": [
    {
     "name": "stdout",
     "output_type": "stream",
     "text": [
      "(-9.999894245993346e-07, -999999.999999)\n",
      "(-1.000000000001e-06, -1000010.5755125057)\n"
     ]
    }
   ],
   "source": [
    "from math import sqrt\n",
    "def quadratic_standard (a,b,c):\n",
    "    x1=(-b+sqrt(b**2-4*a*c))/(2*a)\n",
    "    x2=(-b-sqrt(b**2-4*a*c))/(2*a)\n",
    "    return x1, x2\n",
    "    \n",
    "def quadratic_reciprocal (a,b,c):\n",
    "    x1=2*c/(-b-sqrt(b**2-4*a*c))\n",
    "    x2=2*c/(-b+sqrt(b**2-4*a*c))\n",
    "    return x1, x2\n",
    "\n",
    "quad=constant=0.001\n",
    "linear=1000\n",
    "\n",
    "print(quadratic_standard(quad,linear,constant))\n",
    "print(quadratic_reciprocal(quad,linear,constant))"
   ]
  },
  {
   "cell_type": "markdown",
   "metadata": {},
   "source": [
    "<div class=answer>\n",
    "### Work this out with a partner.  \n",
    "What are the exact solutions?\n",
    "\n",
    "$-10^{-6}$\n",
    "and\n",
    "$-10^6$\n",
    "\n",
    "<div/>\n",
    "Enter your answers here.  \n",
    "*If you want to get fancy, notice how I format my numbers using latex style, for instance:* $10^6$"
   ]
  },
  {
   "cell_type": "markdown",
   "metadata": {},
   "source": [
    "## Provided Code\n",
    "Note that there are several very useful tricks in this sample code.  I was fortunate enough to learn quite a bit of python while working as a graduate teaching assistant.  The author, Mark Caprio, is credited below.  Note the following:\n",
    "\n",
    "* Use of a main function\n",
    "* A loop through a list of function names\n",
    "* Each function has a docstring - we'll talk about those soon.\n",
    "* the function names are printed by a call to \"f.__name__\"\n"
   ]
  },
  {
   "cell_type": "code",
   "execution_count": 56,
   "metadata": {},
   "outputs": [
    {
     "name": "stdout",
     "output_type": "stream",
     "text": [
      "Coefficients: (0.001, 1000, 0.001)\n",
      "   quadratic_standard (-9.999894245993346e-07, -999999.999999)\n",
      "   quadratic_reciprocal (-1.000000000001e-06, -1000010.5755125057)\n",
      "   quadratic (-999999.999999, -1034823.5294117647)\n",
      "\n",
      "Coefficients: (0.001, -1000, 0.001)\n",
      "   quadratic_standard (999999.999999, 9.999894245993346e-07)\n",
      "   quadratic_reciprocal (1000010.5755125057, 1.000000000001e-06)\n",
      "   quadratic (999999.999999, 1034823.5294117647)\n",
      "\n"
     ]
    }
   ],
   "source": [
    "#Source: Mark Caprio, Prof. of Physics, U of Notre Dame.\n",
    "import math\n",
    "\n",
    "def quadratic_standard(a,b,c):\n",
    "    \"\"\" Obtain roots of quadratic equation by standard formulas.\n",
    "\n",
    "    a, b, c: cofficients in a*x^2+b*x+c\n",
    "    Returns tuple (x1,x2), where x1 is the 'plus' root and x2 is the 'minus' root.\n",
    "    \"\"\"\n",
    "\n",
    "    d = math.sqrt(b**2 - 4*a*c)  # discriminant\n",
    "    x1 = (-b + d) / (2*a)\n",
    "    x2 = (-b - d) / (2*a)\n",
    "\n",
    "    return (x1,x2)\n",
    "\n",
    "def quadratic_reciprocal(a,b,c):\n",
    "    \"\"\" Obtain roots of quadratic equation by reciprocal formulas.\n",
    "\n",
    "    a, b, c: cofficients in a*x^2+b*x+c\n",
    "    Returns tuple (x1,x2), where x1 is the 'plus' root and x2 is the 'minus' root.\n",
    "    \"\"\"\n",
    "    \n",
    "    x1=2*c/(-b-sqrt(b**2-4*a*c))\n",
    "    x2=2*c/(-b+sqrt(b**2-4*a*c))\n",
    "    return (x1,x2)\n",
    "\n",
    "def quadratic(a,b,c):\n",
    "    \"\"\" Obtain roots of quadratic equation by best formulas.\n",
    "\n",
    "    a, b, c: cofficients in a*x^2+b*x+c\n",
    "    Returns tuple (x1,x2), where x1 is the 'plus' root and x2 is the 'minus' root.\n",
    "    \"\"\"\n",
    "\n",
    "    d = math.sqrt(b**2 - 4*a*c)  # discriminant\n",
    "\n",
    "    if (b >= 0.):\n",
    "        c,x1=quadratic_standard(a,b,c)\n",
    "        c,x2=quadratic_reciprocal(a,b,c)\n",
    "    else:\n",
    "        x1,c=quadratic_standard(a,b,c)\n",
    "        x2,c=quadratic_reciprocal(a,b,c)\n",
    "\n",
    "    return (x1,x2)\n",
    "\n",
    "# test code - notice how I can give a python code a main function.  This is not in Newman.\n",
    "if (__name__ == \"__main__\"):\n",
    "\n",
    "    polynomials = [\n",
    "        (0.001,1000,0.001),    # roots -1e6, -1e-6\n",
    "        (0.001,-1000,0.001)    # roots 1e-6, 1e6\n",
    "        ]\n",
    "\n",
    "    for coefficients in polynomials:\n",
    "        print(\"Coefficients:\",coefficients)\n",
    "        (a,b,c) = coefficients\n",
    "        for f in (quadratic_standard, quadratic_reciprocal, quadratic):\n",
    "            print(\"  \",f.__name__,f(a,b,c))  #note the very tricky call of the function's name.  \n",
    "        print()\n"
   ]
  },
  {
   "cell_type": "markdown",
   "metadata": {},
   "source": [
    "<div class=answer>\n",
    "### Which calculation is more accurate?   How do you explain the superiority of one result over the other, in terms of the principles you have just learned from Newman?\n",
    "<div/>\n",
    "In both circumstances, the difference function yields a more accurate answer. This is because of Newman's noted \"difference of numbers.\""
   ]
  },
  {
   "cell_type": "markdown",
   "metadata": {},
   "source": [
    "### Try again with the equation \n",
    "$$\n",
    "x^2 -3x + 2 = 0.\n",
    "$$"
   ]
  },
  {
   "cell_type": "code",
   "execution_count": 57,
   "metadata": {},
   "outputs": [
    {
     "name": "stdout",
     "output_type": "stream",
     "text": [
      "Coefficients: (0.001, 1000, 0.001)\n",
      "   quadratic_standard (-9.999894245993346e-07, -999999.999999)\n",
      "   quadratic_reciprocal (-1.000000000001e-06, -1000010.5755125057)\n",
      "   quadratic (-999999.999999, -1034823.5294117647)\n",
      "\n",
      "Coefficients: (0.001, -1000, 0.001)\n",
      "   quadratic_standard (999999.999999, 9.999894245993346e-07)\n",
      "   quadratic_reciprocal (1000010.5755125057, 1.000000000001e-06)\n",
      "   quadratic (999999.999999, 1034823.5294117647)\n",
      "\n",
      "Coefficients: (1, -3, 2)\n",
      "   quadratic_standard (2.0, 1.0)\n",
      "   quadratic_reciprocal (2.0, 1.0)\n",
      "   quadratic (2.0, 2.6180339887498953)\n",
      "\n"
     ]
    }
   ],
   "source": [
    "import math\n",
    "\n",
    "def quadratic_standard(a,b,c):\n",
    "    \"\"\" Obtain roots of quadratic equation by standard formulas.\n",
    "\n",
    "    a, b, c: cofficients in a*x^2+b*x+c\n",
    "    Returns tuple (x1,x2), where x1 is the 'plus' root and x2 is the 'minus' root.\n",
    "    \"\"\"\n",
    "\n",
    "    d = math.sqrt(b**2 - 4*a*c)  # discriminant\n",
    "    x1 = (-b + d) / (2*a)\n",
    "    x2 = (-b - d) / (2*a)\n",
    "\n",
    "    return (x1,x2)\n",
    "\n",
    "def quadratic_reciprocal(a,b,c):\n",
    "    \"\"\" Obtain roots of quadratic equation by reciprocal formulas.\n",
    "\n",
    "    a, b, c: cofficients in a*x^2+b*x+c\n",
    "    Returns tuple (x1,x2), where x1 is the 'plus' root and x2 is the 'minus' root.\n",
    "    \"\"\"\n",
    "    \n",
    "    x1=2*c/(-b-sqrt(b**2-4*a*c))\n",
    "    x2=2*c/(-b+sqrt(b**2-4*a*c))\n",
    "    return (x1,x2)\n",
    "\n",
    "def quadratic(a,b,c):\n",
    "    \"\"\" Obtain roots of quadratic equation by best formulas.\n",
    "\n",
    "    a, b, c: cofficients in a*x^2+b*x+c\n",
    "    Returns tuple (x1,x2), where x1 is the 'plus' root and x2 is the 'minus' root.\n",
    "    \"\"\"\n",
    "\n",
    "    d = math.sqrt(b**2 - 4*a*c)  # discriminant\n",
    "\n",
    "    if (b >= 0.):\n",
    "        c,x1=quadratic_standard(a,b,c)\n",
    "        c,x2=quadratic_reciprocal(a,b,c)\n",
    "    else:\n",
    "        x1,c=quadratic_standard(a,b,c)\n",
    "        x2,c=quadratic_reciprocal(a,b,c)\n",
    "    return (x1,x2)\n",
    "\n",
    "# test code - notice how I can give a python code a main function.  This is not in Newman.\n",
    "if (__name__ == \"__main__\"):\n",
    "\n",
    "    polynomials = [\n",
    "        (0.001,1000,0.001),    # roots -1e6, -1e-6\n",
    "        (0.001,-1000,0.001),# roots 1e-6, 1e6\n",
    "        (1, -3, 2)\n",
    "        ]\n",
    "\n",
    "    for coefficients in polynomials:\n",
    "        print(\"Coefficients:\",coefficients)\n",
    "        (a,b,c) = coefficients\n",
    "        for f in (quadratic_standard, quadratic_reciprocal, quadratic):\n",
    "            print(\"  \",f.__name__,f(a,b,c))  #note the very tricky call of the function's name.  \n",
    "        print()\n"
   ]
  },
  {
   "cell_type": "markdown",
   "metadata": {},
   "source": [
    "<div class=answer>\n",
    "### Explain how the previous equation was a \"difficult\" one numerically, while this one is not.\n",
    "<div/>\n",
    "The prior one contained a very small a and c compared to the massive b. This is what caused the massive difference. The set (1, -3, 2) has elements that are much closer to one another than the other two sets. "
   ]
  },
  {
   "cell_type": "markdown",
   "metadata": {},
   "source": [
    "### Using the insight you have just gained, write a new function ```quadratic()``` which calculates both roots of a quadratic equation accurately in all cases. To test it out, apply it to both of the equations mentioned above, as well as to (note the minus sign on the linear term!)\n",
    "\n",
    "$$(0.001)x^2 + (−1000)x + (0.001) = 0.$$\n"
   ]
  },
  {
   "cell_type": "markdown",
   "metadata": {},
   "source": [
    "----------------------------------------------------------------------------------------\n",
    "## Exercise 2: Summing Series \n",
    "----------------------------------------------------------------------------------------\n",
    "Any function may be expanded as a Taylor series.\n",
    "$$\n",
    "f(x) = \\sum _{n=0}^{\\infty }{\\frac {f^{(n)}(a)}{n!}}\\,(x-a)^{n}\n",
    "$$\n",
    "where $f^{(n)}$ is the $n$-th derivative of the function $f(x)$.  More concretely the sum is:\n",
    "$$\n",
    "f(x) = f(a)+{\\frac {f'(a)}{1!}}(x-a)+{\\frac {f''(a)}{2!}}(x-a)^{2}+{\\frac {f'''(a)}{3!}}(x-a)^{3}+\\cdots .\n",
    "$$\n",
    "Where f'(a) = $\\frac{df}{dx}\\big|_{x=a}$. Note that in each equation above, this is an infinite sum over all terms.  A familar example is the $sine$ function expanded to infinite terms:\n",
    "$$\n",
    "\\sin \\left(x\\right)= x-{\\frac {x^{3}}{3!}}+{\\frac {x^{5}}{5!}}-{\\frac {x^{7}}{7!}}+\\cdots .  \\!\n",
    "$$\n",
    "\n",
    "A common technique in numerical analysis and physics is to truncate this series after a finite number of terms. \n",
    "For example, here is the $sine$ function expanded to 3 terms:\n",
    "$$\n",
    "\\sin \\left(x\\right)\\approx x-{\\frac {x^{3}}{3!}}+{\\frac {x^{5}}{5!}}-{\\frac {x^{7}}{7!}}.\\!\n",
    "$$\n",
    "\n",
    "Indeed, most physics students first encounter this when studying the pendulum, during which we make the small angle approximation: $\\sin{\\theta}\\approx\\theta$.  This is a one-term Taylor series expansion of the $sine$ function.  __We will use truncated series to solve differential equations in lab this week.__\n",
    "\n",
    "### Summing alternating series\n",
    "Notice that the $sine$ function presents an interesting problem.  Here we need to sum over terms that alternately add and subtract.  Work through the handout of __Problem 1.8__ from Landau *et al.*  \n",
    "* Be sure to include a lot of comments in your code.\n",
    "* In order to present your results as a data table, you will need to format your print statement more precisely.  \n"
   ]
  },
  {
   "cell_type": "code",
   "execution_count": 58,
   "metadata": {},
   "outputs": [
    {
     "name": "stdout",
     "output_type": "stream",
     "text": [
      "Analytic of Sine( 0.5 )\n",
      "----------------------\n",
      "Sine= 0.479425538604\n",
      " \n",
      "----------------------\n",
      " \n",
      "Alternating Term Method\n",
      "Sine= 0.4794255386041834\n",
      "N= 6\n",
      " \n",
      "----------------------\n",
      " \n",
      "    x      N  sum      expected difference\n",
      "    0      6  0.47943  0.00000\n"
     ]
    }
   ],
   "source": [
    "### Insert code and comments here\n",
    "import numpy as np\n",
    "import math\n",
    "\n",
    "eps=10**-8\n",
    "x=0.5\n",
    "xlabel=\"x\"\n",
    "nlabel=\"N\"\n",
    "sumlabel=\"sum\"\n",
    "difflabel=\"expected difference\"\n",
    "\n",
    "print(\"Analytic of Sine(\",x,\")\")\n",
    "print(\"----------------------\")\n",
    "print(\"Sine=\",np.sin(x))\n",
    "print(\" \")\n",
    "print(\"----------------------\")\n",
    "print(\" \")\n",
    "\n",
    "term=x\n",
    "sum=x\n",
    "N=1\n",
    "while(np.abs(term/sum)>eps):\n",
    "    N+=1\n",
    "    term=((-1)**(N+1))*(x**(2*N-1))/math.factorial(2*N-1)\n",
    "    sum+=term\n",
    "\n",
    "print(\"Alternating Term Method\")\n",
    "print(\"Sine=\",sum)\n",
    "print(\"N=\",N)\n",
    "\n",
    "print(\" \")\n",
    "print(\"----------------------\")\n",
    "print(\" \")\n",
    "print(\"    %s      %s  %s      %s\"%(xlabel,nlabel,sumlabel,difflabel))\n",
    "print(\"%5.f  %5.f  %5.5f  %5.5f\"%(x,N,sum,np.abs(sum-np.sin(x))/np.sin(x)))"
   ]
  },
  {
   "cell_type": "markdown",
   "metadata": {},
   "source": []
  },
  {
   "cell_type": "markdown",
   "metadata": {},
   "source": [
    "----------------------------------------------------------------------------------------\n",
    "## Exercise 3 - Timing + Jupyter Magics\n",
    "----------------------------------------------------------------------------------------\n",
    "References: \n",
    "https://jakevdp.github.io/PythonDataScienceHandbook/01.07-timing-and-profiling.html\n",
    "https://www.dataquest.io/blog/jupyter-notebook-tips-tricks-shortcuts/\n",
    "\n",
    "%%timeit uses the Python timeit module which runs a statement 100,000 times (by default) and then provides the mean of the fastest three times.  As you might imagine, this can be very useful for profiling your code."
   ]
  },
  {
   "cell_type": "markdown",
   "metadata": {},
   "source": [
    "<div class=answer>\n",
    "### Which python magics commands are used in the Weekly Session 3 notebook?  What do they do?\n",
    "<div/>\n",
    "A lot of time functions; used to try and find out how much time the functions \"eat.\""
   ]
  },
  {
   "cell_type": "markdown",
   "metadata": {},
   "source": [
    "Run the %timeit and %time examples below.  "
   ]
  },
  {
   "cell_type": "code",
   "execution_count": 63,
   "metadata": {},
   "outputs": [
    {
     "ename": "TypeError",
     "evalue": "'float' object is not callable",
     "output_type": "error",
     "traceback": [
      "\u001b[1;31m---------------------------------------------------------------------------\u001b[0m",
      "\u001b[1;31mTypeError\u001b[0m                                 Traceback (most recent call last)",
      "\u001b[1;32m<ipython-input-63-ae27880be975>\u001b[0m in \u001b[0;36m<module>\u001b[1;34m()\u001b[0m\n\u001b[1;32m----> 1\u001b[1;33m \u001b[0mget_ipython\u001b[0m\u001b[1;33m(\u001b[0m\u001b[1;33m)\u001b[0m\u001b[1;33m.\u001b[0m\u001b[0mmagic\u001b[0m\u001b[1;33m(\u001b[0m\u001b[1;34m'timeit sum(range(10))'\u001b[0m\u001b[1;33m)\u001b[0m\u001b[1;33m\u001b[0m\u001b[0m\n\u001b[0m",
      "\u001b[1;32mC:\\Users\\workshop\\Anaconda3\\lib\\site-packages\\IPython\\core\\interactiveshell.py\u001b[0m in \u001b[0;36mmagic\u001b[1;34m(self, arg_s)\u001b[0m\n\u001b[0;32m   2334\u001b[0m         \u001b[0mmagic_name\u001b[0m\u001b[1;33m,\u001b[0m \u001b[0m_\u001b[0m\u001b[1;33m,\u001b[0m \u001b[0mmagic_arg_s\u001b[0m \u001b[1;33m=\u001b[0m \u001b[0marg_s\u001b[0m\u001b[1;33m.\u001b[0m\u001b[0mpartition\u001b[0m\u001b[1;33m(\u001b[0m\u001b[1;34m' '\u001b[0m\u001b[1;33m)\u001b[0m\u001b[1;33m\u001b[0m\u001b[0m\n\u001b[0;32m   2335\u001b[0m         \u001b[0mmagic_name\u001b[0m \u001b[1;33m=\u001b[0m \u001b[0mmagic_name\u001b[0m\u001b[1;33m.\u001b[0m\u001b[0mlstrip\u001b[0m\u001b[1;33m(\u001b[0m\u001b[0mprefilter\u001b[0m\u001b[1;33m.\u001b[0m\u001b[0mESC_MAGIC\u001b[0m\u001b[1;33m)\u001b[0m\u001b[1;33m\u001b[0m\u001b[0m\n\u001b[1;32m-> 2336\u001b[1;33m         \u001b[1;32mreturn\u001b[0m \u001b[0mself\u001b[0m\u001b[1;33m.\u001b[0m\u001b[0mrun_line_magic\u001b[0m\u001b[1;33m(\u001b[0m\u001b[0mmagic_name\u001b[0m\u001b[1;33m,\u001b[0m \u001b[0mmagic_arg_s\u001b[0m\u001b[1;33m)\u001b[0m\u001b[1;33m\u001b[0m\u001b[0m\n\u001b[0m\u001b[0;32m   2337\u001b[0m \u001b[1;33m\u001b[0m\u001b[0m\n\u001b[0;32m   2338\u001b[0m     \u001b[1;31m#-------------------------------------------------------------------------\u001b[0m\u001b[1;33m\u001b[0m\u001b[1;33m\u001b[0m\u001b[0m\n",
      "\u001b[1;32mC:\\Users\\workshop\\Anaconda3\\lib\\site-packages\\IPython\\core\\interactiveshell.py\u001b[0m in \u001b[0;36mrun_line_magic\u001b[1;34m(self, magic_name, line)\u001b[0m\n\u001b[0;32m   2255\u001b[0m                 \u001b[0mkwargs\u001b[0m\u001b[1;33m[\u001b[0m\u001b[1;34m'local_ns'\u001b[0m\u001b[1;33m]\u001b[0m \u001b[1;33m=\u001b[0m \u001b[0msys\u001b[0m\u001b[1;33m.\u001b[0m\u001b[0m_getframe\u001b[0m\u001b[1;33m(\u001b[0m\u001b[0mstack_depth\u001b[0m\u001b[1;33m)\u001b[0m\u001b[1;33m.\u001b[0m\u001b[0mf_locals\u001b[0m\u001b[1;33m\u001b[0m\u001b[0m\n\u001b[0;32m   2256\u001b[0m             \u001b[1;32mwith\u001b[0m \u001b[0mself\u001b[0m\u001b[1;33m.\u001b[0m\u001b[0mbuiltin_trap\u001b[0m\u001b[1;33m:\u001b[0m\u001b[1;33m\u001b[0m\u001b[0m\n\u001b[1;32m-> 2257\u001b[1;33m                 \u001b[0mresult\u001b[0m \u001b[1;33m=\u001b[0m \u001b[0mfn\u001b[0m\u001b[1;33m(\u001b[0m\u001b[1;33m*\u001b[0m\u001b[0margs\u001b[0m\u001b[1;33m,\u001b[0m\u001b[1;33m**\u001b[0m\u001b[0mkwargs\u001b[0m\u001b[1;33m)\u001b[0m\u001b[1;33m\u001b[0m\u001b[0m\n\u001b[0m\u001b[0;32m   2258\u001b[0m             \u001b[1;32mreturn\u001b[0m \u001b[0mresult\u001b[0m\u001b[1;33m\u001b[0m\u001b[0m\n\u001b[0;32m   2259\u001b[0m \u001b[1;33m\u001b[0m\u001b[0m\n",
      "\u001b[1;32m<decorator-gen-60>\u001b[0m in \u001b[0;36mtimeit\u001b[1;34m(self, line, cell)\u001b[0m\n",
      "\u001b[1;32mC:\\Users\\workshop\\Anaconda3\\lib\\site-packages\\IPython\\core\\magic.py\u001b[0m in \u001b[0;36m<lambda>\u001b[1;34m(f, *a, **k)\u001b[0m\n\u001b[0;32m    191\u001b[0m     \u001b[1;31m# but it's overkill for just that one bit of state.\u001b[0m\u001b[1;33m\u001b[0m\u001b[1;33m\u001b[0m\u001b[0m\n\u001b[0;32m    192\u001b[0m     \u001b[1;32mdef\u001b[0m \u001b[0mmagic_deco\u001b[0m\u001b[1;33m(\u001b[0m\u001b[0marg\u001b[0m\u001b[1;33m)\u001b[0m\u001b[1;33m:\u001b[0m\u001b[1;33m\u001b[0m\u001b[0m\n\u001b[1;32m--> 193\u001b[1;33m         \u001b[0mcall\u001b[0m \u001b[1;33m=\u001b[0m \u001b[1;32mlambda\u001b[0m \u001b[0mf\u001b[0m\u001b[1;33m,\u001b[0m \u001b[1;33m*\u001b[0m\u001b[0ma\u001b[0m\u001b[1;33m,\u001b[0m \u001b[1;33m**\u001b[0m\u001b[0mk\u001b[0m\u001b[1;33m:\u001b[0m \u001b[0mf\u001b[0m\u001b[1;33m(\u001b[0m\u001b[1;33m*\u001b[0m\u001b[0ma\u001b[0m\u001b[1;33m,\u001b[0m \u001b[1;33m**\u001b[0m\u001b[0mk\u001b[0m\u001b[1;33m)\u001b[0m\u001b[1;33m\u001b[0m\u001b[0m\n\u001b[0m\u001b[0;32m    194\u001b[0m \u001b[1;33m\u001b[0m\u001b[0m\n\u001b[0;32m    195\u001b[0m         \u001b[1;32mif\u001b[0m \u001b[0mcallable\u001b[0m\u001b[1;33m(\u001b[0m\u001b[0marg\u001b[0m\u001b[1;33m)\u001b[0m\u001b[1;33m:\u001b[0m\u001b[1;33m\u001b[0m\u001b[0m\n",
      "\u001b[1;32mC:\\Users\\workshop\\Anaconda3\\lib\\site-packages\\IPython\\core\\magics\\execution.py\u001b[0m in \u001b[0;36mtimeit\u001b[1;34m(self, line, cell)\u001b[0m\n\u001b[0;32m   1035\u001b[0m             \u001b[0mnumber\u001b[0m \u001b[1;33m=\u001b[0m \u001b[1;36m1\u001b[0m\u001b[1;33m\u001b[0m\u001b[0m\n\u001b[0;32m   1036\u001b[0m             \u001b[1;32mfor\u001b[0m \u001b[0m_\u001b[0m \u001b[1;32min\u001b[0m \u001b[0mrange\u001b[0m\u001b[1;33m(\u001b[0m\u001b[1;36m1\u001b[0m\u001b[1;33m,\u001b[0m \u001b[1;36m10\u001b[0m\u001b[1;33m)\u001b[0m\u001b[1;33m:\u001b[0m\u001b[1;33m\u001b[0m\u001b[0m\n\u001b[1;32m-> 1037\u001b[1;33m                 \u001b[0mtime_number\u001b[0m \u001b[1;33m=\u001b[0m \u001b[0mtimer\u001b[0m\u001b[1;33m.\u001b[0m\u001b[0mtimeit\u001b[0m\u001b[1;33m(\u001b[0m\u001b[0mnumber\u001b[0m\u001b[1;33m)\u001b[0m\u001b[1;33m\u001b[0m\u001b[0m\n\u001b[0m\u001b[0;32m   1038\u001b[0m                 \u001b[0mworst_tuning\u001b[0m \u001b[1;33m=\u001b[0m \u001b[0mmax\u001b[0m\u001b[1;33m(\u001b[0m\u001b[0mworst_tuning\u001b[0m\u001b[1;33m,\u001b[0m \u001b[0mtime_number\u001b[0m \u001b[1;33m/\u001b[0m \u001b[0mnumber\u001b[0m\u001b[1;33m)\u001b[0m\u001b[1;33m\u001b[0m\u001b[0m\n\u001b[0;32m   1039\u001b[0m                 \u001b[1;32mif\u001b[0m \u001b[0mtime_number\u001b[0m \u001b[1;33m>=\u001b[0m \u001b[1;36m0.2\u001b[0m\u001b[1;33m:\u001b[0m\u001b[1;33m\u001b[0m\u001b[0m\n",
      "\u001b[1;32mC:\\Users\\workshop\\Anaconda3\\lib\\site-packages\\IPython\\core\\magics\\execution.py\u001b[0m in \u001b[0;36mtimeit\u001b[1;34m(self, number)\u001b[0m\n\u001b[0;32m    131\u001b[0m         \u001b[0mgc\u001b[0m\u001b[1;33m.\u001b[0m\u001b[0mdisable\u001b[0m\u001b[1;33m(\u001b[0m\u001b[1;33m)\u001b[0m\u001b[1;33m\u001b[0m\u001b[0m\n\u001b[0;32m    132\u001b[0m         \u001b[1;32mtry\u001b[0m\u001b[1;33m:\u001b[0m\u001b[1;33m\u001b[0m\u001b[0m\n\u001b[1;32m--> 133\u001b[1;33m             \u001b[0mtiming\u001b[0m \u001b[1;33m=\u001b[0m \u001b[0mself\u001b[0m\u001b[1;33m.\u001b[0m\u001b[0minner\u001b[0m\u001b[1;33m(\u001b[0m\u001b[0mit\u001b[0m\u001b[1;33m,\u001b[0m \u001b[0mself\u001b[0m\u001b[1;33m.\u001b[0m\u001b[0mtimer\u001b[0m\u001b[1;33m)\u001b[0m\u001b[1;33m\u001b[0m\u001b[0m\n\u001b[0m\u001b[0;32m    134\u001b[0m         \u001b[1;32mfinally\u001b[0m\u001b[1;33m:\u001b[0m\u001b[1;33m\u001b[0m\u001b[0m\n\u001b[0;32m    135\u001b[0m             \u001b[1;32mif\u001b[0m \u001b[0mgcold\u001b[0m\u001b[1;33m:\u001b[0m\u001b[1;33m\u001b[0m\u001b[0m\n",
      "\u001b[1;32m<magic-timeit>\u001b[0m in \u001b[0;36minner\u001b[1;34m(_it, _timer)\u001b[0m\n",
      "\u001b[1;31mTypeError\u001b[0m: 'float' object is not callable"
     ]
    }
   ],
   "source": [
    "%timeit sum(range(10))"
   ]
  },
  {
   "cell_type": "markdown",
   "metadata": {},
   "source": [
    "The code below shows the proper syntax for timing a nested loop.  I had trouble doing this in Newman Example 4.3.  I was able to achieve it by breaking my code into a few pieces, in order to make my syntax as below.  "
   ]
  },
  {
   "cell_type": "code",
   "execution_count": 61,
   "metadata": {},
   "outputs": [
    {
     "name": "stdout",
     "output_type": "stream",
     "text": [
      "1 loops, best of 3: 452 ms per loop\n"
     ]
    }
   ],
   "source": [
    "%%timeit\n",
    "total = 0\n",
    "for i in range(1000):\n",
    "    for j in range(1000):\n",
    "        total += i * (-1) ** j"
   ]
  },
  {
   "cell_type": "markdown",
   "metadata": {
    "collapsed": true
   },
   "source": [
    "Note that this syntax is sensitive to even a comment:"
   ]
  },
  {
   "cell_type": "code",
   "execution_count": 62,
   "metadata": {},
   "outputs": [
    {
     "ename": "SyntaxError",
     "evalue": "invalid syntax (<ipython-input-62-434a22c6add3>, line 2)",
     "output_type": "error",
     "traceback": [
      "\u001b[1;36m  File \u001b[1;32m\"<ipython-input-62-434a22c6add3>\"\u001b[1;36m, line \u001b[1;32m2\u001b[0m\n\u001b[1;33m    %%timeit\u001b[0m\n\u001b[1;37m    ^\u001b[0m\n\u001b[1;31mSyntaxError\u001b[0m\u001b[1;31m:\u001b[0m invalid syntax\n"
     ]
    }
   ],
   "source": [
    "#Try running this code, what happens?\n",
    "%%timeit\n",
    "total = 0\n",
    "for i in range(1000):\n",
    "    for j in range(1000):\n",
    "        total += i * (-1) ** j"
   ]
  },
  {
   "cell_type": "markdown",
   "metadata": {},
   "source": [
    "An interesting use of the %%timeit magic command is to compare the rate of various python libraries.  For instance:"
   ]
  },
  {
   "cell_type": "code",
   "execution_count": 64,
   "metadata": {},
   "outputs": [
    {
     "name": "stdout",
     "output_type": "stream",
     "text": [
      "Numpy random module takes:\n",
      "The slowest run took 180.15 times longer than the fastest. This could mean that an intermediate result is being cached \n",
      "10000000 loops, best of 3: 131 ns per loop\n",
      "The random module takes:\n",
      "The slowest run took 33.44 times longer than the fastest. This could mean that an intermediate result is being cached \n",
      "10000000 loops, best of 3: 72.2 ns per loop\n"
     ]
    }
   ],
   "source": [
    "import numpy as np\n",
    "import random\n",
    "\n",
    "print(\"Numpy random module takes:\")\n",
    "%timeit np.random.random() #note also that numpy has its own random submodule\n",
    "print(\"The random module takes:\")\n",
    "%timeit random.random() #note also that numpy has its own random submodule"
   ]
  },
  {
   "cell_type": "markdown",
   "metadata": {},
   "source": [
    "<div class=answer>\n",
    "### Which random module should you prefer?  Why?\n",
    "<div/>\n",
    "You should prefer the second one, since it resulted in less time wasted. "
   ]
  },
  {
   "cell_type": "markdown",
   "metadata": {},
   "source": [
    "Repeat the example above using a comparison of the math and numpy values for ```sin()```"
   ]
  },
  {
   "cell_type": "code",
   "execution_count": 66,
   "metadata": {},
   "outputs": [
    {
     "name": "stdout",
     "output_type": "stream",
     "text": [
      "Numpy sine module takes:\n",
      "The slowest run took 26.24 times longer than the fastest. This could mean that an intermediate result is being cached \n",
      "1000000 loops, best of 3: 886 ns per loop\n",
      "The sine module takes:\n",
      "The slowest run took 11.11 times longer than the fastest. This could mean that an intermediate result is being cached \n",
      "10000000 loops, best of 3: 136 ns per loop\n"
     ]
    }
   ],
   "source": [
    "#insert your code here\n",
    "import numpy as np\n",
    "import random\n",
    "\n",
    "x=0.5\n",
    "\n",
    "print(\"Numpy sine module takes:\")\n",
    "%timeit np.sin(x)\n",
    "print(\"The sine module takes:\")\n",
    "%timeit math.sin(x)"
   ]
  },
  {
   "cell_type": "markdown",
   "metadata": {
    "collapsed": true
   },
   "source": [
    "----------------------------------------------------------------------------------------\n",
    "## Exercise 4 - Timing + Newman Exercise 4.3\n",
    "----------------------------------------------------------------------------------------\n",
    "Please work out Newman Exercise 4.3 and include the %time or %timeit magics."
   ]
  },
  {
   "cell_type": "code",
   "execution_count": 69,
   "metadata": {},
   "outputs": [
    {
     "name": "stdout",
     "output_type": "stream",
     "text": [
      "The slowest run took 16.33 times longer than the fastest. This could mean that an intermediate result is being cached \n",
      "1000000 loops, best of 3: 813 ns per loop\n",
      "1000000 loops, best of 3: 797 ns per loop\n",
      "The slowest run took 4.53 times longer than the fastest. This could mean that an intermediate result is being cached \n",
      "1000000 loops, best of 3: 800 ns per loop\n",
      "The slowest run took 5.24 times longer than the fastest. This could mean that an intermediate result is being cached \n",
      "1000000 loops, best of 3: 806 ns per loop\n",
      "The slowest run took 6.88 times longer than the fastest. This could mean that an intermediate result is being cached \n",
      "1000000 loops, best of 3: 790 ns per loop\n",
      "The slowest run took 4.89 times longer than the fastest. This could mean that an intermediate result is being cached \n",
      "1000000 loops, best of 3: 803 ns per loop\n",
      "The slowest run took 4.93 times longer than the fastest. This could mean that an intermediate result is being cached \n",
      "1000000 loops, best of 3: 796 ns per loop\n",
      "The slowest run took 4.47 times longer than the fastest. This could mean that an intermediate result is being cached \n",
      "1000000 loops, best of 3: 810 ns per loop\n"
     ]
    }
   ],
   "source": [
    "#insert your code here\n",
    "from numpy import zeros\n",
    "N = 2\n",
    "C = zeros([N,N],float)\n",
    "A=np.random.rand(N,N)\n",
    "B=np.random.rand(N,N)\n",
    "\n",
    "for i in range(N):\n",
    "    for j in range(N):\n",
    "        for k in range(N):\n",
    "            %timeit C[i,j]+=A[i,k]*B[k,j]"
   ]
  },
  {
   "cell_type": "markdown",
   "metadata": {},
   "source": [
    "----------------------------------------------------------------------------------------\n",
    "## Exercise 5 - Timing + Newman Exercise 4.4\n",
    "----------------------------------------------------------------------------------------\n",
    "Please work out Newman Exercise 4.4 and include the %time or %timeit magics. "
   ]
  },
  {
   "cell_type": "code",
   "execution_count": null,
   "metadata": {
    "collapsed": true
   },
   "outputs": [],
   "source": [
    "#insert your code here"
   ]
  }
 ],
 "metadata": {
  "kernelspec": {
   "display_name": "Python 3",
   "language": "python",
   "name": "python3"
  },
  "language_info": {
   "codemirror_mode": {
    "name": "ipython",
    "version": 3
   },
   "file_extension": ".py",
   "mimetype": "text/x-python",
   "name": "python",
   "nbconvert_exporter": "python",
   "pygments_lexer": "ipython3",
   "version": "3.4.5"
  }
 },
 "nbformat": 4,
 "nbformat_minor": 2
}
