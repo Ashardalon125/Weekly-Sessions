{
 "cells": [
  {
   "cell_type": "code",
   "execution_count": 1,
   "metadata": {
    "collapsed": true
   },
   "outputs": [],
   "source": [
    "%%capture\n",
    "import matplotlib.pyplot as plt\n",
    "import matplotlib.animation\n",
    "import numpy as np\n",
    "\n",
    "t = np.linspace(0,2*np.pi)\n",
    "x = np.sin(t)\n",
    "\n",
    "fig, ax = plt.subplots()\n",
    "h = ax.axis([0,2*np.pi,-1,1])\n",
    "l, = ax.plot([],[])\n",
    "\n",
    "def animate(i):\n",
    "    l.set_data(t[:i], x[:i])\n",
    "\n",
    "ani = matplotlib.animation.FuncAnimation(fig, animate, frames=len(t))\n",
    "\n",
    "ani\n",
    "plt.show()"
   ]
  },
  {
   "cell_type": "code",
   "execution_count": 27,
   "metadata": {},
   "outputs": [
    {
     "name": "stderr",
     "output_type": "stream",
     "text": [
      "C:\\Users\\workshop\\Anaconda3\\lib\\site-packages\\ipykernel\\__main__.py:12: DeprecationWarning: using a non-integer number instead of an integer will result in an error in the future\n"
     ]
    }
   ],
   "source": [
    "from banded import banded\n",
    "\n",
    "def Vibration (N, C, m, k, omega):\n",
    "    # Constants\n",
    "    alpha = 2 * k - m * omega * omega\n",
    "\n",
    "    # Initialize the Arrays\n",
    "    A = np.empty([3,N],float)\n",
    "    A[0,:] = -k\n",
    "    A[1,:] = alpha\n",
    "    A[2,:] = -k\n",
    "    A[1.0] - alpha - k\n",
    "    A[1,N-1] = alpha - k\n",
    "    v = np.zeros(N, float)\n",
    "    v[0] = C\n",
    "    \n",
    "    x = banded (A,v,1,1)\n",
    "    return x\n",
    "\n",
    "\n",
    "N = 20\n",
    "C = 1.0\n",
    "m = 1.0\n",
    "k = 6.0\n",
    "omega = 2.0\n",
    "N1 = np.linspace(0,N,N)\n",
    "omega = 2.0\n",
    "amplitude = Vibration(N,C,m,k,omega)*np.cos(omega*t[0])\n",
    "\n",
    "fig, ax = plt.subplots()\n",
    "h = ax.axis([0,2*np.pi,-1,1])\n",
    "l2, = ax.plot(N1,amplitude,\"--ko\")\n",
    "\n",
    "def ani_x(i):\n",
    "    l.set_data(t[i], x[:i])\n",
    "    amplitude = Vibration(N,C,m,k,omega)*np.cos(omega*t[i]) \n",
    "    l2.set_data(N1,amplitude)\n",
    "\n",
    "ani = matplotlib.animation.FuncAnimation(fig, ani_x, frames=len(t))\n",
    "ani\n",
    "plt.show()"
   ]
  },
  {
   "cell_type": "code",
   "execution_count": null,
   "metadata": {
    "collapsed": true
   },
   "outputs": [],
   "source": []
  }
 ],
 "metadata": {
  "kernelspec": {
   "display_name": "Python 3",
   "language": "python",
   "name": "python3"
  },
  "language_info": {
   "codemirror_mode": {
    "name": "ipython",
    "version": 3
   },
   "file_extension": ".py",
   "mimetype": "text/x-python",
   "name": "python",
   "nbconvert_exporter": "python",
   "pygments_lexer": "ipython3",
   "version": "3.4.5"
  }
 },
 "nbformat": 4,
 "nbformat_minor": 1
}
