{
 "cells": [
  {
   "cell_type": "markdown",
   "metadata": {},
   "source": [
    "# Weekly Session 6\n",
    "\n",
    "## Goals/Topics: \n",
    "\n",
    "1.  Applying Gaussian Quadrature  \n",
    "2.  Multidimensional Integrals      \n",
    "    \n",
    "2.  Use built-in integration techniques from the Numpy/Scipy libraries.\n",
    "\n",
    "3.  Practice mechanics of python including\n",
    "    a.  Strings - a simple version of a list with its own methods\n",
    "    b.  Nested Lists - the foundation for working effectively with arrays or matrices.\n",
    "    \n",
    "4.  Practice recursion\n",
    "\n",
    "5.  Lab this week: \n",
    "    * More integration\n",
    "    * Noisy derivatives  \n",
    "    * Errors in integration and derivatives\n",
    "\n",
    "### Readings\n",
    "\n",
    "Finish Ch 5 - *we may circle back to the topics we have skipped in this section* \n",
    "    * Newman - 5.5 (review) \n",
    "    * Newman - 5.6 - Gaussian Quadrature\n",
    "    * Newman - 5.9 - integrals over multiple dimensions\n",
    "    * Newman - 5.10.2 - Errors in derivatives *(review - Newman's clearest writing on error)*\n",
    "    * Newman - 5.10.7 - derivatives of noisy data\n",
    "    \n",
    "    \n",
    "Ch 15 of How to Think Like a Computer Scientist - Runestone Academy \n",
    "    https://runestone.academy/runestone/static/PHY325/IntroRecursion/toctree.html\n",
    "    * section 15.4 - don't get bogged down with Hexadecimal, or other numeric representations we haven't talked about.  Run base 2 and 10 on the example: \n",
    "    ```python\n",
    "        print(toStr(1453,2))\n",
    "        print(toStr(1453,10))\n",
    "    ```\n",
    "We haven't discussed binary representations of numbers, so don't worry about understanding binary - which is a representation of a number in base 2 - this is here for the CS geeks.\n",
    "    \n",
    "Also don't get bogged down in the embedded exercises.  This is tricky stuff we will do together in class."
   ]
  },
  {
   "cell_type": "code",
   "execution_count": 1,
   "metadata": {},
   "outputs": [
    {
     "data": {
      "text/html": [
       "<style>\n",
       "div.warn {\n",
       "    background-color: black;\n",
       "    border-color: #dFb5b4;\n",
       "    border-left: 5px solid #dfb5b4;\n",
       "    padding: 0.5em\n",
       "    color: white;\n",
       "    }\n",
       " </style>\n",
       "\n",
       " <style>\n",
       " div.answer {\n",
       "     background-color: lightblue;\n",
       "     border-color: #dFb5b4;\n",
       "     border-left: 5px solid #dfb5b4;\n",
       "     padding: 0.5em\n",
       "     }\n",
       "  </style>\n"
      ],
      "text/plain": [
       "<IPython.core.display.HTML object>"
      ]
     },
     "execution_count": 1,
     "metadata": {},
     "output_type": "execute_result"
    }
   ],
   "source": [
    "#For colored cells, currently black cells, white text is added in Markdown\n",
    "#https://stackoverflow.com/questions/18024769/adding-custom-styled-paragraphs-in-markdown-cells\n",
    "from IPython.core.display import HTML\n",
    "def css_styling():\n",
    "    styles = open(\"style.css\", \"r\").read()\n",
    "    return HTML(styles)\n",
    "css_styling()"
   ]
  },
  {
   "cell_type": "markdown",
   "metadata": {},
   "source": [
    "<div class=answer>\n",
    "*This should be a blue cell with black font if you set the filepath correctly*</font>\n",
    "<div/>"
   ]
  },
  {
   "cell_type": "markdown",
   "metadata": {},
   "source": [
    "## Exercise 0: the lambda function\n",
    "Quickly read up on the ```lambda``` function [here](https://pythonconquerstheuniverse.wordpress.com/2011/08/29/lambda_tutorial/).  You don't need to memorize anything.  We are doing this exercise because you will see ```lambda``` functions out in wild, and you might as well practice them here.\n",
    "\n",
    "Try the example below:"
   ]
  },
  {
   "cell_type": "code",
   "execution_count": 4,
   "metadata": {
    "collapsed": true
   },
   "outputs": [],
   "source": [
    "#source:\n",
    "#http://www.blog.pythonlibrary.org/2010/07/19/the-python-lambda/\n",
    "import math\n",
    " \n",
    "#----------------------------------------------------------------------\n",
    "def sqroot(x):\n",
    "    \"\"\"\n",
    "    Finds the square root of the number passed in\n",
    "    \"\"\"\n",
    "    return math.sqrt(x)\n",
    " \n",
    "square_rt = lambda x: math.sqrt(x)\n"
   ]
  },
  {
   "cell_type": "markdown",
   "metadata": {},
   "source": [
    "<div class=answer>\n",
    "**Using your new found knowledge, explain the example above.  When/where might the lambda function be useful?**\n",
    "\n",
    "Lambda is useful for one line operations to assign a value. If something requires a function but should not be used more than once, a la above, this is useful.\n",
    "<div/>"
   ]
  },
  {
   "cell_type": "markdown",
   "metadata": {},
   "source": [
    "## Exercise 1: Gaussian Quadrature.  \n",
    "\n",
    "Numerical integration is referred to as numerical quadrature because of the procedure of counting boxes (i.e. the trapezoid rule) that involves adding up *quadralaterals*. Newman and other computational physics textbook authors all treating Gaussian quadrature essentially like a black box.  Here is the main idea of the method, as paraphrased from Landau's book **A Survey of Computational Physics**.  \n",
    "\n",
    "The basic integration function, $f(x)$ is redefined in terms of a weighting function $W(x)$.  The following line is exact:\n",
    "\n",
    "$$\n",
    "Int = \\int_a^b f(x) dx = \\int_a^b W(x) g(x) dx\n",
    "$$\n",
    "\n",
    "What might that gain us?  Take a numerical approximation: \n",
    "\n",
    "$$\n",
    "\\int_a^b W(x) g(x)~ dx \\approx \\sum_{i=1}^N w_i g(x_i)\n",
    "$$\n",
    "\n",
    "Think of calculating the N weights ($w_i$) and integration points ($x_i$) before performing the integral with a particular goal (or constraint). For instance, in Gaussian quadrature the defined constraint is if $f(x)$ is a $(2N-1)$ polynomial, we make the approximation error vanish.  This can only happen for a particular set of weights ($w_i$) and points ($x_i$).\n",
    "\n",
    "For instance, an exact case might involve: $f(x)=x(x+1)$, so $W(x)=x$ and $g(x)=x+1$.  Since $f(x)$ is a second order polynomial, than $2N-1=2 \\rightarrow N=3/2$.  So we propose round up to N=2.  What is with the rounding?\n",
    "\n",
    "Thus Newman states the rule differently: *Gaussian integration on N points gives exact answers for the integrals of polynomial functions up to and including polynomials of degree 2N-1, which means degree 5 when N=3.*  \n",
    "\n",
    "*Let's test this using Newman's black box he provides in the supplementary material.  Why do I call it a blackbox?  He puts the Legendre Polynomials in an appendix in the back of the book, posts the following code online, and doesn't explain how it works, but calls it in his text examples. *\n",
    "\n",
    "**Note the exceptional docstring that follows most of the conventions - it even has usage examples of how to call the function.**"
   ]
  },
  {
   "cell_type": "code",
   "execution_count": 2,
   "metadata": {
    "collapsed": true
   },
   "outputs": [],
   "source": [
    "######################################################################\n",
    "# Mark Newman\n",
    "# http://www-personal.umich.edu/~mejn/cp/programs/gaussxw.py\n",
    "# Functions to calculate integration points and weights for Gaussian\n",
    "# quadrature\n",
    "#\n",
    "# x,w = gaussxwab(N,a,b) returns integration points and weights\n",
    "#           mapped to the interval [a,b], so that sum_i w[i]*f(x[i])\n",
    "#           is the Nth-order Gaussian approximation to the integral\n",
    "#           int_a^b f(x) dx\n",
    "#\n",
    "# This code finds the zeros of the nth Legendre polynomial using\n",
    "# Newton's method, starting from the approximation given in Abramowitz\n",
    "# and Stegun 22.16.6.  The Legendre polynomial itself is evaluated\n",
    "# using the recurrence relation given in Abramowitz and Stegun\n",
    "# 22.7.10.  The function has been checked against other sources for\n",
    "# values of N up to 1000.  It is compatible with version 2 and version\n",
    "# 3 of Python.\n",
    "#\n",
    "# Written by Mark Newman <mejn@umich.edu>, June 4, 2011\n",
    "# You may use, share, or modify this file freely\n",
    "#\n",
    "# Excerpt from Newman:\n",
    "# the calculation of the sample points and weights takes\n",
    "# quite a lot of work—the functions above may take a second or so to complete\n",
    "# the calculation. That’s fine if you call them only once in your program, but\n",
    "# you should avoid calling them many times or you may find your program\n",
    "# runs slowly. Thus, for instance, if you need to do many integrals over different\n",
    "# domains of integration, you should call the function gaussxw once to calculate\n",
    "# the sample points over the standard interval from −1 to +1 and then map the\n",
    "# points yourself to the other integration domains you need. Calling gaussxwab\n",
    "# separately for each different integration domain would be slow and wasteful,\n",
    "# since it would needlessly recalculate the zeros of the Legendre polynomial\n",
    "# each time.\n",
    "######################################################################\n",
    "\n",
    "import numpy as np \n",
    "\n",
    "def gaussxw(N,a=None,b=None,verbose=False):\n",
    "    '''calculate integration points and weights for Gaussian quadrature\n",
    "\n",
    "    ARGUMENTS:\n",
    "    N - order of the Gaussian approximation \n",
    "    a - lower limit of integral, default a=None (limit = -1)\n",
    "    b - upper limit of integral, default b=None (limit =  1)\n",
    "    \n",
    "    RETURNS\n",
    "    x,w = integration points x and integration weights w such that \n",
    "          sum_i w[i]*f(x[i]) is the Nth-order\n",
    "          Gaussian approximation to the integral int_{-a}^b f(x) dx\n",
    "          \n",
    "    USAGE EXAMPLES:\n",
    "    def f1(x):\n",
    "        return x*(x-1)\n",
    "\n",
    "    N=2\n",
    "    a=0\n",
    "    b=1\n",
    "\n",
    "    #return the correct weights with a single call\n",
    "    xp,wp = gaussxw(N,a=a,b=b)\n",
    "    \n",
    "    #return the weights that may be scaled for different limits (a,b)\n",
    "    x,w = gaussxw(N)\n",
    "    xp = 0.5*(b-a)*x + 0.5*(b+a)\n",
    "    wp = 0.5*(b-a)*w\n",
    "    \n",
    "    '''\n",
    "    \n",
    "    if verbose==True:\n",
    "        print(\"The limits of the function are: \",a,b)\n",
    "        \n",
    "    # Initial approximation to roots of the Legendre polynomial\n",
    "    a1 = np.linspace(3,4*N-1,N)/(4*N+2)\n",
    "    x = np.cos(np.pi*a1+1/(8*N*N*np.tan(a1)))\n",
    "\n",
    "    # Find roots using Newton's method\n",
    "    epsilon = 1e-15\n",
    "    delta = 1.0\n",
    "    while delta>epsilon:\n",
    "        p0 = np.ones(N,float)\n",
    "        p1 = np.copy(x)\n",
    "        for k in range(1,N):\n",
    "            p0,p1 = p1,((2*k+1)*x*p1-k*p0)/(k+1)\n",
    "        dp = (N+1)*(p0-x*p1)/(1-x*x)\n",
    "        dx = p1/dp\n",
    "        x -= dx\n",
    "        delta = max(abs(dx))\n",
    "\n",
    "    # Calculate the weights\n",
    "    w = 2*(N+1)*(N+1)/(N*N*(1-x*x)*dp*dp)\n",
    "    \n",
    "    if a==None and b==None:\n",
    "        #generally if you are recalculating the same integral use this method\n",
    "        return x,w\n",
    "    else:\n",
    "        #if you are only doing a single integral, use this method.\n",
    "        return 0.5*(b-a)*x + 0.5*(b+a), 0.5*(b-a)*w"
   ]
  },
  {
   "cell_type": "markdown",
   "metadata": {},
   "source": [
    "Here is my example, using two rectangles (N=2) to solve a case where $f(x)$ is second order.  Check that this matches the analytic result."
   ]
  },
  {
   "cell_type": "code",
   "execution_count": 4,
   "metadata": {},
   "outputs": [
    {
     "name": "stdout",
     "output_type": "stream",
     "text": [
      "The integral is: -0.166666666667\n"
     ]
    }
   ],
   "source": [
    "import gaussxw\n",
    "\n",
    "def f1(x):\n",
    "    return x*(x-1)\n",
    "\n",
    "N=2\n",
    "a=0\n",
    "b=1\n",
    "\n",
    "xp,wp = gaussxw.gaussxwab(N,a=a,b=b)\n",
    "    \n",
    "# Perform the integration\n",
    "s = 0.0\n",
    "for k in range(N):\n",
    "    s += wp[k]*f1(xp[k])\n",
    "\n",
    "print(\"The integral is:\",s)"
   ]
  },
  {
   "cell_type": "markdown",
   "metadata": {},
   "source": [
    "### Do Example 5.2 in Newman using Gaussian quadrature.  \n",
    "You can either directly feed it a,b as in the example above, or do as Newman, and rescale the data as in the example - ```x,w=gaussxw(N)``` et *cetera*.  I recommend this since it is good practice."
   ]
  },
  {
   "cell_type": "code",
   "execution_count": 5,
   "metadata": {},
   "outputs": [
    {
     "name": "stdout",
     "output_type": "stream",
     "text": [
      "4.4\n"
     ]
    }
   ],
   "source": [
    "#your code here.\n",
    "def f(x):\n",
    "    return x**4 - 2*x + 1\n",
    "\n",
    "N = 3\n",
    "a = 0.0\n",
    "b = 2.0\n",
    "\n",
    "x,w = gaussxw.gaussxw(N)\n",
    "xp = 0.5*(b-a)*x + 0.5*(b+a)\n",
    "wp = 0.5*(b-a)*w\n",
    "\n",
    "s=0.0\n",
    "for k in range(N):\n",
    "    s += wp[k]*f(xp[k])\n",
    "    \n",
    "print(s)"
   ]
  },
  {
   "cell_type": "markdown",
   "metadata": {},
   "source": [
    "<div class=answer>\n",
    "#### How many steps did you need to run Gaussian quadrature on this polynomial.  Does it match the constraint?  Explain?\n",
    "\n",
    "We did three steps, which fits with the constraint. The function was a fourth order polynomial, so the constraint was 5/2. This rounds up to 3, and N was equal to 3.\n",
    "<div/>"
   ]
  },
  {
   "cell_type": "markdown",
   "metadata": {},
   "source": [
    "### Do Newman 5.9 - Debye's model for heat conduction\n",
    "There is some mind-blowing physics - and a great story behind the plot you are creating.  We will talk about this as a class.  "
   ]
  },
  {
   "cell_type": "code",
   "execution_count": 5,
   "metadata": {},
   "outputs": [
    {
     "data": {
      "image/png": "[encoded data removed]",
      "text/plain": [
       "<matplotlib.figure.Figure at 0x6c96eb8>"
      ]
     },
     "metadata": {},
     "output_type": "display_data"
    }
   ],
   "source": [
    "#your code here.\n",
    "import matplotlib.pylab as plt\n",
    "from math import exp\n",
    "from scipy import integrate\n",
    "%matplotlib inline\n",
    "\n",
    "def f2 (x):\n",
    "    #print(x)\n",
    "    return (x**4)*math.exp(x)/((math.exp(x)-1)**2)\n",
    "\n",
    "def cv(T, approx):\n",
    "    \n",
    "    V = 0.001 #The volume of the sample in m^3\n",
    "    rho = 6.022*10**28 #The density of the sample in inverse cubic meters\n",
    "    k_b = 1.3806*10**(-23) #The Boltzmann Constant\n",
    "    theta_d = 428 #The Debye temperature in Kelvin\n",
    "    N = 50 #Number of samples for gaussian quadrature\n",
    "    \n",
    "    a = 0\n",
    "    b = theta_d/T\n",
    "    x,w = gaussxw (N)\n",
    "    xp = 0.5*(b-a)*x + 0.5*(b+a)\n",
    "    #print(xp)\n",
    "    wp = 0.5*(b-a)*w\n",
    "    \n",
    "    if (approx == True):\n",
    "        s=0.0\n",
    "        for k in range(N):\n",
    "            s += wp[k]*f2(xp[k])\n",
    "    else:\n",
    "        s, s_error = integrate.quad(f2, a, b)\n",
    "    \n",
    "    return 9*V*rho*k_b*((T/theta_d)**3)*s\n",
    "\n",
    "t = np.linspace (5,500,100)\n",
    "capacityDebye = []\n",
    "capacityIntegral = []\n",
    "\n",
    "for i in range (len(t)):\n",
    "    capacityDebye.append(cv(t[i], True))\n",
    "    capacityIntegral.append(cv(t[i], False))\n",
    "    \n",
    "plt.plot(t,capacityDebye, \"b-\", label = \"Debye Model\")\n",
    "plt.plot(t,capacityIntegral, \"r--\", label = \"Scipy Integral\")\n",
    "plt.title(\"Heat Capacity Versus Temperature\")\n",
    "plt.xlabel (\"Temperature (K)\")\n",
    "plt.ylabel (\"Heat Capacity (J/K)\")\n",
    "plt.legend (loc = 'best')\n",
    "plt.show()"
   ]
  },
  {
   "cell_type": "markdown",
   "metadata": {},
   "source": [
    "<div class=answer>\n",
    "#### How many steps did Newman assign you to run Gaussian quadrature on the Debye integral.  Does it match the constraint?  Explain?\n",
    "\n",
    "He assigned 50 steps. This is well above the 4 that is required of a fourth order equation.\n",
    "<div/>"
   ]
  },
  {
   "cell_type": "markdown",
   "metadata": {},
   "source": [
    "**From here on out, consider Gaussian quadrature a reasonable tool to apply to smooth integrals.  But first one more question**"
   ]
  },
  {
   "cell_type": "markdown",
   "metadata": {},
   "source": [
    "<div class=answer>\n",
    "#### Did the calculation of ```x,w``` depend on the function or just the interval and number of steps?  Explain.\n",
    "\n",
    "Those only had variables related to the interval and the number of steps. This is by the construction of the Gaussian Quadrature, which assigns weightings based on the number of points included.\n",
    "<div/>"
   ]
  },
  {
   "cell_type": "markdown",
   "metadata": {},
   "source": [
    "## Exercise 2: Preprogrammed Integration functions\n",
    "\n",
    "The scipy library is a great tool for integrating functions.  Refer to the complete documentation [here](https://docs.scipy.org/doc/scipy/reference/integrate.html) as needed."
   ]
  },
  {
   "cell_type": "markdown",
   "metadata": {},
   "source": [
    "Let's use the ```quad()``` function first.  Read through its manual [here](https://docs.scipy.org/doc/scipy/reference/generated/scipy.integrate.quad.html#scipy.integrate.quad):"
   ]
  },
  {
   "cell_type": "markdown",
   "metadata": {},
   "source": [
    "<div class=answer>\n",
    "#### What is the ```quad()``` function - you might have guessed it is Gaussian quadrature, but be more specific after looking through the docs:\n",
    "\n",
    "It is a function designed to compute a definite integral given a function and the interval bounds.\n",
    "<div/>"
   ]
  },
  {
   "cell_type": "markdown",
   "metadata": {},
   "source": [
    "The first usage example is below.  You've just encountered several new ideas, including the ```lambda``` function.  I still consider ```lambda``` iterators black magic, but I occasionally use them myself.  Run it and play around with it using option arguments and different functions:"
   ]
  },
  {
   "cell_type": "code",
   "execution_count": 6,
   "metadata": {},
   "outputs": [
    {
     "name": "stdout",
     "output_type": "stream",
     "text": [
      "(21.333333333333336, 2.368475785867001e-13)\n",
      "21.333333333333332\n"
     ]
    }
   ],
   "source": [
    "from scipy import integrate\n",
    "x2 = lambda x: x**2\n",
    "print(integrate.quad(x2, 0, 4)) #numerical result\n",
    "print(4**3 / 3.)                # analytical result"
   ]
  },
  {
   "cell_type": "markdown",
   "metadata": {},
   "source": [
    "<div class=answer>\n",
    "#### What does the ```integrate.quad``` function return?  Use the docs to answer this question.\n",
    "\n",
    "It returns both the full integration value, as well as an estimation of the absolute error.\n",
    "<div/>"
   ]
  },
  {
   "cell_type": "markdown",
   "metadata": {},
   "source": [
    "Run through the next example (in the same link) to calculate $\\int_0^{\\infty} e^{-x}~dx$ ."
   ]
  },
  {
   "cell_type": "code",
   "execution_count": 7,
   "metadata": {},
   "outputs": [
    {
     "name": "stdout",
     "output_type": "stream",
     "text": [
      "(1.0000000000000002, 5.842606996763696e-11)\n"
     ]
    }
   ],
   "source": [
    "#your code here\n",
    "x3 = lambda x: math.exp(-x)\n",
    "print(integrate.quad(x3, 0, np.inf))"
   ]
  },
  {
   "cell_type": "markdown",
   "metadata": {},
   "source": [
    "The next example is very subtle.  What are they doing here?  Add some documentation and additional print statements once you figure it out."
   ]
  },
  {
   "cell_type": "code",
   "execution_count": 8,
   "metadata": {},
   "outputs": [
    {
     "name": "stdout",
     "output_type": "stream",
     "text": [
      "0.5 5.551115123125783e-15\n",
      "1.5 1.6653345369377348e-14\n"
     ]
    }
   ],
   "source": [
    "f = lambda x,a : a*x\n",
    "y, err = integrate.quad(f, 0, 1, args=(1,)) #Sets a to 1\n",
    "print(y,err)\n",
    "y, err = integrate.quad(f, 0, 1, args=(3,)) #Sets a to 3\n",
    "print(y,err)"
   ]
  },
  {
   "cell_type": "markdown",
   "metadata": {},
   "source": [
    "#### Go back to Exercise 5.9 and integrate it using ```quad()``` and plot the new result vs. your own calculation.  The two curves should lie on top of one another, so use a dashed line style to confirm their simularities."
   ]
  },
  {
   "cell_type": "markdown",
   "metadata": {},
   "source": [
    "## Exercise 3: Multidimensional Integrals\n",
    "\n",
    "Newman's introduction to multidimensional integrals is brief - he wants you to know they are possible, but he doesn't belabor them.  Lets do Exercise 5.14 together... the derivation in part (a) takes practice - write down what you can remember from Workshop.  We will work through it together.\n",
    "\n",
    "I've gotten you started on the code below.  I've left two key lines out of the code, marked TODO, that you will need to fill in"
   ]
  },
  {
   "cell_type": "code",
   "execution_count": 6,
   "metadata": {},
   "outputs": [
    {
     "data": {
      "image/png": "[encoded data removed]",
      "text/plain": [
       "<matplotlib.figure.Figure at 0x752fdd8>"
      ]
     },
     "metadata": {},
     "output_type": "display_data"
    }
   ],
   "source": [
    "#Exercise 5.14 Newman\n",
    "#Gravitational Pull of a Uniform Sheet\n",
    "\n",
    "#The mass element is: \n",
    "#dm = rho*dx*dy \n",
    "\n",
    "#the gravitational force due to element dm is (where m1=1kg)\n",
    "#dFg = G*m1 * dm / r**2\n",
    "#where r is a variable that changes over the sheet.\n",
    "\n",
    "#the z-component of the force is Fgz = Fg * cos(theta), where cos(theta)=z/r\n",
    "#where z is a fixed value and r is a variable\n",
    "\n",
    "\n",
    "import numpy as np\n",
    "import matplotlib.pylab as plt\n",
    "%matplotlib inline\n",
    "\n",
    "\n",
    "def integrand (x , y, z):\n",
    "    return 1/((x**2+y**2+z**2)**1.5)\n",
    "\n",
    "### variable defintions:\n",
    "zmin=0.0\n",
    "zmax=1.0\n",
    "N=100\n",
    "zstep = (zmax-zmin)/N\n",
    "L=10.0\n",
    "G=6.674e-11\n",
    "rho=100.0\n",
    "\n",
    "#calculate the points for Gaussian integration\n",
    "# be sure to calculate x,w values that work equally well for x and y (this isn't hard)\n",
    "\n",
    "d,w = gaussxw (N)\n",
    "xp = 0.5*(L/2-(-L/2))*d + 0.5*(L/2+(-L/2))\n",
    "yp = 0.5*(L/2-(-L/2))*d + 0.5*(L/2+(-L/2))\n",
    "wp = 0.5*(L/2-(-L/2))*w\n",
    "\n",
    "zpoints = np.arange(zmin,zmax,zstep)\n",
    "fpoints = np.empty(zpoints.size)\n",
    "\n",
    "#perform the double integral\n",
    "\n",
    "for k in range(zpoints.size):\n",
    "    \n",
    "    z = zpoints[k]\n",
    "    \n",
    "    s=0.0 #define the integral for the fixed z value\n",
    "    \n",
    "    #loop through the x-y values\n",
    "    for i in range(N):\n",
    "        x_local = xp[i]\n",
    "        \n",
    "        for j in range(N):\n",
    "            y_local = yp[j]\n",
    "            \n",
    "            s+= wp[j]*integrand(x_local,y_local,z)\n",
    "            \n",
    "    s *= G*rho*z\n",
    "    fpoints[k] = s\n",
    "\n",
    "plt.plot(zpoints,fpoints)\n",
    "plt.xlabel(\"Z Distance (m)\")\n",
    "plt.ylabel(\"Gravitational Force (N)\")\n",
    "plt.title(\"Gravitational Force versus Z Distance\")\n",
    "plt.show()\n",
    "##add plot labels/titles"
   ]
  },
  {
   "cell_type": "markdown",
   "metadata": {},
   "source": [
    "<div class=answer>\n",
    "### Does your answer make sense?  Do you expect the gravitational force to decrease as you approach the sheet?  So what is going on here?\n",
    "\n",
    "Gravitational Force should increase as you approach the sheet, until the point itself is in the center of mass, whereupon it is being pulled equally in all directions and experiencing no net force.\n",
    "<div/>"
   ]
  },
  {
   "cell_type": "markdown",
   "metadata": {},
   "source": [
    "### Run through the scipy docs on multiple integrals [here](https://docs.scipy.org/doc/scipy/reference/tutorial/integrate.html#general-multiple-integration-dblquad-tplquad-nquad)"
   ]
  },
  {
   "cell_type": "code",
   "execution_count": 10,
   "metadata": {},
   "outputs": [
    {
     "name": "stdout",
     "output_type": "stream",
     "text": [
      "(0.2500000000043577, 1.29830334693681e-08)\n",
      "(0.3333333333366853, 1.3888461883425516e-08)\n",
      "(0.499999999909358, 1.4640839512484866e-08)\n",
      "(0.010416666666666668, 4.101620128472366e-16)\n"
     ]
    },
    {
     "data": {
      "text/plain": [
       "(0.2000000000189363, 1.3682975855986121e-08)"
      ]
     },
     "execution_count": 10,
     "metadata": {},
     "output_type": "execute_result"
    }
   ],
   "source": [
    "#your code here\n",
    "from scipy.integrate import quad, dblquad\n",
    "\n",
    "def I(n):\n",
    "    return dblquad(lambda t, x: np.exp(-x*t)/t**n, 0, np.inf, lambda x: 1, lambda x: np.inf)\n",
    "\n",
    "print(I(4))\n",
    "print(I(3))\n",
    "print(I(2))\n",
    "\n",
    "area = dblquad(lambda x, y: x*y, 0, 0.5, lambda x: 0, lambda x: 1-2*x)\n",
    "print(area)\n",
    "\n",
    "N = 5\n",
    "def f(t, x):\n",
    "    return np.exp(-x*t) / t**N\n",
    "\n",
    "integrate.nquad(f, [[1, np.inf],[0, np.inf]])"
   ]
  },
  {
   "cell_type": "markdown",
   "metadata": {},
   "source": [
    "### Now see if you can use scipy to do the same integral."
   ]
  },
  {
   "cell_type": "code",
   "execution_count": null,
   "metadata": {
    "collapsed": true
   },
   "outputs": [],
   "source": [
    "#your code here"
   ]
  },
  {
   "cell_type": "markdown",
   "metadata": {},
   "source": [
    "## Exercise 4: Strings\n",
    "\n",
    "Write a function that takes a string as an argument and displays\n",
    "the letters backward, one per line.\n",
    "*You will recycle this code, so make sure you make that easy to do.*\n",
    "\n",
    "Don't forget the docstring and write a usage example."
   ]
  },
  {
   "cell_type": "code",
   "execution_count": 11,
   "metadata": {},
   "outputs": [
    {
     "name": "stdout",
     "output_type": "stream",
     "text": [
      "g\n",
      "\n",
      "n\n",
      "\n",
      "i\n",
      "\n",
      "r\n",
      "\n",
      "t\n",
      "\n",
      "s\n",
      "\n",
      " \n",
      "\n",
      "t\n",
      "\n",
      "s\n",
      "\n",
      "e\n",
      "\n",
      "t\n",
      "\n",
      " \n",
      "\n",
      "a\n",
      "\n",
      " \n",
      "\n",
      "s\n",
      "\n",
      "i\n",
      "\n",
      " \n",
      "\n",
      "s\n",
      "\n",
      "i\n",
      "\n",
      "h\n",
      "\n",
      "T\n",
      "\n"
     ]
    }
   ],
   "source": [
    "#your code here\n",
    "\n",
    "def reversal (string):\n",
    "    \"\"\"Accepts a string and prints it in reversed order one line at a time\"\"\"\n",
    "    length = len(string)\n",
    "    counter = -1\n",
    "    while (np.abs(counter) <= length):\n",
    "        print(string[counter])\n",
    "        print()\n",
    "        counter-=1\n",
    "        \n",
    "test_string= \"This is a test string\"\n",
    "reversal(test_string)"
   ]
  },
  {
   "cell_type": "markdown",
   "metadata": {},
   "source": [
    "### String slices\n",
    "Predict what the following code will print and then test it out.\n",
    "\n",
    "```python\n",
    "fruit = \"banana\"\n",
    "print(fruit[:])\n",
    "print(fruit[1:])\n",
    "print(fruit[:1])\n",
    "print(fruit[:-1])\n",
    "print(fruit[-1:])\n",
    "```\n",
    "Answer this conceptually, in general, not based on the specific value \"banana\""
   ]
  },
  {
   "cell_type": "markdown",
   "metadata": {},
   "source": [
    "<div class=answer>\n",
    "The first print will print the values of \"fruit.\" The second prints everything except the first element, while the third prints ONLY the first element. The last two are the reverse, where everything except the last element or ONLY the last element are printed.\n",
    "<div/>"
   ]
  },
  {
   "cell_type": "markdown",
   "metadata": {},
   "source": [
    "Below is an example of applying the ```ord()``` function to the characters in fruit, which prints the ASCII codes for each character.  Check it out, the explanation follows."
   ]
  },
  {
   "cell_type": "code",
   "execution_count": 22,
   "metadata": {},
   "outputs": [
    {
     "name": "stdout",
     "output_type": "stream",
     "text": [
      "98\n",
      "97\n",
      "110\n",
      "97\n",
      "110\n",
      "97\n",
      "banana\n",
      "anana\n",
      "b\n",
      "banan\n",
      "a\n"
     ]
    }
   ],
   "source": [
    "fruit = \"banana\"\n",
    "\n",
    "for i in fruit:\n",
    "    print(ord(i))\n",
    "    \n",
    "print(fruit[:])\n",
    "print(fruit[1:])\n",
    "print(fruit[:1])\n",
    "print(fruit[:-1])\n",
    "print(fruit[-1:])"
   ]
  },
  {
   "cell_type": "markdown",
   "metadata": {},
   "source": [
    "### ASCII codes\n",
    "Characters are represented by a computer, as integers. The correspondence between\n",
    "these integers and characters is defined by the [American Standard Code for Information\n",
    "Interchange (ASCII)](https://en.wikipedia.org/wiki/ASCII). \n",
    "\n",
    "For instance, $65 = A, 66 = B, ... , 97 = a$, etc. \n",
    "\n",
    "It is only when a human interface is involved (e.g., the labels on keyboard keys for input, or the shapes drawn for the \"letters\" on your terminal that any real connection exists between these integers and the good old letters you learned as a child.\n",
    "\n",
    "So, a string is really a list or array of integers. The details of how Python stores this list internally is not really our concern. But, what matters is that Python presents us with an interface for strings, i.e., a set of operations we can do on them, which is in some ways similar to that of a Python list and in some ways different. In Python-speak, lists and strings are both examples of sequences, so we can, e.g., use a for loop to loop over the entries.  First, look up an ASCII table on the web, e.g., Wikipedia. What are the ASCII codes for the letters in your first name? Use proper capitalization. Write out the list ASCII codes."
   ]
  },
  {
   "cell_type": "markdown",
   "metadata": {},
   "source": [
    "<div class=answer>\n",
    "074 111 104 097 110\n",
    "<div/>"
   ]
  },
  {
   "cell_type": "markdown",
   "metadata": {},
   "source": [
    "To check yourself, write a function ascii list which takes a string and returns a list of integer character codes. You can make use the ```ord()``` function, which takes as its argument a string containing a single character and returns the integer ASCII code for this character.  (Etymologically, the names for ```ord()``` and its inverse function ```chr()``` are traditional, inherited from much older languages, such as BASIC. The origin is that ```ord()``` returns an ordinal number corresponding to the character. I guess ```chr()``` for character should be self-explanatory!)  Write a program which keeps inputting a string from the user, then printing the corresponding list of ASCII codes, until the user enters a blank line (null string).  \n",
    "\n",
    "*You will have to remind yourself how to get user input as we did in previous weekly sessions.*"
   ]
  },
  {
   "cell_type": "code",
   "execution_count": 20,
   "metadata": {},
   "outputs": [
    {
     "name": "stdout",
     "output_type": "stream",
     "text": [
      "Please enter a string: Word\n",
      "[87, 111, 114, 100]\n"
     ]
    }
   ],
   "source": [
    "#your answer here\n",
    "\n",
    "def ascii_list (string):\n",
    "    ascii_string = []\n",
    "    for i in range(len(string)):\n",
    "        ascii_string.append(ord(string[i]))\n",
    "    return ascii_string\n",
    "\n",
    "user_string = input(\"Please enter a string: \")\n",
    "print(ascii_list(user_string))"
   ]
  },
  {
   "cell_type": "markdown",
   "metadata": {},
   "source": [
    "### String methods\n",
    "\n",
    "There is a string method called ```count()```. Read the [documentation](https://docs.python.org/2/library/stdtypes.html#string-methods) of this method and write an invocation that counts the number of ```a```'s in \"banana\"\n",
    "\n",
    "Continue to experiment with string methods to make sure you understand how they work.\n",
    "The methods ```strip()``` and ```replace()``` are particularly useful."
   ]
  },
  {
   "cell_type": "code",
   "execution_count": 27,
   "metadata": {},
   "outputs": [
    {
     "name": "stdout",
     "output_type": "stream",
     "text": [
      "3\n"
     ]
    }
   ],
   "source": [
    "#your answer here\n",
    "\n",
    "def a_count (string):\n",
    "    return string.count(\"a\")\n",
    "\n",
    "test_string = \"banana\"\n",
    "print(a_count(test_string))"
   ]
  },
  {
   "cell_type": "markdown",
   "metadata": {},
   "source": [
    "Another string method we have used is to format our strings.  For instance: \n",
    "```python\n",
    "\"The sum of 1 + 2 is {0}\".format(1+2)\n",
    "```\n",
    "Remember this method for printing well formatted output."
   ]
  },
  {
   "cell_type": "markdown",
   "metadata": {},
   "source": [
    "### Commentary: Methods\n",
    "*This is just for your education, so don't worry if you don't completely absorb it yet...*\n",
    "\n",
    "At this point, the method syntax must seem like just a quirky variation on the usual syntax for calling functions. (*Like, whatever, sure we can call a function that way if that's what Python wants...*). \n",
    "\n",
    "**But the idea of methods actually turns out to be very powerful.** It is one\n",
    "aspect of object oriented programming. You have already been using the ```append()``` method for  lists, so this is not entirely new.  I can't resist giving you a foreshadoing of the difference in mindset between traditional procedural programming and object oriented programming, even if it is too early to see how  object oriented programming is useful. The syntax\n",
    "\n",
    "```python\n",
    "find(word,\"a\")\n",
    "```\n",
    "\n",
    "reflects the traditional procedural way of thinking about the problem. It translates into:\n",
    "*Hello function find! Please take this string word and do something to it ->\n",
    "search for an a in it.*\n",
    "\n",
    "Data is just the passive recipient, while procedures do things to the data. But the syntax\n",
    "```python\n",
    "word.find(\"a\")\n",
    "```\n",
    "reflects the object oriented way of thinking about the problem. It translates into\n",
    "\n",
    "*Hello word! Would you kindly tell me if you contain a letter a, and where it is?*\n",
    "\n",
    "You are interacting with the data (here, the string word) as if it were an animate object which could actually do things.\n",
    "The difference in approach looks superficial at first. Indeed, it is not very important in simple problems with simple, orderly data (say, if you are solving a partial differential equation, you just have to deal with a big array of numerical values). But it is game-changing when you have to deal with lots of different types of data at the same time (say, analyzing data from an LHC experiment)."
   ]
  },
  {
   "cell_type": "markdown",
   "metadata": {},
   "source": [
    "### String comparisons\n",
    "The word \"Pineapple\" comes before \"banana\" in terms of sorting\n",
    "order. Explain this behavior in terms of ASCII codes. (You can use your program ascii!)\n",
    "Is it true that \"cat\">\"Dog\", and \"5\">\"15\"? Explain.\n"
   ]
  },
  {
   "cell_type": "markdown",
   "metadata": {},
   "source": [
    "<div class=answer>\n",
    "The Pineapple string has a capital, and thus the number associated with that comes before the 'b' in 'banana.' This is similar for 'cat' and 'Dog'.\n",
    "<div/>"
   ]
  },
  {
   "cell_type": "markdown",
   "metadata": {},
   "source": [
    "### Testing for Palindromes\n",
    "\n",
    "Write a function that takes a string as a parameter and returns ```True``` if the string is a palindrome, ```False``` otherwise. Remember that a string is a palindrome if it is spelled the same both forward and backward. for example: radar is a palindrome. for bonus points palindromes can also be phrases, but you need to remove the spaces and punctuation before checking. for example: \"madam i’m adam\" is a palindrome. Other fun palindromes include:\n",
    "\n",
    "* kayak\n",
    "* aibohphobia\n",
    "* Live not on evil\n",
    "* Reviled did I live, said I, as evil I did deliver\n",
    "* Able was I ere I saw Elba\n",
    "* Kanakanak – a town in Alaska\n",
    "* Wassamassaw – a town in South Dakota\n",
    "\n",
    "(*Hint:* write a ```reverse``` function to make this easy!)."
   ]
  },
  {
   "cell_type": "code",
   "execution_count": 23,
   "metadata": {},
   "outputs": [
    {
     "ename": "TypeError",
     "evalue": "translate() takes exactly one argument (2 given)",
     "output_type": "error",
     "traceback": [
      "\u001b[1;31m---------------------------------------------------------------------------\u001b[0m",
      "\u001b[1;31mTypeError\u001b[0m                                 Traceback (most recent call last)",
      "\u001b[1;32m<ipython-input-23-7ea9e1916aa0>\u001b[0m in \u001b[0;36m<module>\u001b[1;34m()\u001b[0m\n\u001b[0;32m     23\u001b[0m \u001b[1;33m\u001b[0m\u001b[0m\n\u001b[0;32m     24\u001b[0m \u001b[0mtest_string\u001b[0m \u001b[1;33m=\u001b[0m \u001b[1;34m\"Kanakanak\"\u001b[0m\u001b[1;33m\u001b[0m\u001b[0m\n\u001b[1;32m---> 25\u001b[1;33m \u001b[0mprint\u001b[0m\u001b[1;33m(\u001b[0m\u001b[0mpalindrome_test\u001b[0m \u001b[1;33m(\u001b[0m\u001b[0mtest_string\u001b[0m\u001b[1;33m)\u001b[0m\u001b[1;33m)\u001b[0m\u001b[1;33m\u001b[0m\u001b[0m\n\u001b[0m",
      "\u001b[1;32m<ipython-input-23-7ea9e1916aa0>\u001b[0m in \u001b[0;36mpalindrome_test\u001b[1;34m(p_string)\u001b[0m\n\u001b[0;32m      8\u001b[0m \u001b[1;33m\u001b[0m\u001b[0m\n\u001b[0;32m      9\u001b[0m \u001b[1;32mdef\u001b[0m \u001b[0mpalindrome_test\u001b[0m \u001b[1;33m(\u001b[0m\u001b[0mp_string\u001b[0m\u001b[1;33m)\u001b[0m\u001b[1;33m:\u001b[0m\u001b[1;33m\u001b[0m\u001b[0m\n\u001b[1;32m---> 10\u001b[1;33m     \u001b[0mnew_string\u001b[0m \u001b[1;33m=\u001b[0m \u001b[0mpunctuation_Stripper\u001b[0m \u001b[1;33m(\u001b[0m\u001b[0mp_string\u001b[0m\u001b[1;33m)\u001b[0m\u001b[1;33m\u001b[0m\u001b[0m\n\u001b[0m\u001b[0;32m     11\u001b[0m     \u001b[0mlength\u001b[0m \u001b[1;33m=\u001b[0m \u001b[0mlen\u001b[0m\u001b[1;33m(\u001b[0m\u001b[0mnew_string\u001b[0m\u001b[1;33m)\u001b[0m\u001b[1;33m\u001b[0m\u001b[0m\n\u001b[0;32m     12\u001b[0m     \u001b[0mpalindrome\u001b[0m \u001b[1;33m=\u001b[0m \u001b[1;32mFalse\u001b[0m\u001b[1;33m\u001b[0m\u001b[0m\n",
      "\u001b[1;32m<ipython-input-23-7ea9e1916aa0>\u001b[0m in \u001b[0;36mpunctuation_Stripper\u001b[1;34m(s)\u001b[0m\n\u001b[0;32m      5\u001b[0m     \u001b[1;34m\"\"\"How scandalous\"\"\"\u001b[0m\u001b[1;33m\u001b[0m\u001b[0m\n\u001b[0;32m      6\u001b[0m     \u001b[0mtable\u001b[0m\u001b[1;33m=\u001b[0m\u001b[1;32mNone\u001b[0m\u001b[1;33m\u001b[0m\u001b[0m\n\u001b[1;32m----> 7\u001b[1;33m     \u001b[1;32mreturn\u001b[0m \u001b[0ms\u001b[0m\u001b[1;33m.\u001b[0m\u001b[0mtranslate\u001b[0m\u001b[1;33m(\u001b[0m\u001b[1;32mNone\u001b[0m\u001b[1;33m,\u001b[0m \u001b[0mstring\u001b[0m\u001b[1;33m.\u001b[0m\u001b[0mpunctuation\u001b[0m\u001b[1;33m)\u001b[0m\u001b[1;33m\u001b[0m\u001b[0m\n\u001b[0m\u001b[0;32m      8\u001b[0m \u001b[1;33m\u001b[0m\u001b[0m\n\u001b[0;32m      9\u001b[0m \u001b[1;32mdef\u001b[0m \u001b[0mpalindrome_test\u001b[0m \u001b[1;33m(\u001b[0m\u001b[0mp_string\u001b[0m\u001b[1;33m)\u001b[0m\u001b[1;33m:\u001b[0m\u001b[1;33m\u001b[0m\u001b[0m\n",
      "\u001b[1;31mTypeError\u001b[0m: translate() takes exactly one argument (2 given)"
     ]
    }
   ],
   "source": [
    "#your code here\n",
    "import string\n",
    "\n",
    "def punctuation_Stripper (s):\n",
    "    \"\"\"How scandalous\"\"\"\n",
    "    table=None\n",
    "    return s.translate(None, string.punctuation)\n",
    "\n",
    "def palindrome_test (p_string):\n",
    "    new_string = punctuation_Stripper (p_string)\n",
    "    length = len(new_string)\n",
    "    palindrome = False\n",
    "    failure = False\n",
    "    for i in range (len/2):\n",
    "        if (failure == True):\n",
    "            break\n",
    "        elif (new_string [i] == new_string[-1-i]):\n",
    "            palindrome = True\n",
    "        else:\n",
    "            palindrome = False\n",
    "            failure = True\n",
    "    return palindrome\n",
    "\n",
    "test_string = \"Kanakanak\"\n",
    "print(palindrome_test (test_string))"
   ]
  },
  {
   "cell_type": "markdown",
   "metadata": {},
   "source": [
    "**We will also do this with recursion starting on Wednesday.**"
   ]
  },
  {
   "cell_type": "markdown",
   "metadata": {},
   "source": [
    "## Exercise 5: Working with nested lists\n",
    "Write a function called ```nested_sum()``` that takes a nested list of\n",
    "integers and add up the elements from all of the nested lists.  For example, what if you want to add the entries of: \n",
    "\n",
    "```python\n",
    "list1 = [1,2,3] # levels = 1\n",
    "list2 = [[1,2,3],[4,5,6]] # levels = 2\n",
    "list3 = [[[1,2],[3,4]],[[5,6],[7,8]]] # levels = 3\n",
    "```"
   ]
  },
  {
   "cell_type": "code",
   "execution_count": 32,
   "metadata": {},
   "outputs": [
    {
     "ename": "TypeError",
     "evalue": "list indices must be integers, not tuple",
     "output_type": "error",
     "traceback": [
      "\u001b[1;31m---------------------------------------------------------------------------\u001b[0m",
      "\u001b[1;31mTypeError\u001b[0m                                 Traceback (most recent call last)",
      "\u001b[1;32m<ipython-input-32-7326c9f21474>\u001b[0m in \u001b[0;36m<module>\u001b[1;34m()\u001b[0m\n\u001b[0;32m     17\u001b[0m \u001b[1;33m\u001b[0m\u001b[0m\n\u001b[0;32m     18\u001b[0m \u001b[1;31m#print (nested_sum(list1))\u001b[0m\u001b[1;33m\u001b[0m\u001b[1;33m\u001b[0m\u001b[0m\n\u001b[1;32m---> 19\u001b[1;33m \u001b[0mprint\u001b[0m \u001b[1;33m(\u001b[0m\u001b[0mnested_sum\u001b[0m\u001b[1;33m(\u001b[0m\u001b[0mlist2\u001b[0m\u001b[1;33m)\u001b[0m\u001b[1;33m)\u001b[0m\u001b[1;33m\u001b[0m\u001b[0m\n\u001b[0m\u001b[0;32m     20\u001b[0m \u001b[1;31m#print (nested_sum(list3))\u001b[0m\u001b[1;33m\u001b[0m\u001b[1;33m\u001b[0m\u001b[0m\n",
      "\u001b[1;32m<ipython-input-32-7326c9f21474>\u001b[0m in \u001b[0;36mnested_sum\u001b[1;34m(sample_list)\u001b[0m\n\u001b[0;32m      7\u001b[0m         \u001b[1;32mif\u001b[0m \u001b[1;33m(\u001b[0m\u001b[0mlen\u001b[0m\u001b[1;33m(\u001b[0m\u001b[0msample_list\u001b[0m\u001b[1;33m)\u001b[0m \u001b[1;33m>=\u001b[0m\u001b[1;36m2\u001b[0m\u001b[1;33m)\u001b[0m\u001b[1;33m:\u001b[0m\u001b[1;33m\u001b[0m\u001b[0m\n\u001b[0;32m      8\u001b[0m             \u001b[1;32mfor\u001b[0m \u001b[0mj\u001b[0m \u001b[1;32min\u001b[0m \u001b[0mrange\u001b[0m \u001b[1;33m(\u001b[0m\u001b[0mlen\u001b[0m\u001b[1;33m(\u001b[0m\u001b[0msample_list\u001b[0m\u001b[1;33m[\u001b[0m\u001b[0mi\u001b[0m\u001b[1;33m]\u001b[0m\u001b[1;33m)\u001b[0m\u001b[1;33m)\u001b[0m\u001b[1;33m:\u001b[0m\u001b[1;33m\u001b[0m\u001b[0m\n\u001b[1;32m----> 9\u001b[1;33m                 \u001b[0ms\u001b[0m\u001b[1;33m+=\u001b[0m \u001b[0msample_list\u001b[0m\u001b[1;33m[\u001b[0m\u001b[0mi\u001b[0m\u001b[1;33m,\u001b[0m\u001b[0mj\u001b[0m\u001b[1;33m]\u001b[0m\u001b[1;33m\u001b[0m\u001b[0m\n\u001b[0m\u001b[0;32m     10\u001b[0m         \u001b[1;32melse\u001b[0m\u001b[1;33m:\u001b[0m\u001b[1;33m\u001b[0m\u001b[0m\n\u001b[0;32m     11\u001b[0m             \u001b[0ms\u001b[0m\u001b[1;33m+=\u001b[0m \u001b[0msample_list\u001b[0m\u001b[1;33m[\u001b[0m\u001b[0mi\u001b[0m\u001b[1;33m]\u001b[0m\u001b[1;33m\u001b[0m\u001b[0m\n",
      "\u001b[1;31mTypeError\u001b[0m: list indices must be integers, not tuple"
     ]
    }
   ],
   "source": [
    "#your code here\n",
    "\n",
    "def nested_sum (sample_list):\n",
    "    length = len(sample_list)\n",
    "    s = 0\n",
    "    for i in range (length):\n",
    "        if (len(sample_list) >=2):\n",
    "            for j in range (len(sample_list[i])):\n",
    "                s+= sample_list[i,j]\n",
    "        else:\n",
    "            s+= sample_list[i]\n",
    "    return s\n",
    "\n",
    "list1 = [1,2,3]\n",
    "list2 = [[1,2,3],[4,5,6]]\n",
    "list3 = [[[1,2],[3,4]],[[5,6],[7,8]]]\n",
    "\n",
    "#print (nested_sum(list1))\n",
    "#print (nested_sum(list2))\n",
    "#print (nested_sum(list3))"
   ]
  },
  {
   "cell_type": "markdown",
   "metadata": {},
   "source": [
    "Next, use the ```map()``` function to try mapping a simple mathematical function (say, squaring) onto the entries of the following lists:\n",
    "```python\n",
    "list1 = [1,2,3] # levels = 1\n",
    "list2 = [[1,2,3],[4,5,6]] # levels = 2\n",
    "list3 = [[[1,2],[3,4]],[[5,6],[7,8]]] # levels = 3\n",
    "```\n",
    "Warm-up: First, use the built-in function ```map()``` to do this mapping on ```list1```.\n",
    "Newman used ```map()``` in Ch 2, but you should probably [refresh your memory](http://book.pythontips.com/en/latest/map_filter.html).\n",
    "\n",
    "Note that ```map()``` is defined for 1 dimensional lists, so you will have to break your multidimensional list up to do this for ```list2``` and ```list3```."
   ]
  },
  {
   "cell_type": "code",
   "execution_count": null,
   "metadata": {
    "collapsed": true
   },
   "outputs": [],
   "source": [
    "#your code here"
   ]
  },
  {
   "cell_type": "markdown",
   "metadata": {},
   "source": [
    "### The Hilbert matrix\n",
    "\n",
    "The $n\\times n$ Hilbert matrix has its $(i,j)$th entry given by $1/(i+j-1)$.  For\n",
    "instance, the $3\\times 3$ Hilbert matrix is\n",
    "\n",
    "$$\n",
    "\\begin{bmatrix}\n",
    "1 & 1/2 & 1/3 \\\\\n",
    "1/2 & 1/3 & 1/4 \\\\\n",
    "1/3 & 1/4 & 1/5\n",
    "\\end{bmatrix}\n",
    "$$\n",
    "\n",
    "Write a function ```HilbertMatrix(n)``` which returns the $n \\times n$ Hilbert matrix, represented as a nested list.\n"
   ]
  },
  {
   "cell_type": "code",
   "execution_count": 22,
   "metadata": {},
   "outputs": [
    {
     "name": "stdout",
     "output_type": "stream",
     "text": [
      "[[ 1.          0.5         0.33333333]\n",
      " [ 0.5         0.33333333  0.25      ]\n",
      " [ 0.33333333  0.25        0.2       ]]\n"
     ]
    }
   ],
   "source": [
    "#your code here\n",
    "def HilbertMatrix(n):\n",
    "    matrix = np.zeros (shape=(n,n))\n",
    "    for i in range (n):\n",
    "        for j in range (n):\n",
    "            matrix[i][j] = 1/(i+j-1+2)\n",
    "    return matrix\n",
    "\n",
    "print(HilbertMatrix(3))"
   ]
  },
  {
   "cell_type": "markdown",
   "metadata": {},
   "source": [
    "### Creating new lists *vs.* in-place modificaton of old lists\n",
    "\n",
    "Write a function called ```middle()``` that takes a list and returns a new list that contains all but the first and last elements. So ```middle([1,2,3,4])``` should\n",
    "return ```[2,3]```.\n",
    "\n",
    "Write a function called ```chop``` that takes a list, modifies it by removing the first and last elements, and returns ```None```.\n"
   ]
  },
  {
   "cell_type": "code",
   "execution_count": 28,
   "metadata": {},
   "outputs": [
    {
     "name": "stdout",
     "output_type": "stream",
     "text": [
      "[2, 3]\n"
     ]
    }
   ],
   "source": [
    "#your code here\n",
    "def middle(testlist):\n",
    "    newlist = testlist[1:-1]\n",
    "    return newlist\n",
    "\n",
    "slist = [1,2,3,4]\n",
    "print (middle(slist))"
   ]
  },
  {
   "cell_type": "markdown",
   "metadata": {},
   "source": [
    "**How to Think like a Computer Scientist** gives the debugging hint related to this idea of creation of a new list (which is what the addition operator does) *vs.* in-place modification (which is what the ```append``` methods does):\n",
    "\n",
    "*To add an element, you can use the ```append``` method or the ```+``` operator. Assuming that ```t``` is a list and ```x``` is a list element, these are right:\n",
    "\n",
    "```python\n",
    "t.append(x)\n",
    "t = t + [x]\n",
    "```\n",
    "\n",
    "And these are wrong:\n",
    "\n",
    "```python\n",
    "t.append([x]) # WRONG!\n",
    "t = t.append(x) # WRONG!\n",
    "t + [x] # WRONG!\n",
    "t = t + x # WRONG!\n",
    "```\n",
    "\n",
    "Try out each of these examples in interactive mode, and explain\n",
    "what they do, and how it is not what we were setting out to do."
   ]
  },
  {
   "cell_type": "code",
   "execution_count": 30,
   "metadata": {},
   "outputs": [
    {
     "name": "stdout",
     "output_type": "stream",
     "text": [
      "[1, 2, 3, 4]\n",
      "Right\n",
      "[1, 2, 3, 4, 1]\n",
      "[1, 2, 3, 4, 1, 1]\n",
      "\n",
      "Wrong\n"
     ]
    },
    {
     "ename": "TypeError",
     "evalue": "unsupported operand type(s) for +: 'NoneType' and 'list'",
     "output_type": "error",
     "traceback": [
      "\u001b[1;31m---------------------------------------------------------------------------\u001b[0m",
      "\u001b[1;31mTypeError\u001b[0m                                 Traceback (most recent call last)",
      "\u001b[1;32m<ipython-input-30-5ea2df75f41a>\u001b[0m in \u001b[0;36m<module>\u001b[1;34m()\u001b[0m\n\u001b[0;32m     13\u001b[0m \u001b[0mt\u001b[0m\u001b[1;33m.\u001b[0m\u001b[0mappend\u001b[0m\u001b[1;33m(\u001b[0m\u001b[1;33m[\u001b[0m\u001b[0mx\u001b[0m\u001b[1;33m]\u001b[0m\u001b[1;33m)\u001b[0m\u001b[1;33m\u001b[0m\u001b[0m\n\u001b[0;32m     14\u001b[0m \u001b[0mt\u001b[0m \u001b[1;33m=\u001b[0m \u001b[0mt\u001b[0m\u001b[1;33m.\u001b[0m\u001b[0mappend\u001b[0m\u001b[1;33m(\u001b[0m\u001b[0mx\u001b[0m\u001b[1;33m)\u001b[0m\u001b[1;33m\u001b[0m\u001b[0m\n\u001b[1;32m---> 15\u001b[1;33m \u001b[0mt\u001b[0m \u001b[1;33m+\u001b[0m \u001b[1;33m[\u001b[0m\u001b[0mx\u001b[0m\u001b[1;33m]\u001b[0m\u001b[1;33m\u001b[0m\u001b[0m\n\u001b[0m\u001b[0;32m     16\u001b[0m \u001b[0mt\u001b[0m \u001b[1;33m=\u001b[0m \u001b[0mt\u001b[0m \u001b[1;33m+\u001b[0m\u001b[0mx\u001b[0m\u001b[1;33m\u001b[0m\u001b[0m\n",
      "\u001b[1;31mTypeError\u001b[0m: unsupported operand type(s) for +: 'NoneType' and 'list'"
     ]
    }
   ],
   "source": [
    "#your answer here\n",
    "t = [1,2,3,4]\n",
    "print(t)\n",
    "print(\"Right\")\n",
    "x = 1\n",
    "t.append(x)\n",
    "print(t)\n",
    "t = t + [x]\n",
    "print(t)\n",
    "print()\n",
    "\n",
    "print(\"Wrong\")\n",
    "t.append([x])\n",
    "t = t.append(x)\n",
    "t + [x]\n",
    "t = t +x"
   ]
  },
  {
   "cell_type": "markdown",
   "metadata": {},
   "source": [
    "# Intro to Recursion \n",
    "*Before proceeding, do the reading for Thursday's Lab.*\n",
    "\n",
    "As stated in **How to Think Like a Computer Scientist**\n",
    "\n",
    "All recursive algorithms must obey three important laws:\n",
    "\n",
    "1.  A recursive algorithm must have a base case.\n",
    "2.  A recursive algorithm must change its state and move toward the base case.\n",
    "3.  A recursive algorithm must call itself, recursively.\n",
    "\n",
    "Be prepared to identify these rules for every following recursive algorithm in this notebook."
   ]
  },
  {
   "cell_type": "markdown",
   "metadata": {},
   "source": [
    "## Exercise 6 - Introducing Recursion \n",
    "\n",
    "*Newman introduces recursion way back in Exercise 2.13.  The problem is reproduced here for us to work through:*\n",
    "\n",
    "### Factorials\n",
    "A useful feature of user-defined functions is **recursion**, the ability of a function to call itself.  For example, consider the following definition of the factorial $n!$ of a positive integer $n$:\n",
    "$$\n",
    "n! = \\biggl\\lbrace\\begin{array}{ll}\n",
    "  1 & \\qquad\\mbox{if $n=1$,} \\\\\n",
    "  n\\times(n-1)! & \\qquad\\mbox{if $n>1$.}\n",
    "\\end{array}\n",
    "$$\n",
    "\n",
    "This constitutes a complete definition of the factorial which allows us to calculate the value of $n!$ for any positive integer.  We can employ this definition directly to create a Python function for factorials, like this:\n",
    "```python\n",
    "def factorial(n):\n",
    "    if n==1:\n",
    "        return 1\n",
    "    else:\n",
    "        return n*factorial(n-1)\n",
    "```\n",
    "Note how, if $n$ is not equal to 1, the function calls itself to calculate the factorial of $n-1$.  This is recursion.  If we now say ```print(factorial(5))``` the computer will correctly print the answer $120$."
   ]
  },
  {
   "cell_type": "markdown",
   "metadata": {},
   "source": [
    "<div class=answer>\n",
    "#### In the algorithm above, explain how Newman uses the 3 rules of recursion\n",
    "The algorithm has a base case for n == 1. It must move towards the base case, which it does by iterating the n factor downwards (presuming all potential non-1 n's are greater than n). And it calls itself recursively.\n",
    "<div/>"
   ]
  },
  {
   "cell_type": "markdown",
   "metadata": {},
   "source": [
    "### Catalan Numbers (also from Newman)\n",
    "We encountered the Catalan numbers $C_n$ previously in Exercise 2.7\n",
    "  on page 46.  With just a little rearrangement, the definition given there\n",
    "  can be rewritten in the form\n",
    "    $$\n",
    "    C_n = \\left\\lbrace\\begin{array}{ll}\n",
    "       1 & \\qquad\\mbox{if $n=0$,} \\\\\n",
    "      \\dfrac{4n-2}{n+1}\\,C_{n-1} & \\qquad\\mbox{if $n>0$.}\n",
    "       \\end{array}\\right.\n",
    "    $$\n",
    "\n",
    "Write a Python function, using recursion, that calculates $C_n$.  Use your function to calculate and print $C_{100}$."
   ]
  },
  {
   "cell_type": "code",
   "execution_count": 31,
   "metadata": {},
   "outputs": [
    {
     "data": {
      "text/plain": [
       "8.965199470901317e+56"
      ]
     },
     "execution_count": 31,
     "metadata": {},
     "output_type": "execute_result"
    }
   ],
   "source": [
    "#your answer here\n",
    "def catalan (n):\n",
    "    if n == 0:\n",
    "        return 1\n",
    "    else:\n",
    "        return ((4*n)-2)/(n+1)*catalan(n-1)\n",
    "    \n",
    "catalan(100)"
   ]
  },
  {
   "cell_type": "markdown",
   "metadata": {},
   "source": [
    "Comparing the calculation of the Catalan numbers above with\n",
    "that of Exercise 2.7, we see that it's possible to do the calculation two\n",
    "ways, either directly or using recursion.  In most cases, if a quantity can\n",
    "be calculated *without* recursion, then it will be faster to do so,\n",
    "and we normally recommend taking this route if possible.  There are some\n",
    "calculations, however, that are essentially impossible (or at least much\n",
    "more difficult) without recursion.  We will see some examples later in this\n",
    "book."
   ]
  },
  {
   "cell_type": "markdown",
   "metadata": {},
   "source": [
    "### Now repeat the palindrome test with a recursion algorithm."
   ]
  },
  {
   "cell_type": "code",
   "execution_count": null,
   "metadata": {
    "collapsed": true
   },
   "outputs": [],
   "source": [
    "#your code here."
   ]
  }
 ],
 "metadata": {
  "kernelspec": {
   "display_name": "Python 3",
   "language": "python",
   "name": "python3"
  },
  "language_info": {
   "codemirror_mode": {
    "name": "ipython",
    "version": 3
   },
   "file_extension": ".py",
   "mimetype": "text/x-python",
   "name": "python",
   "nbconvert_exporter": "python",
   "pygments_lexer": "ipython3",
   "version": "3.4.5"
  }
 },
 "nbformat": 4,
 "nbformat_minor": 2
}
