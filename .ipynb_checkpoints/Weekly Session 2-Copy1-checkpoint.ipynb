{
 "cells": [
  {
   "cell_type": "markdown",
   "metadata": {},
   "source": [
    "# Physics 325, Spring 2018, Weekly Session 2: Graphing <a id='home'></a> "
   ]
  },
  {
   "cell_type": "markdown",
   "metadata": {},
   "source": [
    "<div class=warn>\n",
    "<font color='white'>\n",
    "\n",
    "## Black and White Cells (i.e. Styling the notebook).\n",
    "\n",
    "I have made some lovely white on black cells for you to answer questions in (basically so they are easier to see).  In order to see these you need to\n",
    "* Download the style sheet _style.css_ to the same folder as this notebook (it could be elsewere... ask about that if you like). \n",
    "* Study the next cell in the notebook [linked here](#last_cell).\n",
    "* In a blank python cell type the command \"%pwd\" which is an in-line command which stands for \"print working directory\" that comes from the Unix-command line.  You should see a file path.\n",
    "    * On my Mac it reads: \n",
    "     '/Users/mcde2235/Box Sync/Coursework/PHY325/Spring2018/Weekly-Sessions'\n",
    "    * On a lab Windows machine it reads: \n",
    "     'C:\\\\Users\\\\workshop\\\\Documents\\\\GitHub\\\\Test_Folder\\\\Weekly-Sessions'\n",
    "     \n",
    "* Modify the source code in the python cell to have that filepath.  The example below has been modified for my Mac\n",
    "    \n",
    "* you should see pink Markdown cells throughout the notebook meant for you to fill in your answers\n",
    "    \n",
    "* <font color=hotpink> Don't like black and white? Miss pink?  </font>  Well, this is the perfect opportunity to learn a little about the HTML style sheet.  Open the file and adjust the color - the color codes are currently Hex style - just google \"HTML color codes\" and dig around to pick a favorite.  \n",
    "</font>\n",
    "<div/>"
   ]
  },
  {
   "cell_type": "code",
   "execution_count": 3,
   "metadata": {},
   "outputs": [
    {
     "data": {
      "text/html": [
       "<style>\n",
       "div.warn {\n",
       "    background-color: black;\n",
       "    border-color: #dFb5b4;\n",
       "    border-left: 5px solid #dfb5b4;\n",
       "    padding: 0.5em\n",
       "    color: white;\n",
       "    }\n",
       " </style>\n",
       "\n",
       " <style>\n",
       " div.answer {\n",
       "     background-color: lightblue;\n",
       "     border-color: #dFb5b4;\n",
       "     border-left: 5px solid #dfb5b4;\n",
       "     padding: 0.5em\n",
       "     }\n",
       "  </style>\n"
      ],
      "text/plain": [
       "<IPython.core.display.HTML object>"
      ]
     },
     "execution_count": 3,
     "metadata": {},
     "output_type": "execute_result"
    }
   ],
   "source": [
    "#For colored cells, currently black cells, white text is added in Markdown\n",
    "#https://stackoverflow.com/questions/18024769/adding-custom-styled-paragraphs-in-markdown-cells\n",
    "from IPython.core.display import HTML\n",
    "def css_styling():\n",
    "    styles = open(\"/Users/mcde2235/Box Sync/Coursework/PHY325/Spring2018/Weekly-Sessions/style.css\", \"r\").read()\n",
    "    return HTML(styles)\n",
    "css_styling()"
   ]
  },
  {
   "cell_type": "markdown",
   "metadata": {},
   "source": [
    "<div class=warn>\n",
    "<font color='white'>*This should be a black with white font if you got the cell above working*</font>\n",
    "<div/>"
   ]
  },
  {
   "cell_type": "code",
   "execution_count": 2,
   "metadata": {},
   "outputs": [
    {
     "data": {
      "text/plain": [
       "'/Users/mcde2235/Box Sync/Coursework/PHY325/Spring2018/Weekly-Sessions'"
      ]
     },
     "execution_count": 2,
     "metadata": {},
     "output_type": "execute_result"
    }
   ],
   "source": [
    "%pwd  #run this cell to \"print working directory\" or pwd"
   ]
  },
  {
   "cell_type": "markdown",
   "metadata": {},
   "source": [
    "<div class=warn>\n",
    "<font color='white'>\n",
    "# Notebook Instructions: \n",
    "\n",
    "1.  Switch off between *driver* and *navigator* roles\n",
    "between each exercise.  Thus, if you are typing Python code on the computer for Exercise 1, your partner should be doing the typing on Exercise 2, and so on.  \n",
    "\n",
    "2. You can and should use a whiteboard to do the physics and variable traces.  \n",
    "\n",
    "4.  Complete the following exercises in-line.\n",
    "\n",
    "5.  Don't be shy about copy/paste to recycle bits of code within the document.  Just make sure you understand what pieces you need and how to modify them.\n",
    "</font>\n",
    "<div/>"
   ]
  },
  {
   "cell_type": "markdown",
   "metadata": {
    "collapsed": true
   },
   "source": [
    "# The goals for the week are to practice: \n",
    "  * using a Jupyter Notebook, \n",
    "  * sharing a document with GitHub \n",
    "  * the following Python fundamentals:\n",
    "      * Monday [linked here](#Monday)\n",
    "        * Intro to Graphing\n",
    "        * Practice the basic elements of programming which appear in virtually all\n",
    "            \"procedural'' programming languages: flow-control constructs\n",
    "            ```if```, ```while```, and ```for```, user-defined functions, and\n",
    "            lists (more traditional languages may only have arrays, not lists, but\n",
    "            the basic ideas are similar.\n",
    "          \n",
    "      * Wednesday [linked here](#Wednesday)\n",
    "        * More Graphing\n",
    "        * File I/O\n",
    "         \n",
    "      * Thursday Lab - Projectile Motion [linked here](#Thursday)\n",
    "        * Lots more Graphing\n",
    "        * Maybe some curve fitting\n",
    "        \n",
    "      * Friday [linked here](#Friday)\n",
    "        * Summary and finishing up"
   ]
  },
  {
   "cell_type": "markdown",
   "metadata": {},
   "source": [
    "# GitHub Instructions \n",
    "\n",
    "2. Save and share the code with each other via GitHub when you switch roles.\n",
    "\n",
    "2.  At the end of the week, it will be left to each partner to individually complete any unfinished session work, and submit the final copy via GitHub."
   ]
  },
  {
   "cell_type": "markdown",
   "metadata": {},
   "source": [
    "### Switch Rolls: \n",
    "*Yes, this is a exercise meant to infuse GitHub (version control) and collaboration into your computing practice!*\n",
    "\n",
    "1.  The driver for Exercise (1) should \n",
    "    * push their changes to their folder in Github, and   \n",
    "2.  The driver for Exercise (2) should \n",
    "    * fork/clone the changes and modify the document.\n",
    "\n",
    "Continue to cycle through this in class, so you get used the using GitHub.  That way its routine - a good coding practice."
   ]
  },
  {
   "cell_type": "markdown",
   "metadata": {},
   "source": [
    "### Data Science at its best\n",
    "\n",
    "Go to the following link: [https://xkcd.com/1950/](https://xkcd.com/1950/)"
   ]
  },
  {
   "cell_type": "markdown",
   "metadata": {},
   "source": [
    "# Monday Feb 5 , 2018 <a id='Monday'></a>"
   ]
  },
  {
   "cell_type": "markdown",
   "metadata": {},
   "source": [
    "<div class=warn>\n",
    "<font color='white'>\n",
    "# Exercise 0: A useful tool for debugging and running cases\n",
    "</font>\n",
    "<div/>"
   ]
  },
  {
   "cell_type": "markdown",
   "metadata": {},
   "source": [
    "To start with, a mundane but very common use for a logical (or _Boolean_) variable is as a\n",
    "switch -- you can \"switch on\" or \"switch off\" certain parts of the program just by setting\n",
    "one logical variable. For instance:\n",
    "\n",
    "```python\n",
    "verbose = False\n",
    "if (verbose):\n",
    "    print (\"Hello!\")\n",
    "```\n",
    "What if instead you wanted to run particular calculations, but you didn't want to run them all at once?  Using the code above as a sample, write a basic calculator code that adds/subtracts/multiplies/divides two numbers.  Include a safetly precaution for the divide case.  I've gotten you started below."
   ]
  },
  {
   "cell_type": "code",
   "execution_count": 16,
   "metadata": {},
   "outputs": [
    {
     "name": "stdout",
     "output_type": "stream",
     "text": [
      "The sum of a and b is: 3\n"
     ]
    }
   ],
   "source": [
    "a=3\n",
    "b=0\n",
    "\n",
    "case = 1\n",
    "\n",
    "if case == 1:\n",
    "    print(\"The sum of a and b is:\",a+b)"
   ]
  },
  {
   "cell_type": "markdown",
   "metadata": {},
   "source": [
    "As you run through examples and exercises, feel free to use this to reuse pieces of code wthout creating new code cells. "
   ]
  },
  {
   "cell_type": "markdown",
   "metadata": {},
   "source": [
    "<div class=warn>\n",
    "<font color='white'>\n",
    "# Exercise 1: Graphing in Jupyter Notebooks\n",
    "</font>\n",
    "<div/>"
   ]
  },
  {
   "cell_type": "markdown",
   "metadata": {},
   "source": [
    "Making graphs directly in a Jupyter Notebook has a few tricks we will learn as we go.  However, the pylab module works great \"out of the box\" in Jupyter, so it is a perfect place to start.  The code for the first example in Newman's Ch 3 has been entered below.  Go ahead and run it, and then __modify it so it is like Newman's second example.__  You are welcome to select more interesting values and play around a bit.  \n",
    "\n",
    "*You',ll notice I've modified Newman's code to suit my style, which I described in detail in __Weekly Session 1__.\n",
    "To briefly remind you of my logic, it is likely I will use many functions from the pylab module, so I may as well import them all.  Also, it makes it very clear where the function is coming from.  As you continue to code using python modules, you will discover there is overlap between functions - for instance, if you want to use pi, you may import it from math, numpy, or scipy.\n",
    "\n",
    "You'll notice that I've given the module pylab a nickname \"plt.\"  __Why?  Good question.__  It is a common shorthand I learned working with the python.org documentation.\n"
   ]
  },
  {
   "cell_type": "code",
   "execution_count": 7,
   "metadata": {},
   "outputs": [
    {
     "data": {
      "image/png": "[encoded data removed]",
      "text/plain": [
       "<matplotlib.figure.Figure at 0x10f0e5c50>"
      ]
     },
     "metadata": {},
     "output_type": "display_data"
    }
   ],
   "source": [
    "import pylab as plt \n",
    "y = [ 1.0, 2.4, 1.7, 0.3, 0.6, 1.8 ]\n",
    "plt.plot(y)\n",
    "plt.show()"
   ]
  },
  {
   "cell_type": "markdown",
   "metadata": {},
   "source": [
    "Now let's make Newman's sine wave.  I have provided the base code.  \n",
    "    a.  __Modify the code below and reproduce the panels in Newman's Figure 3.3.__  \n",
    "    b.  __Add comments to your modifications to show what you're changing.__\n",
    "\n",
    "*Notice that I already imported pylab, and I call it below without importing again.  Notice that I'm nicknaming numpy as I did pylab.*"
   ]
  },
  {
   "cell_type": "code",
   "execution_count": 10,
   "metadata": {},
   "outputs": [
    {
     "data": {
      "image/png": "[encoded data removed]",
      "text/plain": [
       "<matplotlib.figure.Figure at 0x112417dd8>"
      ]
     },
     "metadata": {},
     "output_type": "display_data"
    }
   ],
   "source": [
    "import numpy as np \n",
    "x = linspace(0,10,100)\n",
    "y = sin(x)\n",
    "plt.plot(x,y)\n",
    "plt.ylim(-1.1,1.1)\n",
    "plt.show()"
   ]
  },
  {
   "cell_type": "markdown",
   "metadata": {},
   "source": [
    "<div class=warn>\n",
    "<font color='white'>\n",
    "# Exercise 2: Introduction to NumPy\n",
    "</font>\n",
    "<div/>"
   ]
  },
  {
   "cell_type": "markdown",
   "metadata": {},
   "source": [
    "We haven't yet discussed NumPy, which is the fundamental package for scientific computing with Python.  It is incredibly powerful, and we will use it throughout the semester.  Let's play around with it a bit, using the documentation: https://docs.scipy.org/doc/numpy/reference/generated/numpy.linspace.html\n",
    "\n",
    "*There is an incredible amount of helpful information out there, try to be aware of it as a resource, but don't let it overwhelm you.*"
   ]
  },
  {
   "cell_type": "markdown",
   "metadata": {},
   "source": [
    "# What does the zeros function do?  Is it a list or an array?\n",
    "Run the code and find out.  Play around a bit to see what else you can discover."
   ]
  },
  {
   "cell_type": "code",
   "execution_count": 11,
   "metadata": {
    "scrolled": true
   },
   "outputs": [
    {
     "name": "stdout",
     "output_type": "stream",
     "text": [
      "[ 0.  0.  0.  0.  0.  0.  0.  0.]\n"
     ]
    }
   ],
   "source": [
    "N = 8\n",
    "y = np.zeros(N)\n",
    "print(y)"
   ]
  },
  {
   "cell_type": "markdown",
   "metadata": {},
   "source": [
    "<div class=answer>\n",
    "<div/>\n",
    "Answer here"
   ]
  },
  {
   "cell_type": "markdown",
   "metadata": {},
   "source": [
    "In my own codes, I use the zeros() function frequently when I want a numpy array of a particular length, but I don't yet know what values it will contain.  I fill in those values later in a loop.  "
   ]
  },
  {
   "cell_type": "markdown",
   "metadata": {},
   "source": [
    "# What does the linspace() function do?  Is it a list or an array?\n",
    "Run the code and find out.  Play around a bit to see what else you can discover.  Be sure to check out the cells below that can visualize your x1 and x2 values"
   ]
  },
  {
   "cell_type": "code",
   "execution_count": 13,
   "metadata": {},
   "outputs": [
    {
     "name": "stdout",
     "output_type": "stream",
     "text": [
      "[  0.           1.42857143   2.85714286   4.28571429   5.71428571\n",
      "   7.14285714   8.57142857  10.        ]\n",
      "[ 0.    1.25  2.5   3.75  5.    6.25  7.5   8.75]\n"
     ]
    }
   ],
   "source": [
    "x1 = np.linspace(0, 10, N, endpoint=True)\n",
    "x2 = np.linspace(0, 10, N, endpoint=False)\n",
    "print(x1)\n",
    "print(x2)"
   ]
  },
  {
   "cell_type": "markdown",
   "metadata": {},
   "source": [
    "<div class=answer>\n",
    "<div/>\n",
    "Answer here"
   ]
  },
  {
   "cell_type": "markdown",
   "metadata": {},
   "source": [
    "# Visualize your results (thank scipy.org for the idea)"
   ]
  },
  {
   "cell_type": "code",
   "execution_count": 14,
   "metadata": {},
   "outputs": [
    {
     "data": {
      "image/png": "[encoded data removed]",
      "text/plain": [
       "<matplotlib.figure.Figure at 0x11264a240>"
      ]
     },
     "metadata": {},
     "output_type": "display_data"
    }
   ],
   "source": [
    "plt.plot(x1, y, 'o')\n",
    "plt.plot(x2, y + 0.5, 'o')\n",
    "plt.ylim([-0.5, 1])\n",
    "plt.show()"
   ]
  },
  {
   "cell_type": "markdown",
   "metadata": {},
   "source": [
    "__ What does the line__ ```plt.plot(x2, y + 0.5, 'o')``` __do to distinguish itself from the line above?  This is an awkwardly worded question, but basically what does the__ ```+0.5``` __do?__"
   ]
  },
  {
   "cell_type": "markdown",
   "metadata": {},
   "source": [
    "<div class=answer>\n",
    "<div/>\n",
    "Answer here"
   ]
  },
  {
   "cell_type": "markdown",
   "metadata": {},
   "source": [
    "<div class=warn>\n",
    "<font color='white'>\n",
    "# Exercise 3: Plotting a semi-annulus\n",
    "\n",
    "<div/>"
   ]
  },
  {
   "cell_type": "markdown",
   "metadata": {},
   "source": [
    "Lets make a plot of the following figure of a semi-annulus ![semi-annulus](http://sites.math.rutgers.edu/~greenfie/currentcourses/math291/gifstuff/semiannulus.gif)\n",
    "As the good problem solvers we are, break it up into little pieces."
   ]
  },
  {
   "cell_type": "markdown",
   "metadata": {},
   "source": [
    "# Define four linspaces that describe the x-values of the figure."
   ]
  },
  {
   "cell_type": "code",
   "execution_count": 21,
   "metadata": {},
   "outputs": [],
   "source": [
    "x1=np.linspace(-2,-1,100)\n",
    "x2=np.linspace(-1,1,200)\n",
    "#enter your code here"
   ]
  },
  {
   "cell_type": "code",
   "execution_count": 22,
   "metadata": {
    "collapsed": true
   },
   "outputs": [],
   "source": [
    "#delete this:\n",
    "x3=np.linspace(1,2,100)\n",
    "x4=np.linspace(-2,2,400)"
   ]
  },
  {
   "cell_type": "markdown",
   "metadata": {},
   "source": [
    "# Define the four corresponding y values.\n",
    "The y1 values are trivial (i.e. they are zero).  The y2 values are trickier.  We need some math:\n",
    "\n",
    "$x^2+y^2=r^2$, where $r=1$, solve for y, \n",
    "\n",
    "$y=\\pm \\sqrt{1-x^2}$\n",
    "\n",
    "take the positive root"
   ]
  },
  {
   "cell_type": "code",
   "execution_count": 25,
   "metadata": {
    "collapsed": true
   },
   "outputs": [],
   "source": [
    "y1=np.zeros(100)\n",
    "y2=np.sqrt(1-x2**2)\n",
    "#enter your code here"
   ]
  },
  {
   "cell_type": "code",
   "execution_count": 29,
   "metadata": {},
   "outputs": [],
   "source": [
    "#delete this:\n",
    "y3=np.zeros(100)\n",
    "y4=np.sqrt(4-x4**2)"
   ]
  },
  {
   "cell_type": "markdown",
   "metadata": {},
   "source": [
    "# Now plot your semi-annulus"
   ]
  },
  {
   "cell_type": "code",
   "execution_count": null,
   "metadata": {
    "collapsed": true
   },
   "outputs": [],
   "source": [
    "#Enter your code here"
   ]
  },
  {
   "cell_type": "code",
   "execution_count": 31,
   "metadata": {
    "scrolled": true
   },
   "outputs": [
    {
     "data": {
      "image/png": "[encoded data removed]",
      "text/plain": [
       "<matplotlib.figure.Figure at 0x112765780>"
      ]
     },
     "metadata": {},
     "output_type": "display_data"
    }
   ],
   "source": [
    "plt.plot(x1,y1)\n",
    "plt.plot(x2,y2)\n",
    "plt.plot(x3,y3)\n",
    "plt.plot(x4,y4)\n",
    "    \n",
    "plt.xlim(-2.5,2.5)\n",
    "plt.ylim(-0.5,2.5)\n",
    "plt.show()"
   ]
  },
  {
   "cell_type": "markdown",
   "metadata": {},
   "source": [
    "<div class=warn>\n",
    "<font color='white'>\n",
    "# Exercise 4: Plotting with Functions\n",
    "\n",
    "<div/>"
   ]
  },
  {
   "cell_type": "markdown",
   "metadata": {},
   "source": [
    "In a few exercises, we are going to use this shape as a dart board, do prepare to reuse this code by modifying it so it is within a function declaration that you can call later.  Instead of hard-coding the limits of the semi-annulus, use generalized radii $r_1$ and $r_2$."
   ]
  },
  {
   "cell_type": "code",
   "execution_count": 40,
   "metadata": {},
   "outputs": [
    {
     "name": "stdout",
     "output_type": "stream",
     "text": [
      "[ 0.          1.0786264   1.4585691   1.70057836  1.85931808  1.95517638\n",
      "  1.997228    1.9888888   1.92950556  1.81407241  1.63072983  1.35212975\n",
      "  0.89318751         nan         nan         nan         nan         nan\n",
      "         nan         nan]\n",
      "[ 0.          1.26449518  1.76457954  2.13175484  2.42710965  2.67454458\n",
      "  2.8864097   3.07007786  3.2303622   3.37060035  3.49320746  3.59998539\n",
      "  3.69230769  3.77123617  3.83759732  3.89203404  3.93504125  3.96699069\n",
      "  3.98814812  3.99868486  3.99868486  3.98814812  3.96699069  3.93504125\n",
      "  3.89203404  3.83759732  3.77123617  3.69230769  3.59998539  3.49320746\n",
      "  3.37060035  3.2303622   3.07007786  2.8864097   2.67454458  2.42710965\n",
      "  2.13175484  1.76457954  1.26449518  0.        ]\n"
     ]
    },
    {
     "name": "stderr",
     "output_type": "stream",
     "text": [
      "/Users/mcde2235/anaconda3/lib/python3.6/site-packages/ipykernel_launcher.py:11: RuntimeWarning: invalid value encountered in sqrt\n",
      "  # This is added back by InteractiveShellApp.init_path()\n"
     ]
    },
    {
     "data": {
      "image/png": "[encoded data removed]",
      "text/plain": [
       "<matplotlib.figure.Figure at 0x1124d7a58>"
      ]
     },
     "metadata": {},
     "output_type": "display_data"
    }
   ],
   "source": [
    "#delete this\n",
    "def plot_semiAnnulus(r1,r2,N=100):\n",
    "    '''Make a semiannulus centered at the origin in the region y>0.'''\n",
    "    \n",
    "    x1=np.linspace(-r2,-r1,N)\n",
    "    x2=np.linspace(-r1,r2,2*N)\n",
    "    x3=np.linspace(r1,r2,N)\n",
    "    x4=np.linspace(-r2,r2,4*N)\n",
    "    \n",
    "    y1=np.zeros(N)\n",
    "    y2=np.sqrt(r1**2-x2**2)\n",
    "    y3=np.zeros(N)\n",
    "    y4=np.sqrt(r2**2-x4**2)\n",
    "    print(y2)\n",
    "    print(y4)\n",
    "    \n",
    "    plt.plot(x1,y1)\n",
    "    plt.plot(x2,y2)\n",
    "    plt.plot(x3,y3)\n",
    "    plt.plot(x4,y4)\n",
    "    \n",
    "plot_semiAnnulus(2,4,N=10)\n",
    "plt.xlim(-4.5,4.5)\n",
    "plt.ylim(-0.5,4.5)\n",
    "plt.show()"
   ]
  },
  {
   "cell_type": "markdown",
   "metadata": {},
   "source": [
    "<div class=warn>\n",
    "<font color='white'>\n",
    "# Exercise 5: Functions, points, and lists\n",
    "\n",
    "<div/>"
   ]
  },
  {
   "cell_type": "markdown",
   "metadata": {},
   "source": [
    "Another reason to use logical variables is to organize the calculation\n",
    "of a complicated logical expression, by first calculating intermediate\n",
    "results and then combining them.  This use ties in nicely with our next\n",
    "exercise, which is to practice user defined functions, lists,\n",
    "and loops.\n",
    "\n",
    "Define a function ```in_region(x,y)``` which\n",
    "returns ```True``` if the point $(x,y)$ lies inside of the semi-annulus, or ```False``` otherwise.  First, evaluate separately whether\n",
    "the point lies (1) outside the unit circle, (2) inside the circle of\n",
    "radius 2, and (3) in the upper half plane, as separate logical\n",
    "variables, then combine these results.\n"
   ]
  },
  {
   "cell_type": "code",
   "execution_count": null,
   "metadata": {
    "collapsed": true
   },
   "outputs": [],
   "source": [
    "#enter your function here"
   ]
  },
  {
   "cell_type": "code",
   "execution_count": null,
   "metadata": {
    "collapsed": true
   },
   "outputs": [],
   "source": [
    "#delete this"
   ]
  },
  {
   "cell_type": "markdown",
   "metadata": {},
   "source": [
    "<div class=answer>\n",
    "<div/>\n",
    "Answer here"
   ]
  },
  {
   "cell_type": "markdown",
   "metadata": {},
   "source": [
    "__Check your answers in the code box below.__"
   ]
  },
  {
   "cell_type": "code",
   "execution_count": null,
   "metadata": {
    "collapsed": true
   },
   "outputs": [],
   "source": [
    "#try out the type() function here for each correctly formatted variable above.  \n",
    "# If the variable is wrong, write a correct version"
   ]
  },
  {
   "cell_type": "markdown",
   "metadata": {
    "collapsed": true
   },
   "source": [
    "### Exercise 3: More I/O + a little arithmetic"
   ]
  },
  {
   "cell_type": "markdown",
   "metadata": {},
   "source": [
    "Note that all values read by ```input()``` are considered strings unless otherwise specified.  How will the following two codes differ?"
   ]
  },
  {
   "cell_type": "code",
   "execution_count": null,
   "metadata": {
    "collapsed": true
   },
   "outputs": [],
   "source": [
    "#version 1\n",
    "x=input(\"Enter a complex number:\")\n",
    "print(x)\n",
    "print(type(x))\n",
    "\n",
    "#version 2\n",
    "x=complex(input(\"Enter a complex number:\"))\n",
    "print(x)\n",
    "print(type(x))\n"
   ]
  },
  {
   "cell_type": "markdown",
   "metadata": {},
   "source": [
    "<div class=answer>\n",
    "<div/>\n",
    "Answer here"
   ]
  },
  {
   "cell_type": "markdown",
   "metadata": {},
   "source": [
    "### Exercise 4 (Newman 2.2): Tracing through some variable assignment statements\n",
    "*Trace tables are used by programmers to track the values of variables as they change throughout the program. This is useful when a program is not producing the desired result.* \n",
    "\n",
    "In math, an expression like $x=x+y$ is an *equation* --- that\n",
    "is, a proposition, or claim, about\n",
    "the relationship between the left hand side.  In a programming\n",
    "context, though, an expression like this is an *assignment\n",
    "statement*.  It means ``evaluate the expression on the right hand side,\n",
    "and then assign this as the new value for the variable on the left\n",
    "hand side''.\n",
    "\n",
    "__Do a variable trace table for the following lines of code.  *Answer in the following two cells.*__\n",
    "```python\n",
    "x = 2 \n",
    "y = 4 \n",
    "x = x + y   # notice x on both sides \n",
    "print (x)\n",
    "```"
   ]
  },
  {
   "cell_type": "markdown",
   "metadata": {},
   "source": [
    "<div class=answer>\n",
    "__What do you expect to see printed?  Explain.__\n",
    "<div/>\n",
    "Answer here"
   ]
  },
  {
   "cell_type": "markdown",
   "metadata": {},
   "source": [
    "__Now try the code out in the python cell below.  Notice the green line that starts with a # sign is a comment \n",
    "that will be ignored by the Python interpreter.__"
   ]
  },
  {
   "cell_type": "code",
   "execution_count": null,
   "metadata": {
    "collapsed": true
   },
   "outputs": [],
   "source": [
    "#Type your code here:"
   ]
  },
  {
   "cell_type": "markdown",
   "metadata": {},
   "source": [
    "<div class=answer>\n",
    "__Did you get what you expected?  Explain why not if you got something different.__\n",
    "<div/>\n",
    "\n",
    "Answer here"
   ]
  },
  {
   "cell_type": "markdown",
   "metadata": {},
   "source": [
    "### Exercise 5: A taste of expression evaluation \n",
    "\n",
    "Let us now try out some operations involving real \n",
    "numbers.  In Modern Physics and elsewhere, you learn about Planck's constant,\n",
    "$h\\approx6.626\\,068\\,76\\times 10^{-34}\\,\\mathrm{J\\,s}$, but you will\n",
    "find in quantum mechanics problems that you usually actually need the\n",
    "reduced Planck's constant (read as \"$h$ bar'').  *Indeed, I have gone through periods in my life in which it was exceedingly difficult to write an h without crossing it.*\n",
    "\\begin{equation}\n",
    "\\hbar = \\frac{h}{2\\pi}.\n",
    "\\end{equation}\n",
    "\n",
    "Looking at the following lines of code, what do you expect to see\n",
    "printed?  (You should be able to at least roughly estimate the first\n",
    "digit in your head!)  \n",
    "\n",
    "```python\n",
    "h = 6.62606876e-34   # the \"e\" (for \"exponent\") indicates scientific notation\n",
    "pi = 3.14159265\n",
    "hbar = h / 2 * pi\n",
    "print (\"hbar = \", hbar)\n",
    "```"
   ]
  },
  {
   "cell_type": "markdown",
   "metadata": {},
   "source": [
    "<div class=answer>\n",
    "__Discuss your answer with your partner and type your response below. What do you expect? __\n",
    "<div/>\n",
    "\n",
    "Answer here"
   ]
  },
  {
   "cell_type": "markdown",
   "metadata": {},
   "source": [
    "__Now try it out in Python.__"
   ]
  },
  {
   "cell_type": "code",
   "execution_count": null,
   "metadata": {
    "collapsed": true
   },
   "outputs": [],
   "source": [
    "#Type your code here:"
   ]
  },
  {
   "cell_type": "markdown",
   "metadata": {},
   "source": [
    "<div class=answer>\n",
    "__See if you get what you expected (or explain how you would fix the code if not).__\n",
    "\n",
    "*Hint:* See Newman 2.2.4 if you need help.\n",
    "<div/>\n",
    "\n",
    "Answer here"
   ]
  },
  {
   "cell_type": "markdown",
   "metadata": {},
   "source": [
    "__This should make you appreciate a little more why programming books\n",
    "usually devote at least a full section to the rules of evaluation for\n",
    "arithmetic expressions!__"
   ]
  },
  {
   "cell_type": "markdown",
   "metadata": {},
   "source": [
    "<div class=answer>\n",
    "__ Discuss with your partner in what context you've encountered $\\hbar$.  If you were to explain to your friend, an English major, what it means and why it is important, what would you say?__\n",
    "\n",
    "<div/>\n",
    "\n",
    "Answer here"
   ]
  },
  {
   "cell_type": "markdown",
   "metadata": {},
   "source": [
    "<div class=answer>\n",
    "__Last question for the day - what is the most intriguing idea we've discussed today?  What has been difficult?  Explain.__\n",
    "\n",
    "<div/>\n",
    "\n",
    "Answer here"
   ]
  },
  {
   "cell_type": "markdown",
   "metadata": {},
   "source": [
    "## Wednesday Feb 7, 2018 <a id='Wednesday'></a>\n",
    "\n",
    "#### Instructions \n",
    "1.  Remember to switch roles between exercises.  This is important today to save your work often, since we'll be practicing solving physics problems.  \n",
    "2.  Grab a whiteboard and mock up some pseudo code for each of these problems first!!! \n",
    "3.  Add code and Markdown cells to this document as needed.  Practice documenting your work with comments / Markdown cells.  i.e. Once you've worked out an exercise by hand, include a typed solution to your equations in your python code comments or a Markdown cell (which can be nicely formatted, but don't worry about that yet).\n",
    "\n",
    "We will be talking about classical Newtonian gravitation today.  As a reminder, the force between two bodies with mass is: \n",
    "\n",
    "\\begin{equation}\n",
    "\\vec{F_g}  = -G \\frac{m_1 m_2}{{R_{12}}^2} \\hat{R} _{12}\n",
    "\\end{equation}\n",
    "\n",
    "You will need some astronomical data for these exercises.  I found this a useful reference: [link](http://www.aerospaceweb.org/question/astronomy/q0227.shtml)"
   ]
  },
  {
   "cell_type": "markdown",
   "metadata": {},
   "source": [
    "<div class=warn>\n",
    "To do Exercise 2.2, you will need to more facts from introductory, classical physics.  \n",
    "__ 1.  What is the formula describing centripetal acceleration (and how do you apply it in Newton's Second Law?)__ \n",
    "\n",
    "Answer here\n",
    "\n",
    "__ 2.  How do we define a period of centripetal motion?__ \n",
    "\n",
    "Answer here\n",
    "\n",
    "<div/>"
   ]
  },
  {
   "cell_type": "markdown",
   "metadata": {},
   "source": [
    "### Exercise 6: \n"
   ]
  },
  {
   "cell_type": "markdown",
   "metadata": {},
   "source": [
    "### Exercise 7: "
   ]
  },
  {
   "cell_type": "markdown",
   "metadata": {},
   "source": [
    "### Exercise 8: "
   ]
  },
  {
   "cell_type": "markdown",
   "metadata": {},
   "source": [
    "<div class=warn>\n",
    "__In python vocabulary, what is \"antigravity,\" module or a function?__\n",
    "\n",
    "<div/>\n",
    "\n",
    "Answer here"
   ]
  },
  {
   "cell_type": "markdown",
   "metadata": {},
   "source": [
    "### Exercise 9: "
   ]
  },
  {
   "cell_type": "code",
   "execution_count": null,
   "metadata": {
    "collapsed": true
   },
   "outputs": [],
   "source": [
    "#Type your code for x=1 here:"
   ]
  },
  {
   "cell_type": "markdown",
   "metadata": {},
   "source": [
    "<div class=warn>\n",
    "__Did you get what you expected for $x=1$?__\n",
    "\n",
    "<div/>\n",
    "\n",
    "Answer here"
   ]
  },
  {
   "cell_type": "code",
   "execution_count": null,
   "metadata": {
    "collapsed": true
   },
   "outputs": [],
   "source": [
    "#Repeat the exercise for x=12 here"
   ]
  },
  {
   "cell_type": "markdown",
   "metadata": {},
   "source": [
    "<div class=warn>\n",
    "__Did you get what you expected for $x=12$?__\n",
    "\n",
    "<div/>\n",
    "\n",
    "Answer here"
   ]
  },
  {
   "cell_type": "code",
   "execution_count": null,
   "metadata": {
    "collapsed": true
   },
   "outputs": [],
   "source": [
    "#Type your code for x=1 here:"
   ]
  },
  {
   "cell_type": "markdown",
   "metadata": {},
   "source": [
    "<div class=warn>\n",
    "__Did you get what you expected for $x=1$?__\n",
    "\n",
    "<div/>\n",
    "\n",
    "Answer here"
   ]
  },
  {
   "cell_type": "code",
   "execution_count": null,
   "metadata": {
    "collapsed": true
   },
   "outputs": [],
   "source": [
    "#Repeat the exercise for x=12 here"
   ]
  },
  {
   "cell_type": "markdown",
   "metadata": {},
   "source": [
    "<div class=warn>\n",
    "__Did you get what you expected for $x=12$?__\n",
    "\n",
    "<div/>\n",
    "\n",
    "Answer here"
   ]
  },
  {
   "cell_type": "markdown",
   "metadata": {},
   "source": [
    "### Exercise 10: "
   ]
  },
  {
   "cell_type": "markdown",
   "metadata": {},
   "source": [
    "<div class=warn>\n",
    "__Do your variable trace table here.__\n",
    "\n",
    "<div/>\n",
    "\n",
    "Answer here"
   ]
  },
  {
   "cell_type": "code",
   "execution_count": null,
   "metadata": {
    "collapsed": true
   },
   "outputs": [],
   "source": [
    "#try your code here"
   ]
  },
  {
   "cell_type": "markdown",
   "metadata": {},
   "source": [
    "<div class=warn>\n",
    "__Did you get what you expected?__\n",
    "\n",
    "<div/>\n",
    "\n",
    "Answer here\n",
    "\n",
    "__What would happen if instead you defined n=10 in the code above.  Explain.__\n",
    "\n",
    "Answer here\n",
    "\n",
    "*Notice the usual invitation to try it is NOT below... *"
   ]
  },
  {
   "cell_type": "markdown",
   "metadata": {},
   "source": [
    "__Variation:__ Expressions like the ones above are so common that many of the more recent languages, including Python, have shorthand operators which combine arithmetic and assignment.  How would you rewrite the two expressions inside the loop using\n",
    "the ```+=``` operator?  (*Hint:* See Newman page 27 for the syntax.)  \n",
    "\n",
    "__Comment:__ The purpose of these operators is not just to save typing. It is to make the code more readable, by better matching the\n",
    "conceptual meaning of the statement.  Aren't we really thinking \"take $n$ and add $1$ to it'', not \"find the sum of $n$ and $1$ and use the\n",
    "result as the new value of $n$''?} \n",
    "\n"
   ]
  },
  {
   "cell_type": "code",
   "execution_count": null,
   "metadata": {
    "collapsed": true
   },
   "outputs": [],
   "source": [
    "#try your code here"
   ]
  },
  {
   "cell_type": "markdown",
   "metadata": {},
   "source": [
    "### Please stop here and move onto the pre-lab work due tomorrow at 1pm.  It is mainly a normal HW assignment, that introduces some more concepts.   It ends with a short introduction to turtle() methods."
   ]
  },
  {
   "cell_type": "markdown",
   "metadata": {},
   "source": [
    "## Thursday, Feb 8, 2018 <a id='Thursday'></a>\n",
    "\n",
    "Lab!\n"
   ]
  },
  {
   "cell_type": "markdown",
   "metadata": {},
   "source": [
    "## Friday, Feb 9, 2018 <a id='Friday'></a>\n"
   ]
  },
  {
   "cell_type": "markdown",
   "metadata": {},
   "source": [
    "### Exercise 11: Intro to Sequence types\n",
    "Study the code below.  Do a variable trace table of the code outputs.\n",
    "```python\n",
    "\n",
    "import numpy as np\n",
    "\n",
    "mystring = \"12345\"\n",
    "print(mystring[3])\n",
    "\n",
    "mylist = [1,2,3,4,5]\n",
    "print(mylist[3])\n",
    "\n",
    "myarray = np.array([1,2,3,4,5])\n",
    "print(myarray[3])\n",
    "```"
   ]
  },
  {
   "cell_type": "markdown",
   "metadata": {},
   "source": [
    "<div class=warn>\n",
    "__Do your variable trace table here.__\n",
    "\n",
    "<div/>\n",
    "\n",
    "Answer here"
   ]
  },
  {
   "cell_type": "code",
   "execution_count": null,
   "metadata": {
    "collapsed": true
   },
   "outputs": [],
   "source": [
    "#try your code here"
   ]
  },
  {
   "cell_type": "markdown",
   "metadata": {},
   "source": [
    "<div class=warn>\n",
    "__Did you get what you expected?__\n",
    "\n",
    "<div/>\n",
    "\n",
    "Answer here\n",
    "\n",
    "__What would happen if instead you defined n=10 in the code above.  Explain.__\n",
    "\n",
    "Answer here"
   ]
  },
  {
   "cell_type": "markdown",
   "metadata": {},
   "source": [
    "### Exercise 12: Lists + If Statements\n",
    "There is a handy kind of _if_ that lets you test items in a list:"
   ]
  },
  {
   "cell_type": "code",
   "execution_count": null,
   "metadata": {
    "collapsed": true
   },
   "outputs": [],
   "source": [
    "name = 'Terry'\n",
    "cast = ['John', 'Eric', 'Terry', 'Graham', 'Terry', 'Michael']\n",
    "if name in cast:\n",
    "    print(\"yes,\", name, \"is here\")"
   ]
  },
  {
   "cell_type": "markdown",
   "metadata": {},
   "source": [
    "Write a single cell code that tells you whether 0 is part of the following list:\n",
    "```mylist = [3,4,5,6]```"
   ]
  },
  {
   "cell_type": "code",
   "execution_count": null,
   "metadata": {
    "collapsed": true
   },
   "outputs": [],
   "source": [
    "#Try your code here"
   ]
  },
  {
   "cell_type": "markdown",
   "metadata": {},
   "source": [
    "### Exercise 13: Lists + the all-powerful _for_ loop\n",
    "\n",
    "You met the for loop in lab yesterday, if not previously.  There are a number of ways to use the _for_ loop in python. The first is most familiar if you have programmed before:"
   ]
  },
  {
   "cell_type": "code",
   "execution_count": null,
   "metadata": {
    "collapsed": true
   },
   "outputs": [],
   "source": [
    "for i in range(10):\n",
    "    print(i)"
   ]
  },
  {
   "cell_type": "markdown",
   "metadata": {},
   "source": [
    "Below is an example of some code that prints a message for each name in a list:"
   ]
  },
  {
   "cell_type": "code",
   "execution_count": null,
   "metadata": {
    "collapsed": true
   },
   "outputs": [],
   "source": [
    "# Solution\n",
    "prizes=[\"teddy bears\",\"lions\",\"barbie dolls\",\"monster trucks\"]\n",
    "n=2\n",
    "for prize in prizes:\n",
    "    print(\"Congratulations, you have won {} {}\".format(n, prize))\n",
    "    n+=1\n",
    "print(\"You lucky dog!\")"
   ]
  },
  {
   "cell_type": "markdown",
   "metadata": {},
   "source": [
    "#### As the example above, write a for loop that prints a message for each name in a list.  Bonus points for physics or Monty Python references."
   ]
  },
  {
   "cell_type": "code",
   "execution_count": null,
   "metadata": {
    "collapsed": true
   },
   "outputs": [],
   "source": [
    "#try your code here"
   ]
  },
  {
   "cell_type": "markdown",
   "metadata": {},
   "source": [
    "### Exercise 13: Array slicing\n",
    "We will use arrays as one of the primary data types in this course. It is specifically built for numeric data and makes many mathematical operations very fast.  Here is a first example of slicing - see Newman 2.4 for more."
   ]
  },
  {
   "cell_type": "code",
   "execution_count": null,
   "metadata": {
    "collapsed": true
   },
   "outputs": [],
   "source": [
    "import numpy as np\n",
    "small_array = np.array([1,2,3,4,5,6,7,8,9])\n",
    "\n",
    "print(small_array)\n",
    "print(small_array[:])\n",
    "print(small_array[3])\n",
    "print(small_array[-1])\n",
    "\n",
    "#continue the theme and play around with the variations on the code below."
   ]
  },
  {
   "cell_type": "markdown",
   "metadata": {},
   "source": [
    "### Exercise 14: More array slicing\n",
    "We will use arrays as one of the primary data types in this course. It is specifically built for numeric data and makes many mathematical operations very fast."
   ]
  },
  {
   "cell_type": "code",
   "execution_count": null,
   "metadata": {
    "collapsed": true
   },
   "outputs": [],
   "source": [
    "import numpy as np\n",
    "bigarray = np.array([[1,2,3,4,5,6,7,8,9],[2,4,6,8,10,12,14,16,18],[3,6,9,12,15,18,21,24,27]])\n",
    "bigarray"
   ]
  },
  {
   "cell_type": "code",
   "execution_count": null,
   "metadata": {
    "collapsed": true
   },
   "outputs": [],
   "source": [
    "# select all rows in the column 4:\n",
    "bigarray[:,4]"
   ]
  },
  {
   "cell_type": "code",
   "execution_count": null,
   "metadata": {
    "collapsed": true
   },
   "outputs": [],
   "source": [
    "# select row 2:\n",
    "bigarray[2,:]"
   ]
  },
  {
   "cell_type": "code",
   "execution_count": null,
   "metadata": {
    "collapsed": true
   },
   "outputs": [],
   "source": [
    "# select columns 4 through 6:\n",
    "bigarray[:,4:6]"
   ]
  },
  {
   "cell_type": "markdown",
   "metadata": {},
   "source": [
    "Why only two columns, aren't 4 through 6 three values: 4,5,6? It turns out \"slicing\" is like cutting with a knife, so the slice cuts _between_ the actual data in the array. The figure below helps illustrate this:\n",
    "<img src=\"http://www.bogotobogo.com/python/images/python_strings/string_diagram.png\">\n",
    "The figure also shows how negative slices work: they count backwards from the end of the array."
   ]
  },
  {
   "cell_type": "code",
   "execution_count": null,
   "metadata": {
    "collapsed": true
   },
   "outputs": [],
   "source": [
    "bigarray[:,-1]"
   ]
  },
  {
   "cell_type": "code",
   "execution_count": null,
   "metadata": {
    "collapsed": true
   },
   "outputs": [],
   "source": [
    "bigarray[:,-3:-1]"
   ]
  },
  {
   "cell_type": "markdown",
   "metadata": {
    "collapsed": true
   },
   "source": [
    "Notice that a slice that uses a range of negative values, still goes from right to left (largest negative first)."
   ]
  },
  {
   "cell_type": "code",
   "execution_count": null,
   "metadata": {
    "collapsed": true
   },
   "outputs": [],
   "source": [
    "bigarray[:,-1:-3]"
   ]
  },
  {
   "cell_type": "markdown",
   "metadata": {},
   "source": [
    "Otherwise it returns an empty array.\n",
    "\n",
    "The last tidbit of slicing is skip-slicing or strided-slicing. You can add a _third_ element after a second colon to specify the stride of the slice (i.e. how many slices to skip):"
   ]
  },
  {
   "cell_type": "code",
   "execution_count": null,
   "metadata": {
    "collapsed": true
   },
   "outputs": [],
   "source": [
    "bigarray[:,0:4:2]"
   ]
  },
  {
   "cell_type": "markdown",
   "metadata": {},
   "source": [
    "The first two numbers can be left out if you just want to get every other (or every nth) item:"
   ]
  },
  {
   "cell_type": "code",
   "execution_count": null,
   "metadata": {
    "collapsed": true
   },
   "outputs": [],
   "source": [
    "bigarray[:,::2]"
   ]
  },
  {
   "cell_type": "code",
   "execution_count": null,
   "metadata": {
    "collapsed": true
   },
   "outputs": [],
   "source": [
    "bigarray[:,::3]"
   ]
  },
  {
   "cell_type": "markdown",
   "metadata": {},
   "source": [
    "These are all really useful when you need them, but it doesn't turn out to be needed often."
   ]
  },
  {
   "cell_type": "markdown",
   "metadata": {},
   "source": [
    "### Exercise 11: Applications of If control structure"
   ]
  },
  {
   "cell_type": "markdown",
   "metadata": {},
   "source": [
    "Use the _if_, _elif_, _else_ structure shown on Page 31 to write a cell that asks for a number and then prints one of the following statements if it is true: \"your number is even\", \"your number is odd\" or \"your number is even and is 42\". Hints: you will have to change the type of the input after it's entered. And, the order of your tests matters."
   ]
  },
  {
   "cell_type": "markdown",
   "metadata": {},
   "source": [
    "__Example:__ Write a code that asks the user for an integer number.  If that number is the answer to life, the universe, and everything, let them know right away.  If instead, it is merely odd or even, that is useful too, and may be tested with boolean algebra.  Play around with the modulo operator (Newman pg. 23) to test these numbers."
   ]
  },
  {
   "cell_type": "code",
   "execution_count": null,
   "metadata": {
    "collapsed": true
   },
   "outputs": [],
   "source": [
    "# Solution\n",
    "entry = input(\"Enter your integer number: \")\n",
    "number = int(entry)\n",
    "if number == 42:\n",
    "    print(\"your number is the answer to life, the universe, and everything\")\n",
    "elif (number % 2) == 0:\n",
    "    print(\"your number is even\")\n",
    "else:\n",
    "    print(\"your number is odd\")"
   ]
  },
  {
   "cell_type": "code",
   "execution_count": null,
   "metadata": {
    "collapsed": true
   },
   "outputs": [],
   "source": [
    "# Solution (alternate)\n",
    "entry = input(\"Enter your number: \")\n",
    "number = float(entry)\n",
    "if (number % 2) == 0:\n",
    "    if number == 42:\n",
    "        print(\"your number is 42 and even\")\n",
    "    else: \n",
    "        print(\"your number is even\")\n",
    "else:\n",
    "    print(\"your number is odd\")"
   ]
  },
  {
   "cell_type": "markdown",
   "metadata": {
    "collapsed": true
   },
   "source": [
    "__ Your turn: __ Modify the code below to be more interesting.  \n",
    "1.  For instance, use the if, elif, else structure to tell the user more about how their number compares to $\\pi$.  \n",
    "2.  Next, add an input statement, and have the user enter a floating point number.\n",
    "3.  Finally, add a little arithmetic, so you can tell the user even more, such as the number of multiples of $\\pi$. \n",
    "\n",
    "```python\n",
    "import math\n",
    "value = 3.14159\n",
    "if value > math.pi:\n",
    "    print(\"bigger\")\n",
    "```"
   ]
  },
  {
   "cell_type": "code",
   "execution_count": null,
   "metadata": {
    "collapsed": true
   },
   "outputs": [],
   "source": [
    "#try your code here:"
   ]
  },
  {
   "cell_type": "markdown",
   "metadata": {},
   "source": [
    "### Exercise 12: Caution on the While Loop\n",
    "\n",
    "The _while_ loop is occasionally useful, but can be hard to get right. These rules will help, courtesy of <a href=\"http://learnpythonthehardway.org/book/ex33.html\">Learn Python the Hard Way</a>:\n",
    "1. Make sure that you use while-loops sparingly. Usually a for-loop is better.\n",
    "2. Review your while statements and make sure that the boolean test will become False at some point.\n",
    "3. When in doubt, print out your test variable at the top and bottom of the while-loop to see what it's doing.\n",
    "\n",
    "An example of this last trick is shown here in a simple while loop that adds a value to a list each time through. Notice the `.append` method that adds items to the list."
   ]
  },
  {
   "cell_type": "code",
   "execution_count": null,
   "metadata": {
    "collapsed": true
   },
   "outputs": [],
   "source": [
    "i = 0\n",
    "numbers = []\n",
    "\n",
    "while i < 6:\n",
    "    print(\"At the top i is {}\".format(i))\n",
    "    numbers.append(i)\n",
    "\n",
    "    i = i + 1\n",
    "    print(\"Numbers now: \", numbers)\n",
    "    print(\"At the bottom i is {}\".format(i))\n",
    "\n",
    "\n",
    "print(\"The numbers after loop: \",numbers)"
   ]
  },
  {
   "cell_type": "markdown",
   "metadata": {},
   "source": [
    "There is another very clever way to use a for loop, it is called a list comprehension. This is a way to build a list by running a loop and saving the output in a list. You could do the same thing with a loop and the `.append` method, but it is very simple to just write a one-line version:"
   ]
  },
  {
   "cell_type": "code",
   "execution_count": null,
   "metadata": {
    "collapsed": true
   },
   "outputs": [],
   "source": [
    "# create a list of the squares\n",
    "[x**2 for x in range(10)]"
   ]
  },
  {
   "cell_type": "code",
   "execution_count": null,
   "metadata": {
    "collapsed": true
   },
   "outputs": [],
   "source": [
    "# or add the email domain to a list of users:\n",
    "[name+\"@pacific.edu\" for name in ['hall','dawes','mcdermott','brosing','duncan']]\n",
    "\n",
    "#warning, these *may* not be real email addresses... "
   ]
  },
  {
   "cell_type": "markdown",
   "metadata": {},
   "source": [
    "Write a script that inputs from the user a set of student names and grades.  After the user is finished inputing data,  output a line for each student that says “Student \"name\" has a grade of \"grade\"”.  Once you get this working, add a feature that allows the user to enter \"end\" for the name to have the input loop stop.\n",
    "\n"
   ]
  },
  {
   "cell_type": "code",
   "execution_count": null,
   "metadata": {
    "collapsed": true
   },
   "outputs": [],
   "source": [
    "# Solution\n",
    "N=3\n",
    "Names=[None]*N\n",
    "Grades=[None]*N\n",
    "for n in range(N):\n",
    "    Names[n]=input(\"Enter a student name: \")\n",
    "    Grades[n]=float(input(\"Enter the numeric grade for that student: \"))\n",
    "for (name, grade) in zip(Names,Grades):\n",
    "    print(\"Student {} has a grade of {}\".format(name,grade))"
   ]
  },
  {
   "cell_type": "code",
   "execution_count": null,
   "metadata": {
    "collapsed": true
   },
   "outputs": [],
   "source": [
    "# Solution\n",
    "N=3\n",
    "Names=[]\n",
    "Grades=[]\n",
    "for n in range(N):\n",
    "    Names.append(input(\"Enter a student name: \"))\n",
    "    Grades.append(float(input(\"Enter the numeric grade for that student: \")))\n",
    "for name, grade in zip(Names,Grades):\n",
    "    print(\"Student {} has a grade of {}\".format(name,grade))\n",
    "    "
   ]
  },
  {
   "cell_type": "code",
   "execution_count": null,
   "metadata": {
    "collapsed": true
   },
   "outputs": [],
   "source": [
    "# Solution\n",
    "Names=[]\n",
    "Grades=[]\n",
    "n=0\n",
    "while 1:\n",
    "    Names.append(input(\"Enter a student name: \"))\n",
    "    if Names[n] == \"end\":\n",
    "        break\n",
    "    Grades.append(float(input(\"Enter the numeric grade for {}: \".format(Names[n]))))\n",
    "    n+=1\n",
    "\n",
    "for name, grade in zip(Names,Grades):\n",
    "    print(\"Student {} has a grade of {}\".format(name,grade))\n",
    "\n",
    "\n"
   ]
  },
  {
   "cell_type": "markdown",
   "metadata": {},
   "source": [
    "Write a funciton to take time, acceleration, initial velocity and initial position and return final position and final velocity. (You haven't seen any examples of functions returning two values -- Probably what you think would be the most natural way to do it is the way Python does it.) Also, make it so the default values of initial velocity and initial position are zero.  "
   ]
  },
  {
   "cell_type": "code",
   "execution_count": null,
   "metadata": {
    "collapsed": true
   },
   "outputs": [],
   "source": [
    "# Solution\n",
    "# function to calculate the position and velocity for contant acceleration motion\n",
    "# inputs: time, acceleration, initial vel, initial pos\n",
    "# outputs: position, velocity\n",
    "def position(t, a, v_i=0, x_i=0):\n",
    "    x=x_i+v_i*t+0.5*a*t**2\n",
    "    v=v_i+a*t\n",
    "    return x,v"
   ]
  },
  {
   "cell_type": "code",
   "execution_count": null,
   "metadata": {
    "collapsed": true
   },
   "outputs": [],
   "source": [
    "# Solution\n",
    "a=10\n",
    "b=20\n",
    "c=3\n",
    "x=5\n",
    "y,v =position(x, a, b, c)\n",
    "print(y,v)\n",
    "\n"
   ]
  },
  {
   "cell_type": "markdown",
   "metadata": {},
   "source": [
    "Function arguments can be any kind of object, including other functions. "
   ]
  },
  {
   "cell_type": "markdown",
   "metadata": {},
   "source": [
    "## Files for input and output\n",
    "\n",
    "Using Example 2.6 as a guide, write a piece of code to read a text file that holds time values, use your function from above to calculate position and velocity for each time, and then output a file that has columns for time, position, velocity, separate by commas. Format the output so that it is in Scientific Notation with 6 sig figs.  For this task, don't use the loadtxt function. (You'll have to create the text file with time values.  You can \"hard wire\" the values of a, v_i, and x_i) "
   ]
  },
  {
   "cell_type": "code",
   "execution_count": null,
   "metadata": {
    "collapsed": true
   },
   "outputs": [],
   "source": [
    "# Solution\n",
    "# Program to read time from input file, calculate position and velocity and write to output file\n",
    "#\n",
    "# Define file names, open files\n",
    "InFile=\"time.txt\"\n",
    "OutFile=\"PositionVelocityData.txt\"\n",
    "InFileHandle=open(InFile,'r')\n",
    "OutFileHandle=open(OutFile,'w')\n",
    "time=[]\n",
    "Input=[]\n",
    "\n",
    "# Read from input file\n",
    "# first, read all the lines at once\n",
    "Input = InFileHandle.readlines()\n",
    "\n",
    "# Now loop through input converting each line to a number and storing in time list\n",
    "\n",
    "for line in Input:\n",
    "    print(line.strip())\n",
    "    time.append(float(line))\n",
    "\n",
    "InFileHandle.close()\n",
    "OutFileHandle.close()"
   ]
  },
  {
   "cell_type": "code",
   "execution_count": null,
   "metadata": {
    "collapsed": true
   },
   "outputs": [],
   "source": [
    "# Solution\n",
    "# Program to read time from input file, calculate position and velocity and write to output file\n",
    "# Alternate way to read in file, one line at a time\n",
    "#\n",
    "# Define file names, open files\n",
    "InFile=\"time.txt\"\n",
    "OutFile=\"PositionVelocityData.txt\"\n",
    "InFileHandle=open(InFile,'r')\n",
    "OutFileHandle=open(OutFile,'w')\n",
    "time=[]\n",
    "\n",
    "# Read from input file\n",
    "# alternatively, read one line at a time, but now I have to worry about reaching the end\n",
    "line = InFileHandle.readline().strip()\n",
    "while line !=\"\":\n",
    "# Now loop through input converting each line to a number and storing in time list\n",
    "    print(line)\n",
    "    time.append(float(line))\n",
    "    line=InFileHandle.readline().strip()\n",
    "\n",
    "InFileHandle.close()\n",
    "OutFileHandle.close()"
   ]
  },
  {
   "cell_type": "code",
   "execution_count": null,
   "metadata": {
    "collapsed": true
   },
   "outputs": [],
   "source": [
    "# Solution\n",
    "# Program to read time from input file, calculate position and velocity and write to output file\n",
    "# Pythonic way to read in file\n",
    "#\n",
    "# Define file names, open files\n",
    "InFile=\"time.txt\"\n",
    "OutFile=\"PositionVelocityData.txt\"\n",
    "OutFileHandle=open(OutFile,'w')\n",
    "time=[]\n",
    "\n",
    "# Read from input file, the Python way\n",
    "with open(InFile) as f:\n",
    "    for line in f:\n",
    "# Now loop through input converting each line to a number and storing in time list\n",
    "        print(line.strip())\n",
    "        time.append(float(line.strip()))\n",
    "\n",
    "# loop over time and calculate positon and velocity using already defined function position()\n",
    "# set a, v_i and x_i by hand. Eventually read from file\n",
    "a=9.8\n",
    "v_i=2\n",
    "x_i=10\n",
    "positions=[]\n",
    "velocities=[]\n",
    "\n",
    "for t in time:\n",
    "    x,v = position(t, a, v_i, x_i)\n",
    "    positions.append(x)\n",
    "    velocities.append(v)\n",
    "\n",
    "# write out to file.  Note, this could be done inside previous loop\n",
    "print(\"Name of Output file: \"+OutFileHandle.name)\n",
    "\n",
    "for i in range(5): \n",
    "#    OutFileHandle.write('test')\n",
    "    for t,x,v in zip(time,positions,velocities):\n",
    "        print(\"{:6e}, {:6e}, {:6e}\\n\".format(t,x,v))\n",
    "        OutFileHandle.write(\"{:6e}, {:6e}, {:6e}\\n\".format(t,x,v))\n",
    "\n",
    "OutFileHandle.close()"
   ]
  }
 ],
 "metadata": {
  "celltoolbar": "Raw Cell Format",
  "kernelspec": {
   "display_name": "Python 3",
   "language": "python",
   "name": "python3"
  },
  "language_info": {
   "codemirror_mode": {
    "name": "ipython",
    "version": 3
   },
   "file_extension": ".py",
   "mimetype": "text/x-python",
   "name": "python",
   "nbconvert_exporter": "python",
   "pygments_lexer": "ipython3",
   "version": "3.6.3"
  }
 },
 "nbformat": 4,
 "nbformat_minor": 1
}
